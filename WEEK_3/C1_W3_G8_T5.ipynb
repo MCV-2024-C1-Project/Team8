{
 "cells": [
  {
   "cell_type": "markdown",
   "id": "243ad852fc68d7d2",
   "metadata": {},
   "source": "# C1 W3 Group 8 - Task 5"
  },
  {
   "cell_type": "code",
   "id": "de5ce6dca63723b3",
   "metadata": {},
   "source": [
    "from tqdm import tqdm\n",
    "from PIL import Image\n",
    "import pickle\n",
    "from src.background import get_painting_masks, crop_image_by_mask\n",
    "from src.data import GT_QSD2_W3_LIST\n",
    "from src.denoising import denoise_image\n",
    "from src.paths import QSD2_W3_PATH, WEEK_3_RESULTS_PATH, BBDD_PATH, QST1_W3_PATH, QST2_W3_PATH\n",
    "from src.retrieval import find_top_k_similar_images\n",
    "from src.utils import show_images"
   ],
   "outputs": [],
   "execution_count": null
  },
  {
   "cell_type": "code",
   "id": "873d8433ca1027ef",
   "metadata": {},
   "source": [
    "query_t1_image_PIL_list = [Image.open(query_img_path) for query_img_path in sorted(QST1_W3_PATH.glob(\"*.jpg\"))]  # Load once\n",
    "query_t2_image_PIL_list = [Image.open(query_img_path) for query_img_path in sorted(QST2_W3_PATH.glob(\"*.jpg\"))]  # Load once\n",
    "database_image_PIL_list = [Image.open(db_img_path) for db_img_path in sorted(BBDD_PATH.glob(\"*.jpg\"))]  # Load once"
   ],
   "outputs": [],
   "execution_count": null
  },
  {
   "metadata": {},
   "cell_type": "markdown",
   "source": "###  Denoising",
   "id": "c9e85629342796fa"
  },
  {
   "cell_type": "code",
   "id": "bf807d0a5410e42a",
   "metadata": {},
   "source": [
    "# Apply median filter\n",
    "query_t1_image_PIL_list = [denoise_image(image) for image in query_t1_image_PIL_list]\n",
    "query_t2_image_PIL_list = [denoise_image(image) for image in query_t2_image_PIL_list]"
   ],
   "outputs": [],
   "execution_count": null
  },
  {
   "metadata": {},
   "cell_type": "markdown",
   "source": "### T1 : Retrieval",
   "id": "9483a112d2dee3cf"
  },
  {
   "cell_type": "code",
   "id": "d7b24dc7",
   "metadata": {},
   "source": "retrieved_images_t1 = find_top_k_similar_images(query_t1_image_PIL_list, database_image_PIL_list, k=10)",
   "outputs": [],
   "execution_count": null
  },
  {
   "metadata": {},
   "cell_type": "code",
   "source": [
    "method1_qst1_path = WEEK_3_RESULTS_PATH / \"Task_4\" / \"m1_qst1.pkl\"\n",
    "with open(method1_qst1_path, 'wb') as f:\n",
    "    pickle.dump(retrieved_images_t1, f)\n"
   ],
   "id": "94ca488b31d014ac",
   "outputs": [],
   "execution_count": null
  },
  {
   "metadata": {},
   "cell_type": "markdown",
   "source": "### T2 : Background removal",
   "id": "d91d88c6660f8eab"
  },
  {
   "metadata": {},
   "cell_type": "code",
   "source": [
    "# Get painting masks for T2\n",
    "painting_masks_list_t2 = []\n",
    "pbar = tqdm(zip(sorted(QST2_W3_PATH.glob(\"*.jpg\")), query_t2_image_PIL_list))\n",
    "for name, image in pbar:\n",
    "    pbar.set_description(f\"Processing {name.stem}\")\n",
    "    painting_masks = get_painting_masks(image)    \n",
    "    painting_masks_list_t2.append(painting_masks)"
   ],
   "id": "53b12a884ca109e0",
   "outputs": [],
   "execution_count": null
  },
  {
   "metadata": {},
   "cell_type": "code",
   "source": [
    "method1_qst2_masks_path = WEEK_3_RESULTS_PATH / \"Task_4\" / \"masks_qst2\"\n",
    "import numpy as np\n",
    "for idx, mask in enumerate(painting_masks_list_t2):\n",
    "    image_mask = Image.fromarray(mask.astype(np.uint8))\n",
    "    image_mask.save(method1_qst2_masks_path / f\"{idx:05}.png\")\n",
    "    "
   ],
   "id": "8f3ddba02d543027",
   "outputs": [],
   "execution_count": null
  },
  {
   "metadata": {},
   "cell_type": "code",
   "source": [
    "cropped_query_image_list_t2 = []\n",
    "pbar = tqdm(zip(sorted(QST2_W3_PATH.glob(\"*.jpg\")), query_t2_image_PIL_list, painting_masks_list_t2))\n",
    "for name, image, predicted_mask in pbar:\n",
    "    pbar.set_description(f\"Splitting {name.stem}\")\n",
    "    image_list = crop_image_by_mask(image, predicted_mask)\n",
    "    cropped_query_image_list_t2.append(image_list)"
   ],
   "id": "2bde71f2d917ae19",
   "outputs": [],
   "execution_count": null
  },
  {
   "metadata": {},
   "cell_type": "markdown",
   "source": "### T2 : Retrieval",
   "id": "fa47ec22121036c6"
  },
  {
   "metadata": {},
   "cell_type": "code",
   "source": [
    "retrieved_images_t2 = find_top_k_similar_images(cropped_query_image_list_t2, database_image_PIL_list, k=10)\n",
    "print(retrieved_images_t2)\n",
    "method1_qst2_path = WEEK_3_RESULTS_PATH / \"Task_4\" / \"m1_qst2.pkl\"\n",
    "with open(method1_qst2_path, 'wb') as f:\n",
    "    pickle.dump(retrieved_images_t2, f)"
   ],
   "id": "baf8d1b6d0ca9a84",
   "outputs": [],
   "execution_count": null
  },
  {
   "metadata": {},
   "cell_type": "code",
   "source": [
    "for paintings_image, retrieved_paintings in zip(cropped_query_image_list_t2, retrieved_images_t2):\n",
    "    print(retrieved_paintings)\n",
    "    show_images(paintings_image)"
   ],
   "id": "b7db664dca4dcb1a",
   "outputs": [],
   "execution_count": null
  }
 ],
 "metadata": {
  "kernelspec": {
   "display_name": "venv",
   "language": "python",
   "name": "python3"
  },
  "language_info": {
   "codemirror_mode": {
    "name": "ipython",
    "version": 3
   },
   "file_extension": ".py",
   "mimetype": "text/x-python",
   "name": "python",
   "nbconvert_exporter": "python",
   "pygments_lexer": "ipython3",
   "version": "3.12.7"
  }
 },
 "nbformat": 4,
 "nbformat_minor": 5
}
