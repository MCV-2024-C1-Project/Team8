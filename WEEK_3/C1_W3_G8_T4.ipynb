{
 "cells": [
  {
   "cell_type": "markdown",
   "id": "243ad852fc68d7d2",
   "metadata": {},
   "source": "# C1 W3 Group 8 - Task 4"
  },
  {
   "metadata": {},
   "cell_type": "code",
   "source": [
    "from tqdm import tqdm\n",
    "from PIL import Image\n",
    "\n",
    "from src.background import get_painting_masks\n",
    "from src.denoising import denoise_image\n",
    "from src.paths import QSD2_W3_PATH, WEEK_3_RESULTS_PATH\n",
    "from src.utils import show_images"
   ],
   "id": "de5ce6dca63723b3",
   "outputs": [],
   "execution_count": null
  },
  {
   "metadata": {},
   "cell_type": "code",
   "source": [
    "query_d2_image_PIL_list = [Image.open(query_img_path) for query_img_path in sorted(QSD2_W3_PATH.glob(\"*.jpg\"))]  # Load once\n",
    "query_d2_mask_PIL_list = [Image.open(query_img_path) for query_img_path in sorted(QSD2_W3_PATH.glob(\"*.png\"))]  # Load once"
   ],
   "id": "873d8433ca1027ef",
   "outputs": [],
   "execution_count": null
  },
  {
   "metadata": {},
   "cell_type": "code",
   "source": [
    "# Apply median filter\n",
    "query_d2_image_PIL_list = [denoise_image(image) for image in query_d2_image_PIL_list]"
   ],
   "id": "bf807d0a5410e42a",
   "outputs": [],
   "execution_count": null
  },
  {
   "metadata": {},
   "cell_type": "code",
   "source": [
    "# Parameters\n",
    "mask_output_folder = WEEK_3_RESULTS_PATH / \"Task_3\" / \"final_results\"\n",
    "mask_output_folder.mkdir(parents=True, exist_ok=True)\n",
    "\n",
    "painting_masks_list = []\n",
    "pbar = tqdm(zip(sorted(QSD2_W3_PATH.glob(\"*.jpg\")), query_d2_image_PIL_list, query_d2_mask_PIL_list))\n",
    "for name, image, gt_mask in pbar:\n",
    "    pbar.set_description(f\"Processing {name.stem}\")\n",
    "    painting_masks = get_painting_masks(image)    \n",
    "    painting_masks_list.append(painting_masks)"
   ],
   "id": "790b5e8351d4ca52",
   "outputs": [],
   "execution_count": null
  },
  {
   "metadata": {},
   "cell_type": "code",
   "source": [
    "pbar = tqdm(zip(sorted(QSD2_W3_PATH.glob(\"*.jpg\")), query_d2_image_PIL_list, query_d2_mask_PIL_list, painting_masks_list))\n",
    "\n",
    "for name, image, gt_mask, predicted_mask in pbar:\n",
    "    pbar.set_description(f\"Showing {name.stem}\")\n",
    "    show_images([image, gt_mask, predicted_mask])"
   ],
   "id": "c7a8ded991f696ab",
   "outputs": [],
   "execution_count": null
  }
 ],
 "metadata": {
  "kernelspec": {
   "display_name": "venv",
   "language": "python",
   "name": "python3"
  },
  "language_info": {
   "codemirror_mode": {
    "name": "ipython",
    "version": 3
   },
   "file_extension": ".py",
   "mimetype": "text/x-python",
   "name": "python",
   "nbconvert_exporter": "python",
   "pygments_lexer": "ipython3",
   "version": "3.12.7"
  }
 },
 "nbformat": 4,
 "nbformat_minor": 5
}
