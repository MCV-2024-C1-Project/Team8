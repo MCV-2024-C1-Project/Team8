{
 "cells": [
  {
   "cell_type": "markdown",
   "id": "243ad852fc68d7d2",
   "metadata": {},
   "source": [
    "# C1 W3 Group 8 - Task 4"
   ]
  },
  {
   "cell_type": "code",
   "execution_count": 1,
   "id": "de5ce6dca63723b3",
   "metadata": {},
   "outputs": [],
   "source": [
    "from tqdm import tqdm\n",
    "from PIL import Image\n",
    "\n",
    "from src.background import get_painting_masks, crop_image_by_mask\n",
    "from src.denoising import denoise_image\n",
    "from src.paths import QSD2_W3_PATH, WEEK_3_RESULTS_PATH, BBDD_PATH\n",
    "from src.utils import show_images\n",
    "from src.descriptors import LBPDescriptor, DCTDescriptor, WaveletDescriptor, GaborDescriptor\n",
    "from src.similarities import HistogramIntersection, CosineSimilarity"
   ]
  },
  {
   "cell_type": "code",
   "execution_count": 2,
   "id": "873d8433ca1027ef",
   "metadata": {},
   "outputs": [],
   "source": [
    "query_d2_image_PIL_list = [Image.open(query_img_path) for query_img_path in sorted(QSD2_W3_PATH.glob(\"*.jpg\"))]  # Load once\n",
    "query_d2_mask_PIL_list = [Image.open(query_img_path) for query_img_path in sorted(QSD2_W3_PATH.glob(\"*.png\"))]  # Load once\n",
    "database_image_PIL_list = [Image.open(db_img_path) for db_img_path in sorted(BBDD_PATH.glob(\"*.jpg\"))]  # Load once"
   ]
  },
  {
   "cell_type": "code",
   "execution_count": 3,
   "id": "bf807d0a5410e42a",
   "metadata": {},
   "outputs": [],
   "source": [
    "# Apply median filter\n",
    "query_d2_image_PIL_list = [denoise_image(image) for image in query_d2_image_PIL_list]"
   ]
  },
  {
   "cell_type": "code",
   "execution_count": 4,
   "id": "790b5e8351d4ca52",
   "metadata": {},
   "outputs": [
    {
     "name": "stderr",
     "output_type": "stream",
     "text": [
      "Processing 00029: : 30it [02:38,  5.27s/it]\n"
     ]
    }
   ],
   "source": [
    "# Parameters\n",
    "mask_output_folder = WEEK_3_RESULTS_PATH / \"Task_3\" / \"final_results\"\n",
    "mask_output_folder.mkdir(parents=True, exist_ok=True)\n",
    "\n",
    "painting_masks_list = []\n",
    "pbar = tqdm(zip(sorted(QSD2_W3_PATH.glob(\"*.jpg\")), query_d2_image_PIL_list, query_d2_mask_PIL_list))\n",
    "for name, image, gt_mask in pbar:\n",
    "    pbar.set_description(f\"Processing {name.stem}\")\n",
    "    painting_masks = get_painting_masks(image)    \n",
    "    painting_masks_list.append(painting_masks)"
   ]
  },
  {
   "cell_type": "code",
   "execution_count": 5,
   "id": "c7a8ded991f696ab",
   "metadata": {},
   "outputs": [
    {
     "name": "stderr",
     "output_type": "stream",
     "text": [
      "Showing 00029: : 30it [00:01, 27.15it/s]\n"
     ]
    }
   ],
   "source": [
    "pbar = tqdm(zip(sorted(QSD2_W3_PATH.glob(\"*.jpg\")), query_d2_image_PIL_list, query_d2_mask_PIL_list, painting_masks_list))\n",
    "\n",
    "image_list_q = []\n",
    "\n",
    "for name, image, gt_mask, predicted_mask in pbar:\n",
    "    pbar.set_description(f\"Showing {name.stem}\")\n",
    "    imgs = crop_image_by_mask(image, predicted_mask)\n",
    "    image_list_q.append(imgs)"
   ]
  },
  {
   "cell_type": "code",
   "execution_count": 6,
   "id": "0f6768a0",
   "metadata": {},
   "outputs": [],
   "source": [
    "# Import function from ipynb (a bit dirty)\n",
    "import sys\n",
    "import os\n",
    "sys.path.insert(0, f\"{os.getcwd()}/WEEK_3\")\n",
    "from ipynb.fs.defs.C1_W3_G8_T2 import task2"
   ]
  },
  {
   "cell_type": "code",
   "execution_count": 7,
   "id": "d7b24dc7",
   "metadata": {},
   "outputs": [
    {
     "name": "stderr",
     "output_type": "stream",
     "text": [
      "Partitioning at level 5: 100%|██████████| 37/37 [00:00<00:00, 499.56it/s]\n",
      "Loading images at level 5: 100%|██████████| 287/287 [00:07<00:00, 36.12it/s]\n"
     ]
    },
    {
     "name": "stdout",
     "output_type": "stream",
     "text": [
      "Descriptor:  Gabor_wavelengths_(3, 5, 7)_orientations_4\n"
     ]
    },
    {
     "name": "stderr",
     "output_type": "stream",
     "text": [
      "Processing partitions at level 5: 100%|██████████| 37/37 [00:08<00:00,  4.41it/s]\n"
     ]
    },
    {
     "name": "stdout",
     "output_type": "stream",
     "text": [
      "- CosineSimilarity & Gabor_wavelengths_(3, 5, 7)_orientations_4\n",
      "[[[236, 65, 35, 100, 177]], [[107, 30, 53, 74, 11]], [[285, 76, 85, 150, 257], [221, 35, 48, 205, 25]], [[259, 32, 160, 192, 113]], [[86, 61, 155, 27, 125]], [[132, 103, 104, 255, 87], [94, 192, 85, 103, 275]], [[35, 65, 40, 236, 120], [258, 42, 212, 24, 58]], [[35, 65, 236, 40, 47], [258, 42, 212, 24, 58]], [[124, 29, 161, 51, 212]], [[131, 110, 37, 142, 273]], [[282, 264, 103, 57, 88]], [[34, 104, 142, 144, 84], [199, 96, 276, 173, 226]], [[53, 54, 107, 238, 30], [124, 82, 29, 282, 172]], [[28, 282, 158, 59, 271]], [[260, 279, 264, 91, 101]], [[215, 192, 239, 39, 258]], [[120, 70, 40, 161, 35]], [[25, 40, 116, 35, 42]], [[11, 30, 206, 106, 254]], [[83, 82, 152, 51, 282]], [[43, 57, 142, 16, 249]], [[7, 182, 119, 217, 278]], [[251, 35, 65, 189, 234]], [[183, 75, 258, 24, 23]], [[179, 219, 155, 218, 133]], [[270, 47, 36, 24, 40]], [[93, 142, 16, 140, 157]], [[200, 205, 150, 35, 146]], [[161, 40, 116, 35, 70]], [[252, 248, 102, 52, 60], [120, 36, 47, 221, 35]]]\n"
     ]
    }
   ],
   "source": [
    "R = task2(\n",
    "    image_list = image_list_q,\n",
    "    db_image_list = database_image_PIL_list,\n",
    "    texture_descriptor = GaborDescriptor(),\n",
    "    k = 5,\n",
    "    similarity_class = CosineSimilarity(),    \n",
    ")\n",
    "\n",
    "print(R)"
   ]
  },
  {
   "cell_type": "code",
   "execution_count": null,
   "id": "f6c0fbdc",
   "metadata": {},
   "outputs": [],
   "source": []
  }
 ],
 "metadata": {
  "kernelspec": {
   "display_name": "venv",
   "language": "python",
   "name": "python3"
  },
  "language_info": {
   "codemirror_mode": {
    "name": "ipython",
    "version": 3
   },
   "file_extension": ".py",
   "mimetype": "text/x-python",
   "name": "python",
   "nbconvert_exporter": "python",
   "pygments_lexer": "ipython3",
   "version": "3.12.7"
  }
 },
 "nbformat": 4,
 "nbformat_minor": 5
}
