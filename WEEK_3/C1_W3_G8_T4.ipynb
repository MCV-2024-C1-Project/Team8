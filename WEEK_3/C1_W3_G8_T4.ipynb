{
 "cells": [
  {
   "cell_type": "markdown",
   "id": "243ad852fc68d7d2",
   "metadata": {},
   "source": [
    "# C1 W3 Group 8 - Task 4"
   ]
  },
  {
   "cell_type": "code",
   "id": "de5ce6dca63723b3",
   "metadata": {},
   "source": [
    "from tqdm import tqdm\n",
    "from PIL import Image\n",
    "\n",
    "from src.background import get_painting_masks, crop_image_by_mask\n",
    "from src.data import GT_QSD2_W3_LIST\n",
    "from src.denoising import denoise_image\n",
    "from src.paths import QSD2_W3_PATH, WEEK_3_RESULTS_PATH, BBDD_PATH\n",
    "from src.retrieval import find_top_k_similar_images\n",
    "from src.utils import show_images"
   ],
   "outputs": [],
   "execution_count": null
  },
  {
   "cell_type": "code",
   "id": "873d8433ca1027ef",
   "metadata": {},
   "source": [
    "query_d2_image_PIL_list = [Image.open(query_img_path) for query_img_path in sorted(QSD2_W3_PATH.glob(\"*.jpg\"))]  # Load once\n",
    "query_d2_mask_PIL_list = [Image.open(query_img_path) for query_img_path in sorted(QSD2_W3_PATH.glob(\"*.png\"))]  # Load once\n",
    "database_image_PIL_list = [Image.open(db_img_path) for db_img_path in sorted(BBDD_PATH.glob(\"*.jpg\"))]  # Load once"
   ],
   "outputs": [],
   "execution_count": null
  },
  {
   "cell_type": "code",
   "id": "bf807d0a5410e42a",
   "metadata": {},
   "source": [
    "# Apply median filter\n",
    "query_d2_image_PIL_list = [denoise_image(image) for image in query_d2_image_PIL_list]"
   ],
   "outputs": [],
   "execution_count": null
  },
  {
   "cell_type": "code",
   "id": "790b5e8351d4ca52",
   "metadata": {},
   "source": [
    "# Get painting masks\n",
    "painting_masks_list = []\n",
    "pbar = tqdm(zip(sorted(QSD2_W3_PATH.glob(\"*.jpg\")), query_d2_image_PIL_list, query_d2_mask_PIL_list))\n",
    "for name, image, gt_mask in pbar:\n",
    "    pbar.set_description(f\"Processing {name.stem}\")\n",
    "    painting_masks = get_painting_masks(image)    \n",
    "    painting_masks_list.append(painting_masks)"
   ],
   "outputs": [],
   "execution_count": null
  },
  {
   "cell_type": "code",
   "id": "c7a8ded991f696ab",
   "metadata": {},
   "source": [
    "cropped_query_image_list = []\n",
    "pbar = tqdm(zip(sorted(QSD2_W3_PATH.glob(\"*.jpg\")), query_d2_image_PIL_list, query_d2_mask_PIL_list, painting_masks_list))\n",
    "for name, image, gt_mask, predicted_mask in pbar:\n",
    "    pbar.set_description(f\"Splitting {name.stem}\")\n",
    "    image_list = crop_image_by_mask(image, predicted_mask)\n",
    "    cropped_query_image_list.append(image_list)"
   ],
   "outputs": [],
   "execution_count": null
  },
  {
   "cell_type": "code",
   "id": "d7b24dc7",
   "metadata": {},
   "source": [
    "retrieved_images = find_top_k_similar_images(cropped_query_image_list, database_image_PIL_list)\n",
    "print(retrieved_images)"
   ],
   "outputs": [],
   "execution_count": null
  },
  {
   "metadata": {},
   "cell_type": "code",
   "source": [
    "# TODO REMOVE!\n",
    "\n",
    "import numpy as np\n",
    "from src.metrics import MeanAveragePrecisionAtK\n",
    "\n",
    "m = MeanAveragePrecisionAtK()\n",
    "k = 5\n",
    "\n",
    "p = 0\n",
    "n = 0\n",
    "\n",
    "pbar = tqdm(zip(sorted(QSD2_W3_PATH.glob(\"*.jpg\")), retrieved_images, GT_QSD2_W3_LIST))\n",
    "for name, pred, gt in pbar:\n",
    "    pbar.set_description(f\"Processing {name.stem}\")\n",
    "    for pred_x, gt_x in zip(pred, gt):\n",
    "        gt_x = np.array([[gt_x]])\n",
    "        pred_x = np.array([pred_x])\n",
    "        res = m.compute(gt_x, pred_x, k=k)\n",
    "        p += res\n",
    "        n += 1\n",
    "\n",
    "print(p/n)"
   ],
   "id": "dc72d0db48ed4a43",
   "outputs": [],
   "execution_count": null
  }
 ],
 "metadata": {
  "kernelspec": {
   "display_name": "venv",
   "language": "python",
   "name": "python3"
  },
  "language_info": {
   "codemirror_mode": {
    "name": "ipython",
    "version": 3
   },
   "file_extension": ".py",
   "mimetype": "text/x-python",
   "name": "python",
   "nbconvert_exporter": "python",
   "pygments_lexer": "ipython3",
   "version": "3.12.7"
  }
 },
 "nbformat": 4,
 "nbformat_minor": 5
}
