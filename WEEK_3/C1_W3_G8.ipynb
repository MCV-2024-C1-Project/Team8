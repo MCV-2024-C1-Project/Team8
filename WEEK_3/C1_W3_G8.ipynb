{
 "cells": [
  {
   "cell_type": "markdown",
   "id": "243ad852fc68d7d2",
   "metadata": {},
   "source": [
    "# C1 W2 Group 8"
   ]
  },
  {
   "cell_type": "code",
   "execution_count": 17,
   "id": "initial_id",
   "metadata": {
    "collapsed": true
   },
   "outputs": [],
   "source": [
    "import pickle\n",
    "from src.paths import BBDD_PATH, QSD1_W3_PATH, QSD1_NON_AUGMENTED_W3_PATH, WEEK_3_PATH, WEEK_3_RESULTS_PATH\n",
    "from PIL import Image, ImageDraw\n",
    "import cv2\n",
    "import numpy as np\n",
    "import pandas as pd\n",
    "import matplotlib.pyplot as plt\n",
    "from skimage.restoration import denoise_nl_means, estimate_sigma\n",
    "from skimage.metrics import peak_signal_noise_ratio as psnr\n",
    "from skimage.metrics import structural_similarity as ssim\n",
    "from scipy.signal import wiener\n",
    "from tqdm import tqdm\n",
    "from itertools import product"
   ]
  },
  {
   "cell_type": "markdown",
   "id": "252f0c3825c7f479",
   "metadata": {},
   "source": [
    "## Data loading"
   ]
  },
  {
   "cell_type": "code",
   "execution_count": 2,
   "id": "657424863441b930",
   "metadata": {},
   "outputs": [],
   "source": [
    "database_image_PIL_list = [Image.open(db_img_path) for db_img_path in sorted(BBDD_PATH.glob(\"*.jpg\"))]  # Load once\n",
    "for idx, db_img in enumerate(database_image_PIL_list):\n",
    "    assert db_img.filename.endswith(f\"{idx}.jpg\")"
   ]
  },
  {
   "cell_type": "code",
   "execution_count": 3,
   "id": "988536713d7476e7",
   "metadata": {},
   "outputs": [
    {
     "name": "stdout",
     "output_type": "stream",
     "text": [
      "C:\\Users\\Albert Roca\\Documents\\MCV\\C1 Image UPC\\Project\\Team8\\data\\qsd1_w3\n"
     ]
    }
   ],
   "source": [
    "print(QSD1_W3_PATH)\n",
    "query_d1_image_PIL_list = [Image.open(query_img_path) for query_img_path in sorted(QSD1_W3_PATH.glob(\"*.jpg\"))]  # Load once\n",
    "for idx, query_img in enumerate(query_d1_image_PIL_list):\n",
    "    assert query_img.filename.endswith(f\"{idx}.jpg\")"
   ]
  },
  {
   "cell_type": "code",
   "execution_count": 4,
   "id": "ba2c41d6d19ebb8d",
   "metadata": {},
   "outputs": [],
   "source": [
    "non_augmented_d1_image_PIL_list = [Image.open(query_img_path) for query_img_path in sorted(QSD1_NON_AUGMENTED_W3_PATH.glob(\"*.jpg\"))]  # Load once\n",
    "for idx, query_img in enumerate(non_augmented_d1_image_PIL_list):\n",
    "    assert query_img.filename.endswith(f\"{idx}.jpg\")"
   ]
  },
  {
   "cell_type": "code",
   "execution_count": 5,
   "id": "8fdc66345e06a381",
   "metadata": {},
   "outputs": [],
   "source": [
    "noisy_images_d1 = []\n",
    "noisy_images_indexes_d1 = []\n",
    "augmentations = []\n",
    "with (QSD1_W3_PATH / \"augmentations.pkl\").open('rb') as f:\n",
    "    augmentations = pickle.load(f)\n",
    "    for idx, img in enumerate(augmentations):\n",
    "        if img != 'None':\n",
    "            noisy_images_d1.append(query_d1_image_PIL_list[idx])\n",
    "            noisy_images_indexes_d1.append(idx)"
   ]
  },
  {
   "cell_type": "markdown",
   "id": "1491c261d0039b14",
   "metadata": {},
   "source": [
    "## Task 1: Noise filtering"
   ]
  },
  {
   "cell_type": "code",
   "execution_count": 6,
   "id": "539e6a9318f3bfa8",
   "metadata": {},
   "outputs": [],
   "source": [
    "# Utility functions to handle RGB images\n",
    "def split_channels(image):\n",
    "    \"\"\"Split RGB image into its three color channels.\"\"\"\n",
    "    return cv2.split(image)\n",
    "\n",
    "def merge_channels(channels):\n",
    "    \"\"\"Merge the denoised RGB channels back together and clip to valid range [0, 255].\"\"\"\n",
    "    merged_image = cv2.merge(channels)\n",
    "    return np.clip(merged_image, 0, 255).astype(np.uint8)\n",
    "\n",
    "# --- Linear Filters ---\n",
    "\n",
    "def gaussian_blur(image, kernel_size=(3, 3)):\n",
    "    channels = split_channels(image)\n",
    "    denoised_channels = [cv2.GaussianBlur(channel, kernel_size, 0) for channel in channels]\n",
    "    return merge_channels(denoised_channels)\n",
    "\n",
    "def mean_filter(image, kernel_size=(3, 3)):\n",
    "    channels = split_channels(image)\n",
    "    denoised_channels = [cv2.blur(channel, kernel_size) for channel in channels]\n",
    "    return merge_channels(denoised_channels)\n",
    "\n",
    "def wiener_filter(image, kernel_size=3):\n",
    "    channels = split_channels(image)\n",
    "    denoised_channels = []\n",
    "    \n",
    "    for channel in channels:\n",
    "        denoised_channel = wiener(channel, kernel_size)\n",
    "        denoised_channel[np.isnan(denoised_channel)] = 0 \n",
    "        denoised_channel[denoised_channel < 0] = 0  \n",
    "        denoised_channels.append(denoised_channel)\n",
    "    \n",
    "    return merge_channels(denoised_channels)\n",
    "\n",
    "# --- Non-Linear Filters ---\n",
    "\n",
    "def median_filter(image, kernel_size=3):\n",
    "    channels = split_channels(image)\n",
    "    denoised_channels = [cv2.medianBlur(channel, kernel_size) for channel in channels]\n",
    "    return merge_channels(denoised_channels)\n",
    "\n",
    "def bilateral_filter(image, diameter=5, sigma_color=25, sigma_space=25):\n",
    "    channels = split_channels(image)\n",
    "    denoised_channels = [cv2.bilateralFilter(channel, diameter, sigma_color, sigma_space) for channel in channels]\n",
    "    return merge_channels(denoised_channels)\n",
    "\n",
    "def non_local_means_filter(image, h=0.6, patch_size=3, patch_distance=5, fast_mode=True):\n",
    "    sigma_est = np.mean([estimate_sigma(image[..., channel], channel_axis=None) for channel in range(image.shape[-1])])\n",
    "    denoised_image = denoise_nl_means(image, h=h * sigma_est, \n",
    "                                      patch_size=patch_size, \n",
    "                                      patch_distance=patch_distance,\n",
    "                                      channel_axis=-1, fast_mode=fast_mode)\n",
    "    return merge_channels([denoised_image[..., i] * 255 for i in range(denoised_image.shape[-1])])"
   ]
  },
  {
   "cell_type": "code",
   "execution_count": 7,
   "id": "50d9faaa9d3d7d28",
   "metadata": {},
   "outputs": [],
   "source": [
    "def evaluate_image_quality(denoised_image, ground_truth):\n",
    "    psnr_value = psnr(ground_truth, denoised_image, data_range=255)\n",
    "    ssim_value, _ = ssim(ground_truth, denoised_image, full=True, channel_axis=-1)\n",
    "    return psnr_value, ssim_value"
   ]
  },
  {
   "cell_type": "markdown",
   "id": "3715981b7f1f6e90",
   "metadata": {},
   "source": [
    "### Grid search\n",
    "We perform a grid search to find the optimal parameters for each of the filters, evaluating it with the noisy images of `qsd1`."
   ]
  },
  {
   "cell_type": "code",
   "execution_count": 24,
   "id": "9ce05ed2ec0876fc",
   "metadata": {},
   "outputs": [],
   "source": [
    "# Denoising methods with parameter exploration\n",
    "def plot_results(metric_values, methods_names, metric_name, params):\n",
    "    #  Convert tuple params like (3, 3) into single values like 3, 5, 7\n",
    "    kernel_sizes = [param[0] for param in params]\n",
    "    num_methods = len(methods_names)\n",
    "    plt.figure(figsize=(10, 6))\n",
    "    bar_width = 0.15\n",
    "    indices = np.arange(len(kernel_sizes))\n",
    "\n",
    "    for i, method in enumerate(methods_names):\n",
    "        plt.bar(indices + i * bar_width, metric_values[i], bar_width, label=method)\n",
    "\n",
    "    # Add labels and title\n",
    "    plt.xlabel('Kernel Sizes')\n",
    "    plt.ylabel(metric_name)\n",
    "    plt.title(f'{metric_name} for Denoising Methods with Different Kernel Sizes')\n",
    "    plt.xticks(indices + bar_width * (num_methods - 1) / 2, kernel_sizes)\n",
    "    plt.legend()\n",
    "    plt.tight_layout()\n",
    "    plt.show()\n",
    "    \n",
    "\n",
    "def explore_filter(filter_func, param_combinations, image, ground_truth):\n",
    "    psnr_values, ssim_values = [], []\n",
    "    best_psnr, best_ssim, best_params = -float('inf'), -float('inf'), None\n",
    "    for params in param_combinations:\n",
    "        denoised_image = filter_func(image, *params)\n",
    "        psnr_value, ssim_value = evaluate_image_quality(denoised_image, ground_truth)\n",
    "        psnr_values.append(psnr_value)\n",
    "        ssim_values.append(ssim_value)\n",
    "        if psnr_value > best_psnr and ssim_value > best_ssim:\n",
    "            best_psnr, best_ssim, best_params = psnr_value, ssim_value, params\n",
    "    return best_params, best_psnr, best_ssim, psnr_values, ssim_values, param_combinations\n",
    "\n",
    "def explore_gaussian_blur(image, ground_truth, kernel_sizes):\n",
    "    return explore_filter(gaussian_blur, [(k,) for k in kernel_sizes], image, ground_truth)\n",
    "\n",
    "def explore_mean_filter(image, ground_truth, kernel_sizes):\n",
    "    return explore_filter(mean_filter, [(k,) for k in kernel_sizes], image, ground_truth)\n",
    "\n",
    "def explore_wiener_filter(image, ground_truth, kernel_sizes):\n",
    "    return explore_filter(wiener_filter, [(k,) for k in kernel_sizes], image, ground_truth)\n",
    "\n",
    "def explore_median_filter(image, ground_truth, kernel_sizes):\n",
    "    return explore_filter(median_filter, [(k,) for k in kernel_sizes], image, ground_truth)\n",
    "\n",
    "def explore_bilateral_filter(image, ground_truth, diameters, sigma_colors, sigma_spaces):\n",
    "    return explore_filter(bilateral_filter, product(diameters, sigma_colors, sigma_spaces), image, ground_truth)\n",
    "\n",
    "def explore_nl_means_filter(image, ground_truth, h_values, patch_sizes, patch_distances):\n",
    "    return explore_filter(non_local_means_filter, product(h_values, patch_sizes, patch_distances), image, ground_truth)\n",
    "\n",
    "\n",
    "# Explore all methods and return the best parameters\n",
    "def explore_all_methods(image, ground_truth):\n",
    "    # Parameter ranges for each method\n",
    "    kernel_sizes = [(1,1), (3, 3), (5, 5), (7, 7), (9, 9), (11, 11)]\n",
    "\n",
    "    diameters = [5, 9, 13, 17, 21]\n",
    "    sigma_colors = [25, 50, 75, 100, 125]\n",
    "    sigma_spaces = [25, 50, 75, 100, 125]\n",
    "    h_values = [0.6, 0.8, 1.0, 1.2, 1.5]\n",
    "    patch_sizes = [3, 5, 7, 9, 11]\n",
    "    patch_distances = [5, 6, 8, 11, 17]\n",
    "\n",
    "    all_results = {}\n",
    "    best_results = {}\n",
    "\n",
    "    # Explore each denoising method\n",
    "    all_results['Gaussian'] = explore_gaussian_blur(image, ground_truth, kernel_sizes)\n",
    "    best_results['Gaussian'] = all_results['Gaussian'][0:3]\n",
    "    all_results['Mean'] = explore_mean_filter(image, ground_truth, kernel_sizes)\n",
    "    best_results['Mean'] = all_results['Mean'][0:3]\n",
    "    all_results['Wiener'] = explore_wiener_filter(image, ground_truth, kernel_sizes)\n",
    "    best_results['Wiener'] = all_results['Wiener'][0:3]\n",
    "    all_results['Median'] = explore_median_filter(image, ground_truth, kernel_sizes)\n",
    "    best_results['Median'] = all_results['Median'][0:3]\n",
    "    '''all_results['Bilateral'] = explore_bilateral_filter(image, ground_truth, diameters, sigma_colors, sigma_spaces)\n",
    "    best_results['Bilateral'] = all_results['Bilateral'][0:3]\n",
    "    all_results['NLM'] = explore_nl_means_filter(image, ground_truth, h_values, patch_sizes, patch_distances)\n",
    "    best_results['NLM'] = all_results['NLM'][0:3]'''\n",
    "    \n",
    "    methods = []\n",
    "    psnr_results = []\n",
    "    ssim_results = []\n",
    "    for method_name, result in all_results.items():\n",
    "        if method_name in ['Gaussian', 'Mean', 'Wiener', 'Median']:\n",
    "            methods.append(method_name)\n",
    "            psnr_results.append(result[3])\n",
    "            ssim_results.append(result[4])\n",
    "\n",
    "    df_results = pd.DataFrame.from_dict(best_results, orient='index', columns=['Best Parameters', 'Best PSNR', 'Best SSIM'])\n",
    "    \n",
    "    # Uncomment to display the results for each image\n",
    "    plot_results(psnr_results, methods, \"PSNR\", kernel_sizes)\n",
    "    #plot_results(ssim_results, methods, \"SSIM\", kernel_sizes)\n",
    "    #display(df_results)\n",
    "    return df_results\n",
    "\n",
    "# Set to True to explore all parameters, omitted to make execution faster\n",
    "if False:\n",
    "    methods_names = ['Gaussian', 'Mean', 'Wiener', 'Median', 'Bilateral', 'NLM']\n",
    "    for noisy_idx, noisy_img in zip(noisy_images_indexes_d1, noisy_images_d1):\n",
    "        print(\"Image index: \", noisy_idx)\n",
    "        print(\"Augmentation: \",  augmentations[noisy_idx])\n",
    "        image = np.array(noisy_img)  # Noisy image\n",
    "        ground_truth = np.array(non_augmented_d1_image_PIL_list[noisy_idx])  # Ground truth image\n",
    "        df_out = explore_all_methods(image, ground_truth)"
   ]
  },
  {
   "cell_type": "markdown",
   "id": "d52884d2c73f2552",
   "metadata": {},
   "source": [
    "#### Conclusions of optimal filter parameters\n",
    "\n",
    "What we have found is that it depends a lot on the image the selection of the filter and the kernel size. However, observing the plots below we can observe that in the cases in which an Impulse Noise has been added, in most of the cases the best working filter to remove the noise is the Median with kernel size 3x3. Therefore, we consider it to be the optimal one.\n",
    "\n",
    "### Denoising QSD1\n",
    "\n",
    "In this part we filter all the images with all the filters and the optimal parameters we found by the grid search method, despite the variance of the parameters depending on the image. Then we compute the averages over all the metrics."
   ]
  },
  {
   "cell_type": "code",
   "execution_count": 25,
   "id": "9eee505835f963f3",
   "metadata": {},
   "outputs": [
    {
     "name": "stderr",
     "output_type": "stream",
     "text": [
      "  0%|          | 0/30 [00:00<?, ?it/s]c:\\Users\\Albert Roca\\Documents\\MCV\\C1 Image UPC\\Project\\Team8\\venv\\Lib\\site-packages\\scipy\\signal\\_signaltools.py:1647: RuntimeWarning: divide by zero encountered in divide\n",
      "  res *= (1 - noise / lVar)\n",
      "c:\\Users\\Albert Roca\\Documents\\MCV\\C1 Image UPC\\Project\\Team8\\venv\\Lib\\site-packages\\scipy\\signal\\_signaltools.py:1647: RuntimeWarning: invalid value encountered in multiply\n",
      "  res *= (1 - noise / lVar)\n",
      "100%|██████████| 30/30 [00:49<00:00,  1.64s/it]\n"
     ]
    }
   ],
   "source": [
    "# Applying the filters to all the images\n",
    "q_results_gaussian = []\n",
    "q_results_mean = []\n",
    "q_results_wiener = []\n",
    "q_results_median = []\n",
    "q_results_bilateral = []\n",
    "q_results_nl_means = []\n",
    "\n",
    "for q_img in tqdm(query_d1_image_PIL_list):\n",
    "    q_img_np = np.array(q_img) \n",
    "    q_results_gaussian.append(gaussian_blur(q_img_np))\n",
    "    q_results_mean.append(mean_filter(q_img_np))\n",
    "    q_results_wiener.append(wiener_filter(q_img_np))\n",
    "    q_results_median.append(median_filter(q_img_np))\n",
    "    q_results_bilateral.append(bilateral_filter(q_img_np))\n",
    "    q_results_nl_means.append(non_local_means_filter(q_img_np))"
   ]
  },
  {
   "cell_type": "code",
   "execution_count": 26,
   "id": "598ffef4ccd20e70",
   "metadata": {},
   "outputs": [],
   "source": [
    "def plot_images_with_multiple_filters(original_images, noisy_images, results_gaussian, results_mean, \n",
    "                                      results_wiener, results_median, \n",
    "                                      results_bilateral, results_nl_means):\n",
    "    num_images = len(original_images)\n",
    "    num_methods = 6 \n",
    "    fig, axes = plt.subplots(num_images, num_methods + 2, figsize=(25, 5 * num_images))  # +1 for original image\n",
    "\n",
    "    for i in range(num_images):\n",
    "        original_image = original_images[i]\n",
    "        noisy_image = noisy_images[i]\n",
    "\n",
    "        axes[i, 0].imshow(original_image)\n",
    "        axes[i, 0].set_title(f'Original Image {i+1}')\n",
    "        axes[i, 0].axis('off')\n",
    "        \n",
    "        axes[i, 1].imshow(noisy_image)\n",
    "        axes[i, 1].set_title(f'Noisy image Image {i+1}')\n",
    "        axes[i, 1].axis('off')\n",
    "\n",
    "        axes[i, 2].imshow(results_gaussian[i])\n",
    "        axes[i, 2].set_title(f'Gaussian Denoised {i+1}')\n",
    "        axes[i, 2].axis('off')\n",
    "\n",
    "        axes[i, 3].imshow(results_mean[i])\n",
    "        axes[i, 3].set_title(f'Mean Denoised {i+1}')\n",
    "        axes[i, 3].axis('off')\n",
    "\n",
    "        axes[i, 4].imshow(results_wiener[i])\n",
    "        axes[i, 4].set_title(f'Wiener Denoised {i+1}')\n",
    "        axes[i, 4].axis('off')\n",
    "\n",
    "        axes[i, 5].imshow(results_median[i])\n",
    "        axes[i, 5].set_title(f'Median Denoised {i+1}')\n",
    "        axes[i, 5].axis('off')\n",
    "\n",
    "        axes[i, 6].imshow(results_bilateral[i])\n",
    "        axes[i, 6].set_title(f'Bilateral Denoised {i+1}')\n",
    "        axes[i, 6].axis('off')\n",
    "\n",
    "        axes[i, 7].imshow(results_nl_means[i])\n",
    "        axes[i, 7].set_title(f'NLM Denoised {i+1}')\n",
    "        axes[i, 7].axis('off')\n",
    "\n",
    "    plt.tight_layout()\n",
    "    plt.savefig(WEEK_3_PATH / 'results' / 'denoised_images_plot.png')\n",
    "    plt.close()\n",
    "\n",
    "\n",
    "plot_images_with_multiple_filters(non_augmented_d1_image_PIL_list, query_d1_image_PIL_list, q_results_gaussian, \n",
    "                                  q_results_mean, q_results_wiener, \n",
    "                                  q_results_median, q_results_bilateral, \n",
    "                                  q_results_nl_means)\n"
   ]
  },
  {
   "cell_type": "code",
   "execution_count": 27,
   "id": "560bdfd18f19999c",
   "metadata": {},
   "outputs": [],
   "source": [
    "def evaluate_results(ground_truth_images, results_gaussian, results_mean, \n",
    "                     results_wiener, results_median, results_bilateral, results_nl_means):\n",
    "    metrics = []\n",
    "    num_images = len(ground_truth_images)\n",
    "\n",
    "    for i in tqdm(range(num_images)):\n",
    "        ground_truth = np.array(ground_truth_images[i])\n",
    "\n",
    "        # Evaluate each denoising method\n",
    "        psnr_gaussian, ssim_gaussian = evaluate_image_quality(results_gaussian[i], ground_truth)\n",
    "        psnr_mean, ssim_mean = evaluate_image_quality(results_mean[i], ground_truth)\n",
    "        psnr_wiener, ssim_wiener = evaluate_image_quality(results_wiener[i], ground_truth)\n",
    "        psnr_median, ssim_median = evaluate_image_quality(results_median[i], ground_truth)\n",
    "        psnr_bilateral, ssim_bilateral = evaluate_image_quality(results_bilateral[i], ground_truth)\n",
    "        psnr_nl_means, ssim_nl_means = evaluate_image_quality(results_nl_means[i], ground_truth)\n",
    "\n",
    "        # Collect the results for each image\n",
    "        metrics.append({\n",
    "            \"Image\": f\"Image {i+1}\",\n",
    "            \"PSNR (Gaussian)\": psnr_gaussian,\n",
    "            \"SSIM (Gaussian)\": ssim_gaussian,\n",
    "            \"PSNR (Mean)\": psnr_mean,\n",
    "            \"SSIM (Mean)\": ssim_mean,\n",
    "            \"PSNR (Wiener)\": psnr_wiener,\n",
    "            \"SSIM (Wiener)\": ssim_wiener,\n",
    "            \"PSNR (Median)\": psnr_median,\n",
    "            \"SSIM (Median)\": ssim_median,\n",
    "            \"PSNR (Bilateral)\": psnr_bilateral,\n",
    "            \"SSIM (Bilateral)\": ssim_bilateral,\n",
    "            \"PSNR (NLM)\": psnr_nl_means,\n",
    "            \"SSIM (NLM)\": ssim_nl_means,\n",
    "        })\n",
    "\n",
    "    df_results = pd.DataFrame(metrics)\n",
    "    \n",
    "    return df_results"
   ]
  },
  {
   "cell_type": "code",
   "execution_count": 28,
   "id": "bc812a138fe54e5c",
   "metadata": {},
   "outputs": [
    {
     "name": "stderr",
     "output_type": "stream",
     "text": [
      "100%|██████████| 30/30 [01:39<00:00,  3.32s/it]\n"
     ]
    }
   ],
   "source": [
    "df_results_all = evaluate_results(non_augmented_d1_image_PIL_list, q_results_gaussian, q_results_mean, \n",
    "                              q_results_wiener, q_results_median, q_results_bilateral, \n",
    "                              q_results_nl_means)"
   ]
  },
  {
   "cell_type": "code",
   "execution_count": 29,
   "id": "576fae25cbeef5a",
   "metadata": {},
   "outputs": [],
   "source": [
    "df_results_noisy = df_results_all[df_results_all['Image'].isin([f\"Image {i+1}\" for i in noisy_images_indexes_d1])]"
   ]
  },
  {
   "cell_type": "code",
   "execution_count": 30,
   "id": "e07619b55472120e",
   "metadata": {},
   "outputs": [
    {
     "data": {
      "image/png": "[encoded data removed]",
      "text/plain": [
       "<Figure size 1200x1000 with 2 Axes>"
      ]
     },
     "metadata": {},
     "output_type": "display_data"
    }
   ],
   "source": [
    "def plot_metrics_bar(df_results_all=None, df_results_noisy=None, methods=None):\n",
    "    # Calculate the average PSNR and SSIM for each method\n",
    "    avg_psnr_all = [df_results_all[f\"PSNR ({method})\"].mean() for method in methods]\n",
    "    avg_ssim_all = [df_results_all[f\"SSIM ({method})\"].mean() for method in methods]\n",
    "    avg_psnr_noisy = [df_results_noisy[f\"PSNR ({method})\"].mean() for method in methods]\n",
    "    avg_ssim_noisy = [df_results_noisy[f\"SSIM ({method})\"].mean() for method in methods]\n",
    "\n",
    "    psnr_data = list(zip(methods, avg_psnr_all, avg_psnr_noisy))\n",
    "    psnr_data.sort(key=lambda x: x[1] + x[2], reverse=True)  # Sort by the sum of PSNR values from all and noisy\n",
    "    sorted_methods_psnr, sorted_psnr_all, sorted_psnr_noisy = zip(*psnr_data)\n",
    "    ssim_data = list(zip(methods, avg_ssim_all, avg_ssim_noisy))\n",
    "    ssim_data.sort(key=lambda x: x[1] + x[2], reverse=True)  # Sort by the sum of SSIM values from all and noisy\n",
    "    sorted_methods_ssim, sorted_ssim_all, sorted_ssim_noisy = zip(*ssim_data)\n",
    "    positions = np.arange(len(methods))\n",
    "    bar_width = 0.35\n",
    "    fig, ax = plt.subplots(2, 1, figsize=(12, 10))\n",
    "\n",
    "    # Bar Plot for PSNR\n",
    "    ax[0].bar(positions - bar_width/2, sorted_psnr_all, bar_width, label='All Images')\n",
    "    ax[0].bar(positions + bar_width/2, sorted_psnr_noisy, bar_width, label='Noisy Images')\n",
    "    ax[0].set_xlabel('Denoising Methods')\n",
    "    ax[0].set_ylabel('Average PSNR')\n",
    "    ax[0].set_title('Comparison of Average PSNR by Denoising Method')\n",
    "    ax[0].set_xticks(positions)\n",
    "    ax[0].set_xticklabels(sorted_methods_psnr)\n",
    "    ax[0].legend()\n",
    "\n",
    "    # Bar Plot for SSIM\n",
    "    ax[1].bar(positions - bar_width/2, sorted_ssim_all, bar_width, label='All Images')\n",
    "    ax[1].bar(positions + bar_width/2, sorted_ssim_noisy, bar_width, label='Noisy Images')\n",
    "    ax[1].set_xlabel('Denoising Methods')\n",
    "    ax[1].set_ylabel('Average SSIM')\n",
    "    ax[1].set_title('Comparison of Average SSIM by Denoising Method')\n",
    "    ax[1].set_xticks(positions)\n",
    "    ax[1].set_xticklabels(sorted_methods_ssim)\n",
    "    ax[1].legend()\n",
    "\n",
    "    plt.tight_layout()\n",
    "    plt.show()\n",
    "\n",
    "methods_names = [\"Gaussian\", \"Mean\", \"Wiener\", \"Median\", \"Bilateral\", \"NLM\"]\n",
    "plot_metrics_bar(df_results_all, df_results_noisy, methods_names)\n"
   ]
  },
  {
   "cell_type": "code",
   "execution_count": 15,
   "id": "82341db24d18f292",
   "metadata": {},
   "outputs": [],
   "source": [
    "# Given the previous results we set the optimal denoised images\n",
    "query_d1_denoised_images = q_results_median"
   ]
  },
  {
   "cell_type": "markdown",
   "id": "424fa8e1e3402883",
   "metadata": {},
   "source": [
    "#### Conclusions after denoising QSD1\n",
    "\n",
    "As we can observe, the best performing denoising filter is the Median, achieving the highest PSNR and SSIM, with a Kernel size of 3x3. However, the Gaussian performance is extremely close to the Median, as we saw in the previous analysis."
   ]
  },
  {
   "cell_type": "code",
   "execution_count": 18,
   "id": "67305f377822990a",
   "metadata": {},
   "outputs": [],
   "source": [
    "mean_row = df_results_all.mean(numeric_only=True)\n",
    "mean_row['Image'] = 'Average'\n",
    "mean_row_df = pd.DataFrame([mean_row])\n",
    "df_results_all_final = pd.concat([df_results_all, mean_row_df], ignore_index=True)\n",
    "df_results_all_final.to_csv(WEEK_3_RESULTS_PATH/\"metrics_all.csv\", index=False, decimal=\",\")"
   ]
  },
  {
   "cell_type": "code",
   "execution_count": 19,
   "id": "1f91739505946861",
   "metadata": {},
   "outputs": [],
   "source": [
    "mean_row = df_results_noisy.mean(numeric_only=True)\n",
    "mean_row['Image'] = 'Average'\n",
    "mean_row_df = pd.DataFrame([mean_row])\n",
    "df_results_noisy_final = pd.concat([df_results_noisy, mean_row_df], ignore_index=True)\n",
    "df_results_noisy_final.to_csv(WEEK_3_RESULTS_PATH/\"metrics_noisy.csv\", index=False, decimal=\",\")"
   ]
  },
  {
   "cell_type": "markdown",
   "id": "865fcdeee3c2afb8",
   "metadata": {},
   "source": [
    "## Task 2: Texture descriptors\n",
    "All descriptors of the project have been implemented in `src/descriptors.py`.\n"
   ]
  },
  {
   "cell_type": "code",
   "execution_count": 20,
   "id": "9179b210f7b3a398",
   "metadata": {},
   "outputs": [],
   "source": [
    "from src.descriptors import LBPDescriptor, DCTDescriptor, WaveletDescriptor"
   ]
  },
  {
   "cell_type": "code",
   "execution_count": 21,
   "id": "aea526e265e87211",
   "metadata": {},
   "outputs": [],
   "source": [
    "texture_descriptors_functions = [\n",
    "    LBPDescriptor(num_points=24, radius=8), \n",
    "    DCTDescriptor(), \n",
    "    WaveletDescriptor(wavelet='db1', level=2),\n",
    "    \n",
    "]"
   ]
  },
  {
   "cell_type": "code",
   "execution_count": 22,
   "id": "a8c73d9b66488f67",
   "metadata": {},
   "outputs": [],
   "source": [
    "descriptors_qsd1 = {}\n",
    "for descriptor_func in texture_descriptors_functions:\n",
    "    descriptors_qsd1[descriptor_func.__class__.__name__] = []\n",
    "    for image in query_d1_denoised_images:\n",
    "        descriptors_qsd1[descriptor_func.__class__.__name__].append(descriptor_func.compute(image))"
   ]
  },
  {
   "cell_type": "code",
   "execution_count": null,
   "id": "46175597274b4221",
   "metadata": {},
   "outputs": [],
   "source": []
  },
  {
   "cell_type": "code",
   "execution_count": null,
   "id": "f0127013f591b21e",
   "metadata": {},
   "outputs": [],
   "source": []
  }
 ],
 "metadata": {
  "kernelspec": {
   "display_name": "venv",
   "language": "python",
   "name": "python3"
  },
  "language_info": {
   "codemirror_mode": {
    "name": "ipython",
    "version": 3
   },
   "file_extension": ".py",
   "mimetype": "text/x-python",
   "name": "python",
   "nbconvert_exporter": "python",
   "pygments_lexer": "ipython3",
   "version": "3.12.7"
  }
 },
 "nbformat": 4,
 "nbformat_minor": 5
}
