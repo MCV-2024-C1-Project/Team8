{
 "cells": [
  {
   "metadata": {},
   "cell_type": "markdown",
   "source": "# C1 W1 Group 8",
   "id": "46dd3a8a071b0289"
  },
  {
   "metadata": {
    "ExecuteTime": {
     "end_time": "2024-10-02T18:38:43.787088Z",
     "start_time": "2024-10-02T18:38:43.764669Z"
    }
   },
   "cell_type": "code",
   "source": "from src.paths import PROJECT_ROOT_PATH\n",
   "id": "6c2d5a20a8f45ef2",
   "outputs": [
    {
     "ename": "AssertionError",
     "evalue": "",
     "output_type": "error",
     "traceback": [
      "\u001B[1;31m---------------------------------------------------------------------------\u001B[0m",
      "\u001B[1;31mAssertionError\u001B[0m                            Traceback (most recent call last)",
      "Cell \u001B[1;32mIn[3], line 1\u001B[0m\n\u001B[1;32m----> 1\u001B[0m \u001B[38;5;28;01mfrom\u001B[39;00m \u001B[38;5;21;01msrc\u001B[39;00m\u001B[38;5;21;01m.\u001B[39;00m\u001B[38;5;21;01mpaths\u001B[39;00m \u001B[38;5;28;01mimport\u001B[39;00m PROJECT_ROOT_PATH\n",
      "File \u001B[1;32m~\\Documents\\CVM\\C1\\Team8\\src\\paths.py:16\u001B[0m\n\u001B[0;32m     14\u001B[0m QSD1_W1_PATH \u001B[38;5;241m=\u001B[39m DATA_PATH \u001B[38;5;241m/\u001B[39m \u001B[38;5;124m\"\u001B[39m\u001B[38;5;124mqsd1_w1\u001B[39m\u001B[38;5;124m\"\u001B[39m\n\u001B[0;32m     15\u001B[0m GT_QSD1_W1_PATH \u001B[38;5;241m=\u001B[39m QSD1_W1_PATH \u001B[38;5;241m/\u001B[39m \u001B[38;5;124m\"\u001B[39m\u001B[38;5;124mgt_corresps.pkl\u001B[39m\u001B[38;5;124m\"\u001B[39m\n\u001B[1;32m---> 16\u001B[0m \u001B[38;5;28;01massert\u001B[39;00m QSD1_W1_PATH\u001B[38;5;241m.\u001B[39mexists()\n\u001B[0;32m     17\u001B[0m \u001B[38;5;28;01massert\u001B[39;00m GT_QSD1_W1_PATH\u001B[38;5;241m.\u001B[39mexists()\n",
      "\u001B[1;31mAssertionError\u001B[0m: "
     ]
    }
   ],
   "execution_count": 3
  },
  {
   "cell_type": "code",
   "id": "initial_id",
   "metadata": {
    "collapsed": true,
    "ExecuteTime": {
     "end_time": "2024-10-02T18:37:48.840984Z",
     "start_time": "2024-10-02T18:37:48.189829Z"
    }
   },
   "source": [
    "from matplotlib import pyplot as plt\n",
    "import numpy as np\n",
    "from PIL import Image\n",
    "\n",
    "from src.data import GT_QSD1_W1_LIST\n",
    "from src.paths import BBDD_PATH, QSD1_W1_PATH"
   ],
   "outputs": [
    {
     "ename": "AssertionError",
     "evalue": "",
     "output_type": "error",
     "traceback": [
      "\u001B[1;31m---------------------------------------------------------------------------\u001B[0m",
      "\u001B[1;31mAssertionError\u001B[0m                            Traceback (most recent call last)",
      "Cell \u001B[1;32mIn[1], line 5\u001B[0m\n\u001B[0;32m      2\u001B[0m \u001B[38;5;28;01mimport\u001B[39;00m \u001B[38;5;21;01mnumpy\u001B[39;00m \u001B[38;5;28;01mas\u001B[39;00m \u001B[38;5;21;01mnp\u001B[39;00m\n\u001B[0;32m      3\u001B[0m \u001B[38;5;28;01mfrom\u001B[39;00m \u001B[38;5;21;01mPIL\u001B[39;00m \u001B[38;5;28;01mimport\u001B[39;00m Image\n\u001B[1;32m----> 5\u001B[0m \u001B[38;5;28;01mfrom\u001B[39;00m \u001B[38;5;21;01msrc\u001B[39;00m\u001B[38;5;21;01m.\u001B[39;00m\u001B[38;5;21;01mdata\u001B[39;00m \u001B[38;5;28;01mimport\u001B[39;00m GT_QSD1_W1_LIST\n\u001B[0;32m      6\u001B[0m \u001B[38;5;28;01mfrom\u001B[39;00m \u001B[38;5;21;01msrc\u001B[39;00m\u001B[38;5;21;01m.\u001B[39;00m\u001B[38;5;21;01mpaths\u001B[39;00m \u001B[38;5;28;01mimport\u001B[39;00m BBDD_PATH, QSD1_W1_PATH\n",
      "File \u001B[1;32m~\\Documents\\CVM\\C1\\Team8\\src\\data.py:3\u001B[0m\n\u001B[0;32m      1\u001B[0m \u001B[38;5;28;01mimport\u001B[39;00m \u001B[38;5;21;01mpickle\u001B[39;00m\n\u001B[1;32m----> 3\u001B[0m \u001B[38;5;28;01mfrom\u001B[39;00m \u001B[38;5;21;01msrc\u001B[39;00m\u001B[38;5;21;01m.\u001B[39;00m\u001B[38;5;21;01mpaths\u001B[39;00m \u001B[38;5;28;01mimport\u001B[39;00m GT_QSD1_W1_PATH\n\u001B[0;32m      5\u001B[0m \u001B[38;5;28;01mwith\u001B[39;00m GT_QSD1_W1_PATH\u001B[38;5;241m.\u001B[39mopen(\u001B[38;5;124m'\u001B[39m\u001B[38;5;124mrb\u001B[39m\u001B[38;5;124m'\u001B[39m) \u001B[38;5;28;01mas\u001B[39;00m f:\n\u001B[0;32m      6\u001B[0m     GT_QSD1_W1_LIST \u001B[38;5;241m=\u001B[39m pickle\u001B[38;5;241m.\u001B[39mload(f)\n",
      "File \u001B[1;32m~\\Documents\\CVM\\C1\\Team8\\src\\paths.py:16\u001B[0m\n\u001B[0;32m     14\u001B[0m QSD1_W1_PATH \u001B[38;5;241m=\u001B[39m DATA_PATH \u001B[38;5;241m/\u001B[39m \u001B[38;5;124m\"\u001B[39m\u001B[38;5;124mqsd1_w1\u001B[39m\u001B[38;5;124m\"\u001B[39m\n\u001B[0;32m     15\u001B[0m GT_QSD1_W1_PATH \u001B[38;5;241m=\u001B[39m QSD1_W1_PATH \u001B[38;5;241m/\u001B[39m \u001B[38;5;124m\"\u001B[39m\u001B[38;5;124mgt_corresps.pkl\u001B[39m\u001B[38;5;124m\"\u001B[39m\n\u001B[1;32m---> 16\u001B[0m \u001B[38;5;28;01massert\u001B[39;00m QSD1_W1_PATH\u001B[38;5;241m.\u001B[39mexists()\n\u001B[0;32m     17\u001B[0m \u001B[38;5;28;01massert\u001B[39;00m GT_QSD1_W1_PATH\u001B[38;5;241m.\u001B[39mexists()\n",
      "\u001B[1;31mAssertionError\u001B[0m: "
     ]
    }
   ],
   "execution_count": 1
  },
  {
   "metadata": {},
   "cell_type": "markdown",
   "source": "## Task 1 - Create Museum and query image descriptors (BBDD & QSD1)",
   "id": "6b66796f60ea572d"
  },
  {
   "metadata": {},
   "cell_type": "code",
   "source": [
    "def get_grayscale_histogram_descriptor(image: Image, bins: int = 256) -> np.array:\n",
    "    histogram, _ = np.histogram(image.convert('L'), bins=bins, range=(0, bins-1))\n",
    "    return histogram"
   ],
   "id": "c9f179ef684c582c",
   "outputs": [],
   "execution_count": null
  },
  {
   "metadata": {},
   "cell_type": "code",
   "source": "get_descriptors_func = get_grayscale_histogram_descriptor",
   "id": "65e2851e3382a177",
   "outputs": [],
   "execution_count": null
  },
  {
   "metadata": {},
   "cell_type": "code",
   "source": [
    "# Database image descriptors\n",
    "\n",
    "database_image_descriptors = []\n",
    "for database_image_path in BBDD_PATH.glob(\"*.jpg\"):\n",
    "    database_image_PIL = Image.open(database_image_path)\n",
    "    descriptors = get_descriptors_func(database_image_PIL)\n",
    "    database_image_descriptors.append(descriptors)\n",
    "database_image_descriptors = np.array(database_image_descriptors)"
   ],
   "id": "eb921ea0163bd8d3",
   "outputs": [],
   "execution_count": null
  },
  {
   "metadata": {},
   "cell_type": "code",
   "source": [
    "# Query image descriptors\n",
    "\n",
    "query_image_descriptors = []\n",
    "for query_image_path in QSD1_W1_PATH.glob(\"*.jpg\"):\n",
    "    query_image_PIL = Image.open(query_image_path)\n",
    "    descriptors = get_descriptors_func(query_image_PIL)\n",
    "    query_image_descriptors.append(descriptors)\n",
    "query_image_descriptors = np.array(query_image_descriptors)"
   ],
   "id": "24d6a0a96dfa2ae5",
   "outputs": [],
   "execution_count": null
  },
  {
   "metadata": {},
   "cell_type": "code",
   "source": [
    "# Create a plot for each histogram in the array\n",
    "bins = np.arange(query_image_descriptors.shape[1])\n",
    "plt.figure(figsize=(10, 6))\n",
    "for i, hist in enumerate(query_image_descriptors):\n",
    "    plt.plot(bins, hist, label=f'Descriptor {i+1}')\n",
    "\n",
    "# Labeling the plot\n",
    "plt.title('Descriptors')\n",
    "plt.xlabel('Bins')\n",
    "plt.ylabel('Frequency')\n",
    "plt.legend(fontsize=5)\n",
    "plt.grid(True)\n",
    "\n",
    "# Show the plot\n",
    "plt.show()"
   ],
   "id": "9536a0bb6b60c6b5",
   "outputs": [],
   "execution_count": null
  },
  {
   "metadata": {},
   "cell_type": "markdown",
   "source": "## Task 2 - Implement / compute similarity measures to compare images",
   "id": "e8f0b16a042630cd"
  },
  {
   "metadata": {},
   "cell_type": "code",
   "source": [
    "def compute_mse(arr1: np.array, arr2: np.array) -> np.array:\n",
    "    # Compute pairwise squared differences\n",
    "    differences = arr1[:, np.newaxis, :] - arr2[np.newaxis, :, :]\n",
    "    squared_diff = np.square(differences)\n",
    "    \n",
    "    # Mean over the last dimension (K) to get MSE between each pair of points\n",
    "    return squared_diff.mean(axis=2)"
   ],
   "id": "79e2f0ef6959f5fb",
   "outputs": [],
   "execution_count": null
  },
  {
   "metadata": {},
   "cell_type": "code",
   "source": [
    "query_distances = compute_mse(query_image_descriptors, database_image_descriptors)\n",
    "query_distances"
   ],
   "id": "3aa68098da4a9193",
   "outputs": [],
   "execution_count": null
  },
  {
   "metadata": {},
   "cell_type": "markdown",
   "source": "## Task 3 - Implement retrieval system (retrieve top K results)",
   "id": "23dc7163138fbbef"
  },
  {
   "metadata": {},
   "cell_type": "code",
   "source": [
    "def get_topk_distances(distances: np.array, k: int = 1):\n",
    "    # Get the indices of the top k minimum values for each row\n",
    "    indices = np.argsort(distances, axis=1)[:, :k]\n",
    "    \n",
    "    # Gather the top k scores using the indices\n",
    "    scores = np.take_along_axis(distances, indices, axis=1)\n",
    "    \n",
    "    return indices, scores"
   ],
   "id": "3800600eef416463",
   "outputs": [],
   "execution_count": null
  },
  {
   "metadata": {},
   "cell_type": "code",
   "source": "indices, scores = get_topk_distances(query_distances)",
   "id": "50e81df66a1d8028",
   "outputs": [],
   "execution_count": null
  },
  {
   "metadata": {},
   "cell_type": "code",
   "source": "GT_QSD1_W1_LIST",
   "id": "74d0b3b5f63c52c1",
   "outputs": [],
   "execution_count": null
  },
  {
   "metadata": {},
   "cell_type": "code",
   "source": "# Metrics",
   "id": "52ca389d6a253917",
   "outputs": [],
   "execution_count": null
  },
  {
   "metadata": {},
   "cell_type": "code",
   "source": "# Visualization",
   "id": "a97d8508736f4dc6",
   "outputs": [],
   "execution_count": null
  },
  {
   "metadata": {},
   "cell_type": "markdown",
   "source": "## Task 4 - Create predictions for blind challenge (QST1)",
   "id": "1cfcbe66daddcae7"
  },
  {
   "metadata": {},
   "cell_type": "code",
   "source": "",
   "id": "9b2a29354dcafb7d",
   "outputs": [],
   "execution_count": null
  }
 ],
 "metadata": {
  "kernelspec": {
   "display_name": "venv",
   "language": "python",
   "name": "venv"
  },
  "language_info": {
   "codemirror_mode": {
    "name": "ipython",
    "version": 2
   },
   "file_extension": ".py",
   "mimetype": "text/x-python",
   "name": "python",
   "nbconvert_exporter": "python",
   "pygments_lexer": "ipython2",
   "version": "2.7.6"
  }
 },
 "nbformat": 4,
 "nbformat_minor": 5
}
