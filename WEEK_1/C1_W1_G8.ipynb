{
 "cells": [
  {
   "metadata": {},
   "cell_type": "markdown",
   "source": "# C1 W1 Group 8",
   "id": "46dd3a8a071b0289"
  },
  {
   "cell_type": "code",
   "id": "initial_id",
   "metadata": {
    "collapsed": true
   },
   "source": [
    "from matplotlib import pyplot as plt\n",
    "import numpy as np\n",
    "from PIL import Image\n",
    "\n",
    "from src.data import GT_QSD1_W1_LIST\n",
    "from src.paths import BBDD_PATH, QSD1_W1_PATH"
   ],
   "outputs": [],
   "execution_count": null
  },
  {
   "metadata": {},
   "cell_type": "markdown",
   "source": "## Task 1 - Create Museum and query image descriptors (BBDD & QSD1)",
   "id": "6b66796f60ea572d"
  },
  {
   "metadata": {},
   "cell_type": "markdown",
   "source": [
    "The functions in this section are required to take a PIL.Image object as input and return a 1D descriptor in the form of a NumPy array. Inside the function, you have the freedom to implement any processing or transformation steps as long as the input and output types are respected. Specifically:\n",
    "\n",
    "    Input: A PIL.Image object, which can be manipulated or processed as needed.\n",
    "    Output: A 1D descriptor, represented as a NumPy array, which could be a histogram, feature vector, or any other type of descriptor derived from the input image."
   ],
   "id": "811c0635209d74c9"
  },
  {
   "metadata": {},
   "cell_type": "code",
   "source": [
    "def get_grayscale_histogram_descriptor(image: Image, bins: int = 256) -> np.array:\n",
    "    histogram, _ = np.histogram(image.convert('L'), bins=bins, range=(0, bins-1))\n",
    "    return histogram"
   ],
   "id": "c9f179ef684c582c",
   "outputs": [],
   "execution_count": null
  },
  {
   "metadata": {},
   "cell_type": "code",
   "source": [
    "# Replace with the function you want to use to generate the descriptors\n",
    "get_descriptors_func = get_grayscale_histogram_descriptor"
   ],
   "id": "65e2851e3382a177",
   "outputs": [],
   "execution_count": null
  },
  {
   "metadata": {},
   "cell_type": "code",
   "source": [
    "# Database image descriptors\n",
    "\n",
    "database_image_descriptors = []\n",
    "for database_image_path in BBDD_PATH.glob(\"*.jpg\"):\n",
    "    database_image_PIL = Image.open(database_image_path)\n",
    "    descriptors = get_descriptors_func(database_image_PIL)\n",
    "    database_image_descriptors.append(descriptors)\n",
    "database_image_descriptors = np.array(database_image_descriptors)"
   ],
   "id": "eb921ea0163bd8d3",
   "outputs": [],
   "execution_count": null
  },
  {
   "metadata": {},
   "cell_type": "code",
   "source": [
    "# Query image descriptors\n",
    "\n",
    "query_image_descriptors = []\n",
    "for query_image_path in QSD1_W1_PATH.glob(\"*.jpg\"):\n",
    "    query_image_PIL = Image.open(query_image_path)\n",
    "    descriptors = get_descriptors_func(query_image_PIL)\n",
    "    query_image_descriptors.append(descriptors)\n",
    "query_image_descriptors = np.array(query_image_descriptors)"
   ],
   "id": "24d6a0a96dfa2ae5",
   "outputs": [],
   "execution_count": null
  },
  {
   "metadata": {},
   "cell_type": "code",
   "source": [
    "# Create a plot for each histogram in the array\n",
    "bins = np.arange(query_image_descriptors.shape[1])\n",
    "plt.figure(figsize=(10, 6))\n",
    "for i, hist in enumerate(query_image_descriptors):\n",
    "    plt.plot(bins, hist, label=f'Descriptor {i+1}')\n",
    "\n",
    "# Labeling the plot\n",
    "plt.title('Descriptors')\n",
    "plt.xlabel('Bins')\n",
    "plt.ylabel('Frequency')\n",
    "plt.legend(fontsize=5)\n",
    "plt.grid(True)\n",
    "\n",
    "# Show the plot\n",
    "plt.show()"
   ],
   "id": "9536a0bb6b60c6b5",
   "outputs": [],
   "execution_count": null
  },
  {
   "metadata": {},
   "cell_type": "markdown",
   "source": "## Task 2 - Implement / compute similarity measures to compare images",
   "id": "e8f0b16a042630cd"
  },
  {
   "metadata": {},
   "cell_type": "markdown",
   "source": [
    "In this section, the functions should implement various distance measures between query descriptors and database descriptors. The input for both the query and database will be a 2D NumPy array, where each row represents the descriptor of one image. Specifically:\n",
    "\n",
    "    Query descriptors will have shape (N, K), where N is the number of query images, and K is the length of each descriptor.\n",
    "    Database descriptors will have shape (M, K), where M is the number of database images, and K is the length of each descriptor.\n",
    "\n",
    "The output should be a 2D array of shape (N, M), where each entry (i, j) represents the distance between query descriptor N_i and database descriptor M_j."
   ],
   "id": "7bfbb767d7ed82e1"
  },
  {
   "metadata": {},
   "cell_type": "code",
   "source": [
    "def compute_mse(query_descriptors: np.array, database_descriptors: np.array) -> np.array:\n",
    "    # Compute pairwise squared differences\n",
    "    differences = query_descriptors[:, np.newaxis, :] - database_descriptors[np.newaxis, :, :]\n",
    "    squared_diff = np.square(differences)\n",
    "    \n",
    "    # Mean over the last dimension (K) to get MSE between each pair of points\n",
    "    return squared_diff.mean(axis=2)"
   ],
   "id": "79e2f0ef6959f5fb",
   "outputs": [],
   "execution_count": null
  },
  {
   "metadata": {},
   "cell_type": "code",
   "source": [
    "# Replace with the function you want to use to compute distances\n",
    "compute_distance_func = compute_mse"
   ],
   "id": "9527f4214cb37076",
   "outputs": [],
   "execution_count": null
  },
  {
   "metadata": {},
   "cell_type": "code",
   "source": "query_distances = compute_distance_func(query_image_descriptors, database_image_descriptors)",
   "id": "3aa68098da4a9193",
   "outputs": [],
   "execution_count": null
  },
  {
   "metadata": {},
   "cell_type": "code",
   "source": [
    "plt.figure(figsize=(10, 8))\n",
    "    \n",
    "# Use a heatmap to display the distance matrix\n",
    "normalized_query_distances = (query_distances - query_distances.min(axis=0)) / (query_distances.max(axis=0) - query_distances.min(axis=0))\n",
    "plt.imshow(normalized_query_distances, aspect='auto')\n",
    "\n",
    "# Add a color bar to show the scale of distances\n",
    "plt.colorbar(label='Distance')\n",
    "\n",
    "# Add labels for clarity\n",
    "plt.xlabel('Database Images')\n",
    "plt.ylabel('Query Images')\n",
    "plt.title('Distance Matrix Between Query and Database Descriptors')\n",
    "\n",
    "# Show the plot\n",
    "plt.show()"
   ],
   "id": "625ef8cb188cdf83",
   "outputs": [],
   "execution_count": null
  },
  {
   "metadata": {},
   "cell_type": "markdown",
   "source": "## Task 3 - Implement retrieval system (retrieve top K results)",
   "id": "23dc7163138fbbef"
  },
  {
   "metadata": {},
   "cell_type": "code",
   "source": [
    "def get_topk_distances(distances: np.array, k: int = 1) -> tuple[list[list], list[list]]:\n",
    "    # Get the indices of the top k minimum values for each row\n",
    "    indices = np.argsort(distances, axis=1)[:, :k]\n",
    "    \n",
    "    # Gather the top k scores using the indices\n",
    "    scores = np.take_along_axis(distances, indices, axis=1)\n",
    "    \n",
    "    return indices.tolist(), scores.tolist()"
   ],
   "id": "3800600eef416463",
   "outputs": [],
   "execution_count": null
  },
  {
   "metadata": {},
   "cell_type": "code",
   "source": [
    "# Select number of results to be retrieved\n",
    "k = 1"
   ],
   "id": "d484b207dca33ec8",
   "outputs": [],
   "execution_count": null
  },
  {
   "metadata": {},
   "cell_type": "code",
   "source": "indices, scores = get_topk_distances(query_distances, k=k)",
   "id": "50e81df66a1d8028",
   "outputs": [],
   "execution_count": null
  },
  {
   "metadata": {},
   "cell_type": "code",
   "source": [
    "# Metrics\n",
    "\n"
   ],
   "id": "52ca389d6a253917",
   "outputs": [],
   "execution_count": null
  },
  {
   "metadata": {},
   "cell_type": "code",
   "source": [
    "# Visualization\n",
    "import matplotlib.image as mpimg\n",
    "\n",
    "# Plot the images in a subplot\n",
    "n = len(GT_QSD1_W1_LIST)  # Number of rows (ground truth images)\n",
    "\n",
    "# Create a figure with n rows and k+1 columns (for the GT and N pred images)\n",
    "fig, axs = plt.subplots(n, k + 2, figsize=(3 * (k + 2), 3 * n))\n",
    "\n",
    "# Loop through each ground truth and predicted images\n",
    "for i in range(n):\n",
    "    # Load ground truth image\n",
    "    query_image_path = QSD1_W1_PATH / f\"{str(i).zfill(5)}.jpg\"\n",
    "    query_image_PIL = Image.open(query_image_path)\n",
    "\n",
    "    # Plot ground truth image in the first column\n",
    "    axs[i, 0].imshow(query_image_PIL)\n",
    "    axs[i, 0].set_title(f\"QUERY - {query_image_path.name}\")\n",
    "    axs[i, 0].axis('off')\n",
    "\n",
    "    # Load ground truth image\n",
    "    gt_idx = GT_QSD1_W1_LIST[i][0]  # only one index in GT\n",
    "    database_image_path = BBDD_PATH / f\"bbdd_{str(gt_idx).zfill(5)}.jpg\"\n",
    "    database_image_PIL = Image.open(database_image_path)\n",
    "\n",
    "    # Plot ground truth image in the first column\n",
    "    axs[i, 1].imshow(database_image_PIL)\n",
    "    axs[i, 1].set_title(f\"BBDD: {database_image_path.name}\")\n",
    "    axs[i, 1].axis('off')\n",
    "\n",
    "    # Loop through the retrieved images\n",
    "    for j in range(k):\n",
    "        retrieved_idx = indices[i][j]  # 'k' indices retrieved\n",
    "        retrieved_image_path = BBDD_PATH / f\"bbdd_{str(retrieved_idx).zfill(5)}.jpg\"\n",
    "        retrieved_image_PIL = Image.open(retrieved_image_path)\n",
    "        axs[i, j + 2].imshow(retrieved_image_PIL)\n",
    "        axs[i, j + 2].set_title(f\"PRED {j} - {retrieved_image_path.name}\")\n",
    "        axs[i, j + 2].axis('off')\n",
    "\n",
    "# Adjust layout\n",
    "plt.tight_layout()\n",
    "plt.show()"
   ],
   "id": "a97d8508736f4dc6",
   "outputs": [],
   "execution_count": null
  },
  {
   "metadata": {},
   "cell_type": "markdown",
   "source": "## Task 4 - Create predictions for blind challenge (QST1)",
   "id": "1cfcbe66daddcae7"
  },
  {
   "metadata": {},
   "cell_type": "code",
   "source": "",
   "id": "a58d40a2833c399f",
   "outputs": [],
   "execution_count": null
  }
 ],
 "metadata": {
  "kernelspec": {
   "display_name": "venv",
   "language": "python",
   "name": "venv"
  },
  "language_info": {
   "codemirror_mode": {
    "name": "ipython",
    "version": 2
   },
   "file_extension": ".py",
   "mimetype": "text/x-python",
   "name": "python",
   "nbconvert_exporter": "python",
   "pygments_lexer": "ipython2",
   "version": "2.7.6"
  }
 },
 "nbformat": 4,
 "nbformat_minor": 5
}
