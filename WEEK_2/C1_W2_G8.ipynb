{
 "cells": [
  {
   "metadata": {},
   "cell_type": "markdown",
   "source": "# C1 W1 Group 8",
   "id": "40cc59bf39f6bbae"
  },
  {
   "metadata": {},
   "cell_type": "code",
   "source": [
    "from matplotlib import pyplot as plt\n",
    "import numpy as np\n",
    "from PIL import Image, ImageDraw\n",
    "import seaborn as sns\n",
    "import pandas as pd\n",
    "\n",
    "from src.data import GT_QSD1_W1_LIST\n",
    "from src.paths import BBDD_PATH, QSD1_W1_PATH, QST1_W1_PATH, WEEK_1_RESULTS_PATH\n",
    "from src.descriptors import GreyScaleHistogramDescriptor1D, ColorHistogramDescriptor1D, MultiColorSpaceHistogramDescriptor1D\n",
    "from src.similarities import MSE, L1Distance, ChiSquaredDistance, HistogramIntersection, HellingerKernel, Bhattacharyya\n",
    "from src.metrics import MeanAveragePrecisionAtK\n",
    "import pickle\n",
    "from tqdm import tqdm"
   ],
   "id": "6ae0579860f63dbc",
   "outputs": [],
   "execution_count": null
  },
  {
   "metadata": {},
   "cell_type": "markdown",
   "source": "## Task 1 - Implement 3D / 2D and block and hierarchical histograms",
   "id": "88b6eac9dee74801"
  },
  {
   "metadata": {},
   "cell_type": "code",
   "source": [
    "database_image_PIL_list = [Image.open(db_img_path) for db_img_path in sorted(BBDD_PATH.glob(\"*.jpg\"))]  # Load once\n",
    "for idx, db_img in enumerate(database_image_PIL_list):\n",
    "    assert db_img.filename.endswith(f\"{idx}.jpg\")"
   ],
   "id": "3aa4a6530a31f935",
   "outputs": [],
   "execution_count": null
  },
  {
   "metadata": {},
   "cell_type": "code",
   "source": [
    "def partition_image(image: Image.Image, N: int):\n",
    "    img_width, img_height = image.size\n",
    "    \n",
    "    # Compute info about the partition\n",
    "    rows = cols = int(N**0.5)  # Assuming N is a perfect square\n",
    "    part_width = img_width // cols\n",
    "    part_height = img_height // rows\n",
    "    \n",
    "    partitions = []\n",
    "    \n",
    "    # Crop each partition\n",
    "    for row in range(rows):\n",
    "        for col in range(cols):\n",
    "            left = col * part_width\n",
    "            top = row * part_height\n",
    "            right = left + part_width\n",
    "            bottom = top + part_height\n",
    "            part = image.crop((left, top, right, bottom))\n",
    "            partitions.append(part)\n",
    "    \n",
    "    return partitions\n",
    "\n",
    "def plot_partitions(image, N):\n",
    "    img_width, img_height = image.size\n",
    "    \n",
    "    # Compute info about the partition\n",
    "    rows = cols = int(N**0.5)  # Assuming N is a perfect square\n",
    "    part_width = img_width // cols\n",
    "    part_height = img_height // rows\n",
    "    \n",
    "    draw = ImageDraw.Draw(image)\n",
    "    \n",
    "    # Vertical partition lines\n",
    "    for i in range(1, cols):\n",
    "        x = i * part_width\n",
    "        draw.line([(x, 0), (x, img_height)], fill=\"white\", width=5)  \n",
    "    \n",
    "    # Horizontal partition lines\n",
    "    for i in range(1, rows):\n",
    "        y = i * part_height\n",
    "        draw.line([(0, y), (img_width, y)], fill=\"white\", width=5)  \n",
    "    \n",
    "    return image"
   ],
   "id": "8e73ae90d5c5b705",
   "outputs": [],
   "execution_count": null
  },
  {
   "metadata": {},
   "cell_type": "code",
   "source": [
    "partitioned_images = {}\n",
    "partition_levels = [1,4,8]"
   ],
   "id": "abe74ad5e1964da8",
   "outputs": [],
   "execution_count": null
  },
  {
   "metadata": {},
   "cell_type": "code",
   "source": [
    "for partition_level in partition_levels:\n",
    "    partitioned_images[partition_level] = [\n",
    "        partition_image(img, partition_level) \n",
    "        for img in tqdm(database_image_PIL_list, desc=f\"Partitioning at level {partition_level}\")\n",
    "    ]"
   ],
   "id": "aea7d0439c975970",
   "outputs": [],
   "execution_count": null
  },
  {
   "metadata": {},
   "cell_type": "code",
   "source": "descriptors_lab1 = [MultiColorSpaceHistogramDescriptor1D(['HSV', 'LAB', 'YCbCr'], histogram_type='log-chromatic')]",
   "id": "adc930b06647f198",
   "outputs": [],
   "execution_count": null
  },
  {
   "metadata": {},
   "cell_type": "code",
   "source": [
    "partitioned_histograms = {}\n",
    "\n",
    "for descriptor in tqdm(descriptors_lab1, desc=\"Processing descriptors\"):\n",
    "    partitioned_histograms[descriptor.__class__.__name__] = {}\n",
    "\n",
    "    for partition_level in tqdm(partition_levels, desc=f\"Partition levels for {descriptor.__class__.__name__}\", leave=False):\n",
    "        partitioned_histograms[descriptor.__class__.__name__][partition_level] = []\n",
    "\n",
    "        for partitions in tqdm(partitioned_images[partition_level]):\n",
    "            for img in partitions:\n",
    "                histogram = descriptor.compute(img)\n",
    "                partitioned_histograms[descriptor.__class__.__name__][partition_level].append(histogram)\n"
   ],
   "id": "8e1cc07b40abb516",
   "outputs": [],
   "execution_count": null
  },
  {
   "metadata": {},
   "cell_type": "code",
   "source": "",
   "id": "b249a18df61211c6",
   "outputs": [],
   "execution_count": null
  }
 ],
 "metadata": {
  "kernelspec": {
   "display_name": "Python 3",
   "language": "python",
   "name": "python3"
  },
  "language_info": {
   "codemirror_mode": {
    "name": "ipython",
    "version": 2
   },
   "file_extension": ".py",
   "mimetype": "text/x-python",
   "name": "python",
   "nbconvert_exporter": "python",
   "pygments_lexer": "ipython2",
   "version": "2.7.6"
  }
 },
 "nbformat": 4,
 "nbformat_minor": 5
}
