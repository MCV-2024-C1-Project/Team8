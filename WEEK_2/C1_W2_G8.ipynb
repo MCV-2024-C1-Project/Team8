{
 "cells": [
  {
   "cell_type": "markdown",
   "id": "40cc59bf39f6bbae",
   "metadata": {},
   "source": [
    "# C1 W1 Group 8"
   ]
  },
  {
   "cell_type": "code",
   "execution_count": 1,
   "id": "6ae0579860f63dbc",
   "metadata": {},
   "outputs": [],
   "source": [
    "from matplotlib import pyplot as plt\n",
    "import numpy as np\n",
    "from PIL import Image, ImageDraw\n",
    "import seaborn as sns\n",
    "import pandas as pd\n",
    "import cv2\n",
    "\n",
    "from src.data import GT_QSD1_W2_LIST\n",
    "from src.paths import BBDD_PATH, QSD1_W2_PATH, QSD2_W2_PATH, QST1_W2_PATH, QST2_W2_PATH, WEEK_2_RESULTS_PATH\n",
    "from src.descriptors import GreyScaleHistogramDescriptor1D, ColorHistogramDescriptor1D, MultiColorSpaceHistogramDescriptor1D\n",
    "from src.similarities import MSE, L1Distance, ChiSquaredDistance, HistogramIntersection, HellingerKernel, Bhattacharyya\n",
    "from src.metrics import MeanAveragePrecisionAtK\n",
    "import pickle\n",
    "from tqdm import tqdm"
   ]
  },
  {
   "cell_type": "markdown",
   "id": "88b6eac9dee74801",
   "metadata": {},
   "source": [
    "## Task 1 - Implement 3D / 2D and block and hierarchical histograms"
   ]
  },
  {
   "cell_type": "code",
   "execution_count": 3,
   "id": "3aa4a6530a31f935",
   "metadata": {},
   "outputs": [],
   "source": [
    "database_image_PIL_list = [Image.open(db_img_path) for db_img_path in sorted(BBDD_PATH.glob(\"*.jpg\"))]  # Load once\n",
    "for idx, db_img in enumerate(database_image_PIL_list):\n",
    "    assert db_img.filename.endswith(f\"{idx}.jpg\")"
   ]
  },
  {
   "cell_type": "code",
   "execution_count": 4,
   "id": "8e73ae90d5c5b705",
   "metadata": {},
   "outputs": [],
   "source": [
    "def partition_image(image: Image.Image, N: int):\n",
    "    img_width, img_height = image.size\n",
    "    \n",
    "    # Compute info about the partition\n",
    "    rows = cols = int(N**0.5)  # Assuming N is a perfect square\n",
    "    part_width = img_width // cols\n",
    "    part_height = img_height // rows\n",
    "    \n",
    "    partitions = []\n",
    "    \n",
    "    # Crop each partition\n",
    "    for row in range(rows):\n",
    "        for col in range(cols):\n",
    "            left = col * part_width\n",
    "            top = row * part_height\n",
    "            right = left + part_width\n",
    "            bottom = top + part_height\n",
    "            part = image.crop((left, top, right, bottom))\n",
    "            partitions.append(part)\n",
    "    \n",
    "    return partitions\n",
    "\n",
    "def plot_partitions(image, N):\n",
    "    img_width, img_height = image.size\n",
    "    \n",
    "    # Compute info about the partition\n",
    "    rows = cols = int(N**0.5)  # Assuming N is a perfect square\n",
    "    part_width = img_width // cols\n",
    "    part_height = img_height // rows\n",
    "    \n",
    "    draw = ImageDraw.Draw(image)\n",
    "    \n",
    "    # Vertical partition lines\n",
    "    for i in range(1, cols):\n",
    "        x = i * part_width\n",
    "        draw.line([(x, 0), (x, img_height)], fill=\"white\", width=5)  \n",
    "    \n",
    "    # Horizontal partition lines\n",
    "    for i in range(1, rows):\n",
    "        y = i * part_height\n",
    "        draw.line([(0, y), (img_width, y)], fill=\"white\", width=5)  \n",
    "    \n",
    "    return image"
   ]
  },
  {
   "cell_type": "code",
   "execution_count": 5,
   "id": "abe74ad5e1964da8",
   "metadata": {},
   "outputs": [],
   "source": [
    "partitioned_images = {}\n",
    "partition_levels = [1,4,8]"
   ]
  },
  {
   "cell_type": "code",
   "execution_count": null,
   "id": "aea7d0439c975970",
   "metadata": {},
   "outputs": [],
   "source": [
    "for partition_level in partition_levels:\n",
    "    partitioned_images[partition_level] = [\n",
    "        partition_image(img, partition_level) \n",
    "        for img in tqdm(database_image_PIL_list, desc=f\"Partitioning at level {partition_level}\")\n",
    "    ]"
   ]
  },
  {
   "cell_type": "code",
   "execution_count": 7,
   "id": "adc930b06647f198",
   "metadata": {},
   "outputs": [],
   "source": [
    "descriptors_lab1 = [MultiColorSpaceHistogramDescriptor1D(['HSV', 'LAB', 'YCbCr'], histogram_type='log-chromatic')]"
   ]
  },
  {
   "cell_type": "code",
   "execution_count": null,
   "id": "8e1cc07b40abb516",
   "metadata": {},
   "outputs": [],
   "source": [
    "partitioned_histograms = {}\n",
    "\n",
    "for descriptor in tqdm(descriptors_lab1, desc=\"Processing descriptors\"):\n",
    "    partitioned_histograms[descriptor.__class__.__name__] = {}\n",
    "\n",
    "    for partition_level in tqdm(partition_levels, desc=f\"Partition levels for {descriptor.__class__.__name__}\", leave=False):\n",
    "        partitioned_histograms[descriptor.__class__.__name__][partition_level] = []\n",
    "\n",
    "        for partitions in tqdm(partitioned_images[partition_level]):\n",
    "            for img in partitions:\n",
    "                histogram = descriptor.compute(img)\n",
    "                partitioned_histograms[descriptor.__class__.__name__][partition_level].append(histogram)\n"
   ]
  },
  {
   "cell_type": "markdown",
   "id": "b249a18df61211c6",
   "metadata": {},
   "source": [
    "## Task 3 - \n",
    "For each image in the QS2, remove background using the background color:\n",
    "- Create a binary mask to evaluate the method\n",
    "- Compute the descriptors on the foreground pixels"
   ]
  },
  {
   "cell_type": "markdown",
   "id": "4a2967fb",
   "metadata": {},
   "source": [
    "We can see that H is not really meaningful.\n",
    "Lets see histogram distribution of both S and V"
   ]
  }
 ],
 "metadata": {
  "kernelspec": {
   "display_name": "venv",
   "language": "python",
   "name": "python3"
  },
  "language_info": {
   "codemirror_mode": {
    "name": "ipython",
    "version": 3
   },
   "file_extension": ".py",
   "mimetype": "text/x-python",
   "name": "python",
   "nbconvert_exporter": "python",
   "pygments_lexer": "ipython3",
   "version": "3.12.7"
  }
 },
 "nbformat": 4,
 "nbformat_minor": 5
}
