{
 "cells": [
  {
   "cell_type": "markdown",
   "id": "30120a9c8a0e48a6",
   "metadata": {},
   "source": [
    "# C1 W4 Group 8 - Task 1\n"
   ]
  },
  {
   "cell_type": "code",
   "execution_count": 1,
   "id": "initial_id",
   "metadata": {
    "collapsed": true
   },
   "outputs": [],
   "source": [
    "from PIL import Image\n",
    "from tqdm import tqdm\n",
    "import cv2\n",
    "import numpy as np\n",
    "from src.data import AUGMENTATIONS_QSD1_W4_LIST, FRAMES_QSD1_W4_LIST, GT_QSD1_W4_LIST\n",
    "from src.paths import BBDD_PATH, QSD1_W4_PATH, QSD1_NON_AUGMENTED_W4_PATH, WEEK_4_RESULTS_PATH\n",
    "import matplotlib.pyplot as plt"
   ]
  },
  {
   "cell_type": "code",
   "execution_count": 2,
   "id": "47141860131fd183",
   "metadata": {},
   "outputs": [],
   "source": [
    "BBDD_PATH_LIST = sorted(BBDD_PATH.glob(\"*.jpg\"))\n",
    "QSD1_W4_PATH_LIST = sorted(QSD1_W4_PATH.glob(\"*.jpg\"))\n",
    "QSD1_NON_AUGMENTED_W4_PATH_LIST = sorted(QSD1_NON_AUGMENTED_W4_PATH.glob(\"*.jpg\"))"
   ]
  },
  {
   "cell_type": "code",
   "execution_count": 3,
   "id": "330df2127bcf9af8",
   "metadata": {},
   "outputs": [],
   "source": [
    "database_image_PIL_list = [Image.open(db_img_path) for db_img_path in BBDD_PATH_LIST]  # Load once\n",
    "for idx, db_img in enumerate(database_image_PIL_list):\n",
    "    assert db_img.filename.endswith(f\"{idx}.jpg\")"
   ]
  },
  {
   "cell_type": "code",
   "execution_count": 4,
   "id": "546d5963f54f03e2",
   "metadata": {},
   "outputs": [],
   "source": [
    "query_d1_image_PIL_list = [Image.open(query_img_path) for query_img_path in QSD1_W4_PATH_LIST]  # Load once\n",
    "for idx, query_img in enumerate(query_d1_image_PIL_list):\n",
    "    assert query_img.filename.endswith(f\"{idx}.jpg\")"
   ]
  },
  {
   "cell_type": "code",
   "execution_count": 5,
   "id": "5c124ce4566bd4b5",
   "metadata": {},
   "outputs": [],
   "source": [
    "non_augmented_d1_image_PIL_list = [Image.open(query_img_path) for query_img_path in QSD1_NON_AUGMENTED_W4_PATH_LIST]  # Load once\n",
    "for idx, query_img in enumerate(non_augmented_d1_image_PIL_list):\n",
    "    assert query_img.filename.endswith(f\"{idx}.jpg\")"
   ]
  },
  {
   "cell_type": "code",
   "execution_count": null,
   "id": "56a42bceaf2aa49c",
   "metadata": {},
   "outputs": [],
   "source": [
    "for file, augmentation, frames, gt in zip(QSD1_W4_PATH_LIST, AUGMENTATIONS_QSD1_W4_LIST, FRAMES_QSD1_W4_LIST, GT_QSD1_W4_LIST):\n",
    "    frame_info = \"; \".join([f\"({frame[0]:.2f}, {frame[1]})\" for frame in frames])\n",
    "    print(f\"File={file.stem}, Aug={augmentation}, Frames={frame_info}, GT={gt}\")"
   ]
  },
  {
   "cell_type": "markdown",
   "id": "7f042e91abb3d1eb",
   "metadata": {},
   "source": [
    "## Denoising over the images"
   ]
  },
  {
   "cell_type": "code",
   "execution_count": 6,
   "id": "49a14b5d5aeb0ecd",
   "metadata": {},
   "outputs": [],
   "source": [
    "from src.denoising import denoise_image"
   ]
  },
  {
   "cell_type": "code",
   "execution_count": 7,
   "id": "46e65a77158515cf",
   "metadata": {},
   "outputs": [],
   "source": [
    "# Median filter\n",
    "denoised_query_d1_PIL_list = [denoise_image(image) for image in query_d1_image_PIL_list]"
   ]
  },
  {
   "cell_type": "code",
   "execution_count": 8,
   "id": "fe6164d6b843b0da",
   "metadata": {},
   "outputs": [],
   "source": [
    "def plot_images_with_multiple_filters(original_images, noisy_images, denoised_images, save_path):\n",
    "    num_images = len(original_images)\n",
    "    num_cols = 3\n",
    "    fig, axes = plt.subplots(num_images, num_cols, figsize=(25, 5 * num_images))  # +1 for original image\n",
    "\n",
    "    for i in range(num_images):\n",
    "        original_image = original_images[i]\n",
    "        noisy_image = noisy_images[i]\n",
    "\n",
    "        axes[i, 0].imshow(original_image)\n",
    "        axes[i, 0].set_title(f'Original Image {i+1}')\n",
    "        axes[i, 0].axis('off')\n",
    "\n",
    "        axes[i, 1].imshow(noisy_image)\n",
    "        axes[i, 1].set_title(f'Noisy image Image {i+1}')\n",
    "        axes[i, 1].axis('off')\n",
    "\n",
    "        axes[i, 2].imshow(denoised_images[i])\n",
    "        axes[i, 2].set_title(f'Denoised {i+1}')\n",
    "        axes[i, 2].axis('off')\n",
    "\n",
    "    plt.tight_layout()\n",
    "    plt.savefig(save_path)\n",
    "    plt.close()"
   ]
  },
  {
   "cell_type": "code",
   "execution_count": null,
   "id": "45d77a0029d498ef",
   "metadata": {},
   "outputs": [],
   "source": [
    "plot_images_with_multiple_filters(non_augmented_d1_image_PIL_list, query_d1_image_PIL_list,\n",
    "                                   denoised_query_d1_PIL_list, WEEK_4_RESULTS_PATH / \"Task_1\"/ 'denoised_images_plot.png')"
   ]
  },
  {
   "cell_type": "markdown",
   "id": "4f947ef2331b17f2",
   "metadata": {},
   "source": [
    "## Background removal"
   ]
  },
  {
   "cell_type": "code",
   "execution_count": 9,
   "id": "99dcdf5c",
   "metadata": {},
   "outputs": [],
   "source": [
    "from src.background import get_painting_masks, crop_image_by_mask"
   ]
  },
  {
   "cell_type": "code",
   "execution_count": 10,
   "id": "78741ae0cb4204c3",
   "metadata": {},
   "outputs": [],
   "source": [
    "def crop_paintings_from_image(image, ground_truth):\n",
    "    image_np = np.array(image)\n",
    "    cropped_images = []\n",
    "\n",
    "    for points in (entry[1] for entry in ground_truth):\n",
    "        src_points = np.array(points, dtype=np.float32)\n",
    "        width, height = map(int, [np.linalg.norm(src_points[1] - src_points[0]), np.linalg.norm(src_points[2] - src_points[1])])\n",
    "        dst_points = np.array([[0, 0], [width, 0], [width, height], [0, height]], dtype=np.float32)\n",
    "\n",
    "        M = cv2.getPerspectiveTransform(src_points, dst_points)\n",
    "        cropped_images.append(Image.fromarray(cv2.warpPerspective(image_np, M, (width, height))))\n",
    "\n",
    "    return cropped_images"
   ]
  },
  {
   "cell_type": "code",
   "execution_count": 11,
   "id": "7155a51612e864da",
   "metadata": {},
   "outputs": [
    {
     "name": "stderr",
     "output_type": "stream",
     "text": [
      "Splitting 00029: : 30it [00:00, 31.21it/s]\n"
     ]
    }
   ],
   "source": [
    "cropped_query_image_list_d1 = []\n",
    "pbar = tqdm(zip(sorted(QSD1_W4_PATH.glob(\"*.jpg\")), denoised_query_d1_PIL_list, FRAMES_QSD1_W4_LIST))\n",
    "for name, image, predicted_mask in pbar:\n",
    "    pbar.set_description(f\"Splitting {name.stem}\")\n",
    "    cropped_query_image_list_d1.append(crop_paintings_from_image(image, predicted_mask))"
   ]
  },
  {
   "cell_type": "code",
   "execution_count": null,
   "id": "81ae2a0cc15ac3f",
   "metadata": {},
   "outputs": [],
   "source": [
    "n_rows = len(cropped_query_image_list_d1)\n",
    "\n",
    "fig, axes = plt.subplots(n_rows, 2, figsize=(6, n_rows *1.5))\n",
    "\n",
    "for ax, l in zip(axes, cropped_query_image_list_d1):\n",
    "    ax[0].imshow(l[0]); ax[0].axis('off')\n",
    "    if len(l) > 1:\n",
    "        ax[1].imshow(l[1])\n",
    "    ax[1].axis('off')\n",
    "\n",
    "plt.tight_layout()\n",
    "plt.show()"
   ]
  },
  {
   "cell_type": "markdown",
   "id": "2fa52adc3b808eaf",
   "metadata": {},
   "source": [
    "## Keypoint extraction"
   ]
  },
  {
   "cell_type": "code",
   "execution_count": 12,
   "id": "632d7fa5f50c91d4",
   "metadata": {},
   "outputs": [],
   "source": [
    "from src.descriptors import SIFTDescriptor, ORBDescriptor, HOGDescriptor, ImageRetrievalSystem"
   ]
  },
  {
   "cell_type": "code",
   "execution_count": 13,
   "id": "63e6d84d",
   "metadata": {},
   "outputs": [],
   "source": [
    "# denoise also dataset ?\n",
    "denoise_database_image = [denoise_image(image) for image in database_image_PIL_list]"
   ]
  },
  {
   "cell_type": "code",
   "execution_count": 14,
   "id": "192a13de49a3da30",
   "metadata": {},
   "outputs": [],
   "source": [
    "descriptors = {\n",
    "    'HOG': HOGDescriptor(),\n",
    "    'SIFT': SIFTDescriptor(max_features=500),\n",
    "    # 'ORB': ORBDescriptor(),\n",
    "}\n",
    "descriptor_path = WEEK_4_RESULTS_PATH / 'Task_1' / 'descriptors'  \n",
    "\n",
    "retrieval_system = ImageRetrievalSystem(descriptors, descriptor_path)"
   ]
  },
  {
   "cell_type": "code",
   "execution_count": null,
   "id": "d9301837aa18ba34",
   "metadata": {},
   "outputs": [],
   "source": [
    "# Set number of top similar images to retrieve\n",
    "K = 10\n",
    "\n",
    "results = {}\n",
    "g_0 = {}\n",
    "\n",
    "for descriptor_name in descriptors.keys():\n",
    "    print(f\"\\nRetrieving similar images using {descriptor_name} descriptor:\")\n",
    "    results[descriptor_name], g_0[descriptor_name] = retrieval_system.retrieve_similar_images(cropped_query_image_list_d1, denoise_database_image, K, descriptor_name, t = 0.99)\n"
   ]
  },
  {
   "cell_type": "code",
   "execution_count": 16,
   "id": "92635e402c620511",
   "metadata": {},
   "outputs": [],
   "source": [
    "from src.metrics import MeanAveragePrecisionAtK"
   ]
  },
  {
   "cell_type": "code",
   "execution_count": 17,
   "id": "571fc472e63b441e",
   "metadata": {},
   "outputs": [],
   "source": [
    "map = MeanAveragePrecisionAtK()"
   ]
  },
  {
   "cell_type": "code",
   "execution_count": 19,
   "id": "21ea2127a607737a",
   "metadata": {},
   "outputs": [
    {
     "name": "stdout",
     "output_type": "stream",
     "text": [
      "[[-1], [150], [48], [251], [32], [161], [81], [62], [38], [-1], [128], [155], [258], [136], [76], [-1], [-1], [53], [-1], [12], [11], [280], [-1], [182], [252], [-1], [272], [117], [-1], [242], [260], [94], [132], [223], [-1], [127], [47], [13], [-1]] \n",
      "########################################\n",
      "[[176, 286, 40, 193, 69, 77, 260, 67, 233, 81], [150, 184, 95, 160, 218, 232, 88, 192, 123, 244], [48, 78, 266, 111, 254, 151, 243, 221, 25, 156], [251, 11, 120, 282, 85, 32, 54, 162, 138, 180], [32, 120, 282, 39, 11, 180, 119, 138, 193, 251], [161, 40, 275, 244, 81, 286, 193, 104, 218, 88], [81, 40, 161, 193, 94, 275, 104, 67, 158, 286], [62, 115, 224, 80, 124, 53, 146, 100, 13, 107], [38, 52, 192, 160, 232, 56, 170, 2, 29, 259], [176, 193, 286, 40, 69, 77, 233, 260, 119, 81], [-1], [155, 238, 11, 139, 177, 285, 162, 138, 216, 35], [258, 144, 285, 42, 177, 246, 139, 118, 32, 218], [136, 271, 147, 82, 174, 62, 168, 218, 13, 101], [76, 120, 40, 193, 286, 69, 282, 119, 272, 233], [266, 25, 151, 200, 78, 263, 74, 274, 152, 50], [272, 120, 222, 40, 193, 273, 196, 119, 32, 69], [-1], [115, 107, 250, 124, 263, 80, 50, 129, 100, 122], [12, 151, 25, 78, 217, 96, 266, 274, 50, 200], [11, 162, 120, 282, 32, 54, 238, 180, 285, 138], [280, 69, 70, 77, 176, 158, 88, 60, 104, 232], [26, 163, 101, 58, 259, 245, 154, 60, 215, 51], [182, 69, 233, 77, 272, 31, 120, 70, 286, 206], [252, 154, 51, 116, 215, 58, 259, 163, 192, 281], [-1], [272, 183, 273, 270, 222, 120, 196, 277, 268, 209], [117, 285, 32, 120, 11, 283, 178, 162, 84, 140], [254, 202, 250, 263, 216, 151, 238, 50, 55, 179], [242, 78, 200, 25, 107, 151, 198, 156, 74, 266], [260, 218, 244, 206, 160, 60, 193, 88, 57, 104], [94, 40, 81, 105, 39, 161, 180, 104, 226, 193], [132, 174, 271, 239, 237, 223, 107, 115, 146, 23], [-1], [78, 221, 266, 156, 25, 96, 200, 151, 274, 74], [127, 120, 103, 180, 140, 21, 282, 32, 84, 35], [47, 113, 192, 52, 29, 215, 232, 51, 160, 58], [13, 115, 168, 57, 225, 100, 223, 133, 218, 146], [120, 272, 282, 32, 193, 119, 11, 40, 196, 206]]\n",
      "########################################\n",
      "[[-1], [150, 95, 220, 178, 66, 257, 171, 89, 16, 231], [-1], [251, 229, 220, 258, 236, 188, 141, 89, 280, 171], [-1], [158, 54, 84, 94, 228, 270, 206, 16, 120, 34], [-1], [62, 78, 157, 98, 105, 122, 133, 144, 253, 61], [38, 171, 229, 178, 220, 67, 141, 45, 115, 258], [206, 58, 84, 51, 69, 47, 104, 192, 113, 215], [128, 255, 88, 256, 17, 244, 62, 153, 171, 155], [155, 144, 8, 180, 242, 61, 131, 10, 231, 89], [258, 10, 285, 153, 65, 267, 45, 89, 280, 277], [136, 258, 73, 171, 38, 285, 17, 219, 179, 19], [76, 249, 43, 91, 109, 16, 203, 19, 101, 158], [40, 92, 11, 108, 199, 273, 146, 109, 241, 68], [273, 186, 196, 171, 282, 81, 255, 28, 11, 285], [53, 180, 98, 159, 73, 148, 3, 28, 55, 201], [-1], [12, 213, 185, 61, 56, 124, 87, 55, 149, 18], [252, 196, 67, 11, 256, 279, 188, 264, 226, 183], [280, 16, 41, 90, 194, 13, 43, 124, 214, 270], [67, 233, 52, 214, 45, 183, 264, 261, 186, 120], [182, 91, 98, 251, 18, 90, 143, 236, 97, 226], [252, 183, 101, 41, 90, 24, 67, 270, 222, 203], [-1], [272, 13, 76, 20, 67, 19, 183, 203, 18, 90], [117, 203, 115, 13, 263, 251, 18, 242, 201, 277], [255, 88, 256, 180, 153, 258, 62, 196, 244, 171], [242, 201, 148, 66, 3, 251, 171, 61, 89, 159], [-1], [-1], [132, 146, 105, 96, 92, 174, 133, 108, 44, 219], [-1], [-1], [127, 6, 221, 109, 129, 105, 64, 108, 269, 213], [47, 192, 259, 58, 84, 69, 206, 239, 260, 160], [13, 52, 203, 282, 258, 145, 265, 178, 73, 20], [-1]]\n"
     ]
    }
   ],
   "source": [
    "GT_mod = []\n",
    "for element in GT_QSD1_W4_LIST:\n",
    "    if len(element) == 2:\n",
    "        GT_mod.extend([[element[0]], [element[1]]])\n",
    "    else:\n",
    "        GT_mod.append([element[0]])\n",
    "\n",
    "results_mod = {}\n",
    "for descriptor_name in descriptors.keys():\n",
    "    results_mod[descriptor_name] = []\n",
    "    for element in results[descriptor_name]:\n",
    "        if len(element) == 2:\n",
    "            results_mod[descriptor_name].extend([element[0], element[1]])\n",
    "        else:\n",
    "            results_mod[descriptor_name].append(element[0])\n",
    "\n",
    "print(GT_mod,\"\\n\"+\"#\" * 40)\n",
    "print(f'\\n{\"#\"*40}\\n'.join([str(result) for result in results_mod.values()]))"
   ]
  },
  {
   "cell_type": "code",
   "execution_count": 24,
   "id": "2ef95abfbb387deb",
   "metadata": {},
   "outputs": [
    {
     "name": "stdout",
     "output_type": "stream",
     "text": [
      "Results for HOG:\n",
      "0.6923076923076923\n",
      "########################################\n",
      "\n",
      "Results for SIFT:\n",
      "0.6730769230769231\n",
      "########################################\n",
      "\n"
     ]
    }
   ],
   "source": [
    "for descriptor_name, results in results_mod.items():\n",
    "    print(f\"Results for {descriptor_name}:\")\n",
    "    results = map.compute(GT_mod, results, k=K)\n",
    "    print(f\"{results}\\n{\"#\" * 40}\\n\")"
   ]
  },
  {
   "cell_type": "code",
   "execution_count": null,
   "id": "dbf6780d0f89b0bf",
   "metadata": {},
   "outputs": [],
   "source": [
    "idx = 0\n",
    "non_found_dist = []\n",
    "for res, gt, gap in zip(results_mod, GT_mod, g_0):\n",
    "    print(f\"{idx} | Res: {res}, GT: {gt}, gaps: {gap[1]}\")\n",
    "    idx += 1\n",
    "\n",
    "non_found_dist = []\n",
    "for idx, (res, gt, gap) in enumerate(zip(results_mod, GT_mod, g_0)):\n",
    "    gap_str = ', '.join([f\"{g:.2f}\" for g in gap[1]])  # Format gaps to 2 decimal places\n",
    "    print(f\"{idx:2} | Res: {res:<50} | GT: {gt:<10} | Gaps: [{gap_str}]\")\n"
   ]
  },
  {
   "cell_type": "code",
   "execution_count": null,
   "id": "ade0d65137a1699c",
   "metadata": {},
   "outputs": [],
   "source": [
    "db_i = descriptors['SIFT'].compute(np.array(database_image_PIL_list[32]))\n",
    "query_i = descriptors['SIFT'].compute(np.array(cropped_query_image_list_d1[4][0]))\n",
    "print(db_i[0][0])"
   ]
  },
  {
   "cell_type": "code",
   "execution_count": null,
   "id": "1e319cf697c3ddcf",
   "metadata": {},
   "outputs": [],
   "source": [
    "from scipy.spatial.distance import cdist\n",
    "\n",
    "distances = cdist(db_i[1], query_i[1], metric='euclidean')\n",
    "min_distances = np.min(distances, axis=1)\n",
    "mean = np.mean(min_distances)\n",
    "\n",
    "print(mean)\n",
    "\n",
    "db_i = descriptors['SIFT'].compute(np.array(database_image_PIL_list[177]))\n",
    "distances = cdist(db_i[1], query_i[1], metric='euclidean')\n",
    "min_distances = np.min(distances, axis=1)\n",
    "mean = np.mean(min_distances)\n",
    "\n",
    "print(mean)\n"
   ]
  }
 ],
 "metadata": {
  "kernelspec": {
   "display_name": "venv",
   "language": "python",
   "name": "python3"
  },
  "language_info": {
   "codemirror_mode": {
    "name": "ipython",
    "version": 3
   },
   "file_extension": ".py",
   "mimetype": "text/x-python",
   "name": "python",
   "nbconvert_exporter": "python",
   "pygments_lexer": "ipython3",
   "version": "3.12.7"
  }
 },
 "nbformat": 4,
 "nbformat_minor": 5
}
