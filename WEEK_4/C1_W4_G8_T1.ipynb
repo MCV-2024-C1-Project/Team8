{
 "cells": [
  {
   "metadata": {},
   "cell_type": "markdown",
   "source": "# C1 W2 Group 8 - Task 1\n",
   "id": "30120a9c8a0e48a6"
  },
  {
   "cell_type": "code",
   "id": "initial_id",
   "metadata": {
    "collapsed": true
   },
   "source": [
    "from PIL import Image\n",
    "from tqdm import tqdm\n",
    "import cv2\n",
    "import numpy as np\n",
    "from src.data import AUGMENTATIONS_QSD1_W4_LIST, FRAMES_QSD1_W4_LIST, GT_QSD1_W4_LIST\n",
    "from src.paths import BBDD_PATH, QSD1_W4_PATH, QSD1_NON_AUGMENTED_W4_PATH, WEEK_4_RESULTS_PATH"
   ],
   "outputs": [],
   "execution_count": null
  },
  {
   "metadata": {},
   "cell_type": "code",
   "source": [
    "BBDD_PATH_LIST = sorted(BBDD_PATH.glob(\"*.jpg\"))\n",
    "QSD1_W4_PATH_LIST = sorted(QSD1_W4_PATH.glob(\"*.jpg\"))\n",
    "QSD1_NON_AUGMENTED_W4_PATH_LIST = sorted(QSD1_NON_AUGMENTED_W4_PATH.glob(\"*.jpg\"))"
   ],
   "id": "47141860131fd183",
   "outputs": [],
   "execution_count": null
  },
  {
   "metadata": {},
   "cell_type": "code",
   "source": [
    "database_image_PIL_list = [Image.open(db_img_path) for db_img_path in BBDD_PATH_LIST]  # Load once\n",
    "for idx, db_img in enumerate(database_image_PIL_list):\n",
    "    assert db_img.filename.endswith(f\"{idx}.jpg\")"
   ],
   "id": "330df2127bcf9af8",
   "outputs": [],
   "execution_count": null
  },
  {
   "metadata": {},
   "cell_type": "code",
   "source": [
    "query_d1_image_PIL_list = [Image.open(query_img_path) for query_img_path in QSD1_W4_PATH_LIST]  # Load once\n",
    "for idx, query_img in enumerate(query_d1_image_PIL_list):\n",
    "    assert query_img.filename.endswith(f\"{idx}.jpg\")"
   ],
   "id": "546d5963f54f03e2",
   "outputs": [],
   "execution_count": null
  },
  {
   "metadata": {},
   "cell_type": "code",
   "source": [
    "non_augmented_d1_image_PIL_list = [Image.open(query_img_path) for query_img_path in QSD1_NON_AUGMENTED_W4_PATH_LIST]  # Load once\n",
    "for idx, query_img in enumerate(non_augmented_d1_image_PIL_list):\n",
    "    assert query_img.filename.endswith(f\"{idx}.jpg\")"
   ],
   "id": "5c124ce4566bd4b5",
   "outputs": [],
   "execution_count": null
  },
  {
   "metadata": {},
   "cell_type": "code",
   "source": [
    "for file, augmentation, frames, gt in zip(QSD1_W4_PATH_LIST, AUGMENTATIONS_QSD1_W4_LIST, FRAMES_QSD1_W4_LIST, GT_QSD1_W4_LIST):\n",
    "    print(f\"File={file.stem}, Aug={augmentation}, Frames={frames}, GT={gt}\")"
   ],
   "id": "56a42bceaf2aa49c",
   "outputs": [],
   "execution_count": null
  },
  {
   "metadata": {},
   "cell_type": "markdown",
   "source": "## Denoising over the images",
   "id": "7f042e91abb3d1eb"
  },
  {
   "metadata": {},
   "cell_type": "code",
   "source": [
    "from src.denoising import denoise_image\n",
    "import matplotlib.pyplot as plt"
   ],
   "id": "49a14b5d5aeb0ecd",
   "outputs": [],
   "execution_count": null
  },
  {
   "metadata": {},
   "cell_type": "code",
   "source": "denoised_query_d1_PIL_list = [denoise_image(image) for image in query_d1_image_PIL_list]",
   "id": "46e65a77158515cf",
   "outputs": [],
   "execution_count": null
  },
  {
   "metadata": {},
   "cell_type": "code",
   "source": [
    "def plot_images_with_multiple_filters(original_images, noisy_images, denoised_images):\n",
    "    num_images = len(original_images)\n",
    "    num_cols = 3\n",
    "    fig, axes = plt.subplots(num_images, num_cols, figsize=(25, 5 * num_images))  # +1 for original image\n",
    "\n",
    "    for i in range(num_images):\n",
    "        original_image = original_images[i]\n",
    "        noisy_image = noisy_images[i]\n",
    "\n",
    "        axes[i, 0].imshow(original_image)\n",
    "        axes[i, 0].set_title(f'Original Image {i+1}')\n",
    "        axes[i, 0].axis('off')\n",
    "\n",
    "        axes[i, 1].imshow(noisy_image)\n",
    "        axes[i, 1].set_title(f'Noisy image Image {i+1}')\n",
    "        axes[i, 1].axis('off')\n",
    "\n",
    "        axes[i, 2].imshow(denoised_images[i])\n",
    "        axes[i, 2].set_title(f'Denoised {i+1}')\n",
    "        axes[i, 2].axis('off')\n",
    "\n",
    "    plt.tight_layout()\n",
    "    plt.savefig(WEEK_4_RESULTS_PATH / \"Task_1\" / 'denoised_images_plot.png')\n",
    "    plt.close()"
   ],
   "id": "fe6164d6b843b0da",
   "outputs": [],
   "execution_count": null
  },
  {
   "metadata": {},
   "cell_type": "code",
   "source": "#plot_images_with_multiple_filters(non_augmented_d1_image_PIL_list, query_d1_image_PIL_list, denoised_query_d1_PIL_list)",
   "id": "45d77a0029d498ef",
   "outputs": [],
   "execution_count": null
  },
  {
   "metadata": {},
   "cell_type": "markdown",
   "source": "## Background removal",
   "id": "4f947ef2331b17f2"
  },
  {
   "metadata": {},
   "cell_type": "code",
   "source": [
    "from src.background import get_painting_masks, crop_image_by_mask\n",
    "\n",
    "def crop_paintings_from_image(image, ground_truth):\n",
    "    \"\"\"\n",
    "    Crop multiple paintings from a single image based on ground truth points.\n",
    "\n",
    "    Args:\n",
    "        image (PIL.Image): The input image to crop.\n",
    "        ground_truth (list): List containing ground truth data where each entry is\n",
    "                             a list with a score and a list of four corner points.\n",
    "\n",
    "    Returns:\n",
    "        list: A list of cropped images (as PIL.Images) corresponding to each painting.\n",
    "    \"\"\"\n",
    "    # Convert PIL image to OpenCV format (numpy array)\n",
    "    image_np = np.array(image)\n",
    "    cropped_images = []\n",
    "\n",
    "    for entry in ground_truth:\n",
    "        # Extract the corner points for the painting\n",
    "        points = entry[1]\n",
    "\n",
    "        # Convert points to np.float32 for OpenCV compatibility\n",
    "        src_points = np.array(points, dtype=np.float32)\n",
    "\n",
    "        # Define the destination points for the transformed rectangle\n",
    "        # Compute the width and height based on the distances between points\n",
    "        width = int(np.linalg.norm(src_points[1] - src_points[0]))\n",
    "        height = int(np.linalg.norm(src_points[2] - src_points[1]))\n",
    "        dst_points = np.array([[0, 0], [width, 0], [width, height], [0, height]], dtype=np.float32)\n",
    "\n",
    "        # Calculate the perspective transform matrix\n",
    "        M = cv2.getPerspectiveTransform(src_points, dst_points)\n",
    "\n",
    "        # Apply the perspective warp to get the cropped image\n",
    "        warped = cv2.warpPerspective(image_np, M, (width, height))\n",
    "\n",
    "        # Convert the cropped image back to PIL format\n",
    "        cropped_image = Image.fromarray(warped)\n",
    "        cropped_images.append(cropped_image)\n",
    "\n",
    "    return cropped_images"
   ],
   "id": "78741ae0cb4204c3",
   "outputs": [],
   "execution_count": null
  },
  {
   "metadata": {},
   "cell_type": "code",
   "source": [
    "cropped_query_image_list_d1 = []\n",
    "pbar = tqdm(zip(sorted(QSD1_W4_PATH.glob(\"*.jpg\")), denoised_query_d1_PIL_list, FRAMES_QSD1_W4_LIST))\n",
    "for name, image, predicted_mask in pbar:\n",
    "    pbar.set_description(f\"Splitting {name.stem}\")\n",
    "    cropped_query_image_list_d1.append(crop_paintings_from_image(image, predicted_mask))"
   ],
   "id": "7155a51612e864da",
   "outputs": [],
   "execution_count": null
  },
  {
   "metadata": {},
   "cell_type": "code",
   "source": [
    "for l in cropped_query_image_list_d1:\n",
    "    for img in l:\n",
    "        #display(img)\n",
    "        pass"
   ],
   "id": "81ae2a0cc15ac3f",
   "outputs": [],
   "execution_count": null
  },
  {
   "metadata": {},
   "cell_type": "markdown",
   "source": "## Keypoint extraction",
   "id": "2fa52adc3b808eaf"
  },
  {
   "metadata": {},
   "cell_type": "code",
   "source": "from src.descriptors import SIFTDescriptor, ORBDescriptor, HOGDescriptor, ImageRetrievalSystem",
   "id": "632d7fa5f50c91d4",
   "outputs": [],
   "execution_count": null
  },
  {
   "metadata": {},
   "cell_type": "code",
   "source": [
    "descriptors = {\n",
    "    'SIFT': SIFTDescriptor(),\n",
    "   # 'ORB': ORBDescriptor(),\n",
    "   # 'HOG': HOGDescriptor()\n",
    "}\n",
    "descriptor_path = WEEK_4_RESULTS_PATH / 'Task_1' / 'descriptors'  # Directory to save/load descriptor files\n",
    "\n",
    "# Instantiate the image retrieval system\n",
    "retrieval_system = ImageRetrievalSystem(descriptors, descriptor_path)"
   ],
   "id": "192a13de49a3da30",
   "outputs": [],
   "execution_count": null
  },
  {
   "metadata": {},
   "cell_type": "code",
   "source": [
    "# Set number of top similar images to retrieve\n",
    "K = 10\n",
    "\n",
    "# Retrieve similar images using each descriptor separately\n",
    "for descriptor_name in ['SIFT']:\n",
    "    print(f\"\\nRetrieving similar images using {descriptor_name} descriptor:\")\n",
    "    results, g_0 = retrieval_system.retrieve_similar_images(cropped_query_image_list_d1, database_image_PIL_list, K, descriptor_name)"
   ],
   "id": "d9301837aa18ba34",
   "outputs": [],
   "execution_count": null
  },
  {
   "metadata": {},
   "cell_type": "code",
   "source": "from src.metrics import MeanAveragePrecisionAtK",
   "id": "92635e402c620511",
   "outputs": [],
   "execution_count": null
  },
  {
   "metadata": {},
   "cell_type": "code",
   "source": "map = MeanAveragePrecisionAtK()",
   "id": "571fc472e63b441e",
   "outputs": [],
   "execution_count": null
  },
  {
   "metadata": {},
   "cell_type": "code",
   "source": [
    "GT_mod = []\n",
    "for element in GT_QSD1_W4_LIST:\n",
    "    if len(element) == 2:\n",
    "        GT_mod.append([element[0]])\n",
    "        GT_mod.append([element[1]])\n",
    "    else:\n",
    "        GT_mod.append([element[0]])\n",
    "\n",
    "results_mod = []\n",
    "for element in results:\n",
    "    if len(element) == 2:\n",
    "        results_mod.append(element[0])\n",
    "        results_mod.append(element[1])\n",
    "    else:\n",
    "        results_mod.append(element[0])\n",
    "\n",
    "print(GT_mod)\n",
    "print(\"#\")\n",
    "print(results_mod)"
   ],
   "id": "21ea2127a607737a",
   "outputs": [],
   "execution_count": null
  },
  {
   "metadata": {},
   "cell_type": "code",
   "source": [
    "result = map.compute(GT_mod, results_mod, k=K)\n",
    "print(result)"
   ],
   "id": "2ef95abfbb387deb",
   "outputs": [],
   "execution_count": null
  },
  {
   "metadata": {},
   "cell_type": "code",
   "source": [
    "idx = 0\n",
    "non_found_dist = []\n",
    "for res, gt, gap in zip(results_mod, GT_mod, g_0):\n",
    "    print(f\"{idx} | Res: {res}, GT: {gt}, gaps: {gap[1]}\")\n",
    "    idx += 1"
   ],
   "id": "dbf6780d0f89b0bf",
   "outputs": [],
   "execution_count": null
  },
  {
   "metadata": {},
   "cell_type": "code",
   "source": [
    "db_i = descriptors['SIFT'].compute(np.array(database_image_PIL_list[32]))\n",
    "query_i = descriptors['SIFT'].compute(np.array(cropped_query_image_list_d1[4][0]))\n",
    "print(db_i[0][0])"
   ],
   "id": "ade0d65137a1699c",
   "outputs": [],
   "execution_count": null
  },
  {
   "metadata": {},
   "cell_type": "code",
   "source": [
    "from scipy.spatial.distance import cdist\n",
    "\n",
    "distances = cdist(db_i[1], query_i[1], metric='euclidean')\n",
    "min_distances = np.min(distances, axis=1)\n",
    "mean = np.mean(min_distances)\n",
    "\n",
    "print(mean)\n",
    "\n",
    "db_i = descriptors['SIFT'].compute(np.array(database_image_PIL_list[177]))\n",
    "distances = cdist(db_i[1], query_i[1], metric='euclidean')\n",
    "min_distances = np.min(distances, axis=1)\n",
    "mean = np.mean(min_distances)\n",
    "\n",
    "print(mean)\n"
   ],
   "id": "1e319cf697c3ddcf",
   "outputs": [],
   "execution_count": null
  },
  {
   "metadata": {},
   "cell_type": "code",
   "source": "",
   "id": "84b16dd8c53780a5",
   "outputs": [],
   "execution_count": null
  }
 ],
 "metadata": {
  "kernelspec": {
   "display_name": "Python 3",
   "language": "python",
   "name": "python3"
  },
  "language_info": {
   "codemirror_mode": {
    "name": "ipython",
    "version": 2
   },
   "file_extension": ".py",
   "mimetype": "text/x-python",
   "name": "python",
   "nbconvert_exporter": "python",
   "pygments_lexer": "ipython2",
   "version": "2.7.6"
  }
 },
 "nbformat": 4,
 "nbformat_minor": 5
}
