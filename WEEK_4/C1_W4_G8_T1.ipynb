{
 "cells": [
  {
   "cell_type": "markdown",
   "id": "30120a9c8a0e48a6",
   "metadata": {},
   "source": [
    "# C1 W4 Group 8 - Task 1\n"
   ]
  },
  {
   "cell_type": "code",
   "id": "initial_id",
   "metadata": {
    "collapsed": true
   },
   "source": [
    "from PIL import Image\n",
    "from tqdm import tqdm\n",
    "import cv2\n",
    "import numpy as np\n",
    "from src.data import AUGMENTATIONS_QSD1_W4_LIST, FRAMES_QSD1_W4_LIST, GT_QSD1_W4_LIST\n",
    "from src.paths import BBDD_PATH, QSD1_W4_PATH, QSD1_NON_AUGMENTED_W4_PATH, WEEK_4_RESULTS_PATH\n",
    "import matplotlib.pyplot as plt"
   ],
   "outputs": [],
   "execution_count": null
  },
  {
   "cell_type": "code",
   "id": "47141860131fd183",
   "metadata": {},
   "source": [
    "BBDD_PATH_LIST = sorted(BBDD_PATH.glob(\"*.jpg\"))\n",
    "QSD1_W4_PATH_LIST = sorted(QSD1_W4_PATH.glob(\"*.jpg\"))\n",
    "QSD1_NON_AUGMENTED_W4_PATH_LIST = sorted(QSD1_NON_AUGMENTED_W4_PATH.glob(\"*.jpg\"))"
   ],
   "outputs": [],
   "execution_count": null
  },
  {
   "cell_type": "code",
   "id": "330df2127bcf9af8",
   "metadata": {},
   "source": [
    "database_image_PIL_list = [Image.open(db_img_path) for db_img_path in BBDD_PATH_LIST]  # Load once\n",
    "for idx, db_img in enumerate(database_image_PIL_list):\n",
    "    assert db_img.filename.endswith(f\"{idx}.jpg\")"
   ],
   "outputs": [],
   "execution_count": null
  },
  {
   "cell_type": "code",
   "id": "546d5963f54f03e2",
   "metadata": {},
   "source": [
    "query_d1_image_PIL_list = [Image.open(query_img_path) for query_img_path in QSD1_W4_PATH_LIST]  # Load once\n",
    "for idx, query_img in enumerate(query_d1_image_PIL_list):\n",
    "    assert query_img.filename.endswith(f\"{idx}.jpg\")"
   ],
   "outputs": [],
   "execution_count": null
  },
  {
   "cell_type": "code",
   "id": "5c124ce4566bd4b5",
   "metadata": {},
   "source": [
    "non_augmented_d1_image_PIL_list = [Image.open(query_img_path) for query_img_path in QSD1_NON_AUGMENTED_W4_PATH_LIST]  # Load once\n",
    "for idx, query_img in enumerate(non_augmented_d1_image_PIL_list):\n",
    "    assert query_img.filename.endswith(f\"{idx}.jpg\")"
   ],
   "outputs": [],
   "execution_count": null
  },
  {
   "cell_type": "code",
   "id": "56a42bceaf2aa49c",
   "metadata": {},
   "source": [
    "for file, augmentation, frames, gt in zip(QSD1_W4_PATH_LIST, AUGMENTATIONS_QSD1_W4_LIST, FRAMES_QSD1_W4_LIST, GT_QSD1_W4_LIST):\n",
    "    frame_info = \"; \".join([f\"({frame[0]:.2f}, {frame[1]})\" for frame in frames])\n",
    "    print(f\"File={file.stem}, Aug={augmentation}, Frames={frame_info}, GT={gt}\")"
   ],
   "outputs": [],
   "execution_count": null
  },
  {
   "cell_type": "markdown",
   "id": "7f042e91abb3d1eb",
   "metadata": {},
   "source": [
    "## Denoising over the images"
   ]
  },
  {
   "cell_type": "code",
   "id": "49a14b5d5aeb0ecd",
   "metadata": {},
   "source": [
    "from src.denoising import denoise_image"
   ],
   "outputs": [],
   "execution_count": null
  },
  {
   "cell_type": "code",
   "id": "46e65a77158515cf",
   "metadata": {},
   "source": [
    "# Median filter\n",
    "denoised_query_d1_PIL_list = [denoise_image(image) for image in query_d1_image_PIL_list]"
   ],
   "outputs": [],
   "execution_count": null
  },
  {
   "cell_type": "code",
   "id": "fe6164d6b843b0da",
   "metadata": {},
   "source": [
    "def plot_images_with_multiple_filters(original_images, noisy_images, denoised_images, save_path):\n",
    "    num_images = len(original_images)\n",
    "    num_cols = 3\n",
    "    fig, axes = plt.subplots(num_images, num_cols, figsize=(25, 5 * num_images))  # +1 for original image\n",
    "\n",
    "    for i in range(num_images):\n",
    "        original_image = original_images[i]\n",
    "        noisy_image = noisy_images[i]\n",
    "\n",
    "        axes[i, 0].imshow(original_image)\n",
    "        axes[i, 0].set_title(f'Original Image {i+1}')\n",
    "        axes[i, 0].axis('off')\n",
    "\n",
    "        axes[i, 1].imshow(noisy_image)\n",
    "        axes[i, 1].set_title(f'Noisy image Image {i+1}')\n",
    "        axes[i, 1].axis('off')\n",
    "\n",
    "        axes[i, 2].imshow(denoised_images[i])\n",
    "        axes[i, 2].set_title(f'Denoised {i+1}')\n",
    "        axes[i, 2].axis('off')\n",
    "\n",
    "    plt.tight_layout()\n",
    "    plt.savefig(save_path)\n",
    "    plt.close()"
   ],
   "outputs": [],
   "execution_count": null
  },
  {
   "cell_type": "code",
   "id": "45d77a0029d498ef",
   "metadata": {},
   "source": [
    "#plot_images_with_multiple_filters(non_augmented_d1_image_PIL_list, query_d1_image_PIL_list,\n",
    "                                   denoised_query_d1_PIL_list, WEEK_4_RESULTS_PATH / \"Task_1\"/ 'denoised_images_plot.png')"
   ],
   "outputs": [],
   "execution_count": null
  },
  {
   "cell_type": "markdown",
   "id": "4f947ef2331b17f2",
   "metadata": {},
   "source": [
    "## Background removal"
   ]
  },
  {
   "cell_type": "code",
   "id": "99dcdf5c",
   "metadata": {},
   "source": "from src.old_background import get_painting_masks, crop_image_by_mask",
   "outputs": [],
   "execution_count": null
  },
  {
   "cell_type": "code",
   "id": "78741ae0cb4204c3",
   "metadata": {},
   "source": [
    "def crop_paintings_from_image(image, ground_truth):\n",
    "    image_np = np.array(image)\n",
    "    cropped_images = []\n",
    "\n",
    "    for points in (entry[1] for entry in ground_truth):\n",
    "        src_points = np.array(points, dtype=np.float32)\n",
    "        width, height = map(int, [np.linalg.norm(src_points[1] - src_points[0]), np.linalg.norm(src_points[2] - src_points[1])])\n",
    "        dst_points = np.array([[0, 0], [width, 0], [width, height], [0, height]], dtype=np.float32)\n",
    "\n",
    "        M = cv2.getPerspectiveTransform(src_points, dst_points)\n",
    "        cropped_images.append(Image.fromarray(cv2.warpPerspective(image_np, M, (width, height))))\n",
    "\n",
    "    return cropped_images"
   ],
   "outputs": [],
   "execution_count": null
  },
  {
   "cell_type": "code",
   "id": "7155a51612e864da",
   "metadata": {},
   "source": [
    "cropped_query_image_list_d1 = []\n",
    "pbar = tqdm(zip(sorted(QSD1_W4_PATH.glob(\"*.jpg\")), denoised_query_d1_PIL_list, FRAMES_QSD1_W4_LIST))\n",
    "for name, image, predicted_mask in pbar:\n",
    "    pbar.set_description(f\"Splitting {name.stem}\")\n",
    "    cropped_query_image_list_d1.append(crop_paintings_from_image(image, predicted_mask))"
   ],
   "outputs": [],
   "execution_count": null
  },
  {
   "cell_type": "code",
   "id": "81ae2a0cc15ac3f",
   "metadata": {},
   "source": [
    "n_rows = len(cropped_query_image_list_d1)\n",
    "\n",
    "fig, axes = plt.subplots(n_rows, 2, figsize=(6, n_rows *1.5))\n",
    "\n",
    "for ax, l in zip(axes, cropped_query_image_list_d1):\n",
    "    ax[0].imshow(l[0]); ax[0].axis('off')\n",
    "    if len(l) > 1:\n",
    "        ax[1].imshow(l[1])\n",
    "    ax[1].axis('off')\n",
    "\n",
    "plt.tight_layout()\n",
    "plt.show()"
   ],
   "outputs": [],
   "execution_count": null
  },
  {
   "cell_type": "markdown",
   "id": "2fa52adc3b808eaf",
   "metadata": {},
   "source": [
    "## Keypoint extraction"
   ]
  },
  {
   "cell_type": "code",
   "id": "632d7fa5f50c91d4",
   "metadata": {},
   "source": [
    "from src.descriptors import SIFTDescriptor, ORBDescriptor, HOGDescriptor, ImageRetrievalSystem"
   ],
   "outputs": [],
   "execution_count": null
  },
  {
   "cell_type": "code",
   "id": "63e6d84d",
   "metadata": {},
   "source": [
    "# denoise also dataset ?\n",
    "denoise_database_image = [np.array(denoise_image(image)) for image in database_image_PIL_list]"
   ],
   "outputs": [],
   "execution_count": null
  },
  {
   "cell_type": "code",
   "id": "192a13de49a3da30",
   "metadata": {},
   "source": [
    "descriptors = {\n",
    "    # 'SIFT': SIFTDescriptor(max_features=500),\n",
    "\n",
    "    'HOG13': HOGDescriptor(pixels_per_cell=12, cells_per_block=4),\n",
    "\n",
    "\n",
    "    # 'ORB': ORBDescriptor(),\n",
    "}\n",
    "descriptor_path = WEEK_4_RESULTS_PATH / 'Task_1' / 'descriptors'  \n",
    "\n",
    "retrieval_system = ImageRetrievalSystem(descriptors, descriptor_path)"
   ],
   "outputs": [],
   "execution_count": null
  },
  {
   "cell_type": "code",
   "id": "d9301837aa18ba34",
   "metadata": {},
   "source": [
    "# Set number of top similar images to retrieve\n",
    "K = 10\n",
    "\n",
    "results = {}\n",
    "g_0 = {}\n",
    "\n",
    "for descriptor_name in descriptors.keys():\n",
    "    print(f\"\\nRetrieving similar images using {descriptor_name} descriptor:\")\n",
    "    results[descriptor_name] = retrieval_system.retrieve_similar_images(descriptor_name, denoise_database_image, cropped_query_image_list_d1, GT_QSD1_W4_LIST, K)"
   ],
   "outputs": [],
   "execution_count": null
  },
  {
   "cell_type": "code",
   "id": "92635e402c620511",
   "metadata": {},
   "source": [
    "from src.metrics import MeanAveragePrecisionAtK"
   ],
   "outputs": [],
   "execution_count": null
  },
  {
   "cell_type": "code",
   "id": "571fc472e63b441e",
   "metadata": {},
   "source": [
    "map = MeanAveragePrecisionAtK()"
   ],
   "outputs": [],
   "execution_count": null
  },
  {
   "cell_type": "code",
   "id": "21ea2127a607737a",
   "metadata": {},
   "source": [
    "GT_mod = []\n",
    "for element in GT_QSD1_W4_LIST:\n",
    "    if len(element) == 2:\n",
    "        GT_mod.extend([[element[0]], [element[1]]])\n",
    "    else:\n",
    "        GT_mod.append([element[0]])\n",
    "\n",
    "results_mod = {}\n",
    "for descriptor_name in descriptors.keys():\n",
    "    results_mod[descriptor_name] = []\n",
    "    for element in results[descriptor_name]:\n",
    "        if len(element) == 2:\n",
    "            results_mod[descriptor_name].extend([[element[0][0][0]], [element[1][0][0]]])\n",
    "        else:\n",
    "            results_mod[descriptor_name].append([element[0][0][0]])\n",
    "\n",
    "print(GT_mod,\"\\n\"+\"#\" * 40)\n",
    "print(f'\\n{\"#\"*40}\\n'.join([str(result) for result in results_mod.values()]))"
   ],
   "outputs": [],
   "execution_count": null
  },
  {
   "cell_type": "code",
   "id": "2ef95abfbb387deb",
   "metadata": {},
   "source": [
    "for descriptor_name, results in results_mod.items():\n",
    "    print(f\"Results for {descriptor_name}:\")\n",
    "    results = map.compute(GT_mod, results, k=K)\n",
    "    print(f\"{results}\\n{\"#\" * 40}\\n\")"
   ],
   "outputs": [],
   "execution_count": null
  },
  {
   "cell_type": "code",
   "id": "dbf6780d0f89b0bf",
   "metadata": {},
   "source": [
    "idx = 0\n",
    "non_found_dist = []\n",
    "for res, gt, gap in zip(results_mod, GT_mod, g_0):\n",
    "    print(f\"{idx} | Res: {res}, GT: {gt}, gaps: {gap[1]}\")\n",
    "    idx += 1\n",
    "\n",
    "non_found_dist = []\n",
    "for idx, (res, gt, gap) in enumerate(zip(results_mod, GT_mod, g_0)):\n",
    "    gap_str = ', '.join([f\"{g:.2f}\" for g in gap[1]])  # Format gaps to 2 decimal places\n",
    "    print(f\"{idx:2} | Res: {res:<50} | GT: {gt:<10} | Gaps: [{gap_str}]\")\n"
   ],
   "outputs": [],
   "execution_count": null
  },
  {
   "cell_type": "code",
   "id": "ade0d65137a1699c",
   "metadata": {},
   "source": [
    "db_i = descriptors['SIFT'].compute(np.array(database_image_PIL_list[32]))\n",
    "query_i = descriptors['SIFT'].compute(np.array(cropped_query_image_list_d1[4][0]))\n",
    "print(db_i[0][0])"
   ],
   "outputs": [],
   "execution_count": null
  },
  {
   "cell_type": "code",
   "id": "1e319cf697c3ddcf",
   "metadata": {},
   "source": [
    "from scipy.spatial.distance import cdist\n",
    "\n",
    "distances = cdist(db_i[1], query_i[1], metric='euclidean')\n",
    "min_distances = np.min(distances, axis=1)\n",
    "mean = np.mean(min_distances)\n",
    "\n",
    "print(mean)\n",
    "\n",
    "db_i = descriptors['SIFT'].compute(np.array(database_image_PIL_list[177]))\n",
    "distances = cdist(db_i[1], query_i[1], metric='euclidean')\n",
    "min_distances = np.min(distances, axis=1)\n",
    "mean = np.mean(min_distances)\n",
    "\n",
    "print(mean)\n"
   ],
   "outputs": [],
   "execution_count": null
  }
 ],
 "metadata": {
  "kernelspec": {
   "display_name": "venv",
   "language": "python",
   "name": "python3"
  },
  "language_info": {
   "codemirror_mode": {
    "name": "ipython",
    "version": 3
   },
   "file_extension": ".py",
   "mimetype": "text/x-python",
   "name": "python",
   "nbconvert_exporter": "python",
   "pygments_lexer": "ipython3",
   "version": "3.12.7"
  }
 },
 "nbformat": 4,
 "nbformat_minor": 5
}
