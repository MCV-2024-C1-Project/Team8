{
 "cells": [
  {
   "cell_type": "markdown",
   "id": "88316a7fbf261109",
   "metadata": {},
   "source": "# C1 W4 Group 8 - Task 4\n"
  },
  {
   "cell_type": "code",
   "id": "initial_id",
   "metadata": {
    "collapsed": true,
    "ExecuteTime": {
     "end_time": "2024-11-10T11:51:45.842397Z",
     "start_time": "2024-11-10T11:51:45.753926Z"
    }
   },
   "source": [
    "from PIL import Image\n",
    "\n",
    "from src.data import AUGMENTATIONS_QSD1_W4_LIST, FRAMES_QSD1_W4_LIST, GT_QSD1_W4_LIST\n",
    "from src.paths import BBDD_PATH, QST1_W4_PATH, WEEK_4_RESULTS_PATH\n",
    "from tqdm import tqdm"
   ],
   "outputs": [],
   "execution_count": 1
  },
  {
   "cell_type": "code",
   "id": "47141860131fd183",
   "metadata": {
    "ExecuteTime": {
     "end_time": "2024-11-10T11:51:45.923798Z",
     "start_time": "2024-11-10T11:51:45.920194Z"
    }
   },
   "source": [
    "BBDD_PATH_LIST = sorted(BBDD_PATH.glob(\"*.jpg\"))\n",
    "QST1_W4_PATH_LIST = sorted(QST1_W4_PATH.glob(\"*.jpg\"))"
   ],
   "outputs": [],
   "execution_count": 2
  },
  {
   "cell_type": "code",
   "id": "330df2127bcf9af8",
   "metadata": {
    "ExecuteTime": {
     "end_time": "2024-11-10T11:51:45.996895Z",
     "start_time": "2024-11-10T11:51:45.927589Z"
    }
   },
   "source": [
    "database_image_PIL_list = [Image.open(db_img_path) for db_img_path in BBDD_PATH_LIST]  # Load once\n",
    "for idx, db_img in enumerate(database_image_PIL_list):\n",
    "    assert db_img.filename.endswith(f\"{idx}.jpg\")"
   ],
   "outputs": [],
   "execution_count": 3
  },
  {
   "cell_type": "code",
   "id": "546d5963f54f03e2",
   "metadata": {
    "ExecuteTime": {
     "end_time": "2024-11-10T11:51:46.009092Z",
     "start_time": "2024-11-10T11:51:46.001429Z"
    }
   },
   "source": [
    "query_d1_image_PIL_list = [Image.open(query_img_path) for query_img_path in QST1_W4_PATH_LIST]  # Load once\n",
    "for idx, query_img in enumerate(query_d1_image_PIL_list):\n",
    "    assert query_img.filename.endswith(f\"{idx}.jpg\")"
   ],
   "outputs": [],
   "execution_count": 4
  },
  {
   "cell_type": "code",
   "id": "56a42bceaf2aa49c",
   "metadata": {
    "ExecuteTime": {
     "end_time": "2024-11-10T11:51:46.016966Z",
     "start_time": "2024-11-10T11:51:46.014676Z"
    }
   },
   "source": [
    "for file, augmentation, frames, gt in zip(QST1_W4_PATH_LIST, AUGMENTATIONS_QSD1_W4_LIST, FRAMES_QSD1_W4_LIST, GT_QSD1_W4_LIST):\n",
    "    print(f\"File={file.stem}, Aug={augmentation}, Frames={frames}, GT={gt}\")"
   ],
   "outputs": [
    {
     "name": "stdout",
     "output_type": "stream",
     "text": [
      "File=00000, Aug=None, Frames=[[np.float64(179.49631381503272), [[64, 41], [2048, 25], [2016, 3653], [196, 3637]]]], GT=[-1]\n",
      "File=00001, Aug=None-MultiplyHue, Frames=[[np.float64(179.52154949700142), [[19, 38], [509, 37], [496, 665], [17, 661]]]], GT=[150]\n",
      "File=00002, Aug=None-MultiplyHue, Frames=[[np.float64(0.9495668564358084), [[34, 50], [396, 32], [408, 470], [46, 476]]], [np.float64(0.3015539498682642), [[466, 34], [844, 20], [850, 484], [470, 486]]]], GT=[48, 251]\n",
      "File=00003, Aug=UnnamedImpulseNoise, Frames=[[np.float64(180.0), [[24, 27], [458, 26], [462, 355], [45, 355]]]], GT=[32]\n",
      "File=00004, Aug=None-MultiplyHue, Frames=[[np.float64(0.4841781604809512), [[53, 78], [1489, 62], [1497, 2326], [77, 2338]]]], GT=[161]\n",
      "File=00005, Aug=None, Frames=[[np.float64(179.85346379900508), [[50, 43], [1642, 27], [1646, 2051], [82, 2047]]]], GT=[81]\n",
      "File=00006, Aug=None, Frames=[[np.float64(1.5481576989779455), [[176, 46], [470, 34], [478, 326], [182, 334]]], [np.float64(1.3510650827196287), [[48, 416], [478, 398], [484, 778], [60, 788]]]], GT=[62, 38]\n",
      "File=00007, Aug=None-MultiplyHue, Frames=[[np.float64(0.5388158978827846), [[53, 32], [1365, 36], [1329, 2492], [53, 2504]]]], GT=[-1]\n",
      "File=00008, Aug=UnnamedImpulseNoise, Frames=[[np.float64(179.72051060945523), [[65, 65], [461, 55], [477, 643], [67, 641]]]], GT=[128]\n",
      "File=00009, Aug=None, Frames=[[np.float64(179.90070065485645), [[72, 38], [632, 42], [624, 618], [47, 617]]], [np.float64(0.2535194937720462), [[812, 172], [1036, 172], [1039, 448], [813, 449]]]], GT=[155, 258]\n",
      "File=00010, Aug=None-MultiplyHue, Frames=[[np.float64(179.48844413341297), [[21, 75], [473, 75], [469, 643], [21, 639]]], [np.float64(179.28384005452958), [[665, 59], [1305, 71], [1313, 667], [673, 659]]]], GT=[136, 76]\n",
      "File=00011, Aug=None, Frames=[[np.float64(0.8079638429904321), [[49, 31], [3109, 23], [3149, 1875], [29, 1919]]]], GT=[-1]\n",
      "File=00012, Aug=UnnamedImpulseNoise, Frames=[[np.float64(179.8476179669604), [[36, 13], [1604, 25], [1580, 1549], [76, 1545]]]], GT=[-1]\n",
      "File=00013, Aug=None, Frames=[[np.float64(179.47756056304124), [[55, 54], [718, 59], [713, 608], [55, 602]]]], GT=[53]\n",
      "File=00014, Aug=None, Frames=[[np.float64(179.534190917235), [[30, 72], [3586, 52], [3550, 2404], [106, 2376]]]], GT=[-1]\n",
      "File=00015, Aug=None-MultiplyHue, Frames=[[np.float64(179.65895772114115), [[32, 44], [540, 49], [532, 676], [28, 673]]]], GT=[12]\n",
      "File=00016, Aug=None, Frames=[[np.float64(1.03535318654491), [[23, 57], [351, 57], [345, 489], [13, 495]]], [np.float64(179.51030440687077), [[625, 195], [863, 195], [863, 357], [629, 355]]]], GT=[11, 280]\n",
      "File=00017, Aug=UnnamedImpulseNoise, Frames=[[np.float64(179.6392001122509), [[54, 37], [3282, 85], [3254, 1329], [78, 1309]]]], GT=[-1]\n",
      "File=00018, Aug=None-MultiplyHue, Frames=[[np.float64(179.72585960626677), [[52, 45], [468, 49], [466, 213], [48, 211]]], [np.float64(179.26074064459215), [[636, 11], [950, 17], [942, 261], [632, 257]]]], GT=[182, 252]\n",
      "File=00019, Aug=UnnamedImpulseNoise, Frames=[[np.float64(1.0447920138065), [[27, 63], [2659, 11], [2687, 1699], [55, 1747]]]], GT=[-1]\n",
      "File=00020, Aug=None-MultiplyHue, Frames=[[np.float64(1.3896520155771555), [[315, 45], [690, 39], [690, 354], [319, 363]]], [np.float64(2.254574965935035), [[44, 412], [694, 405], [690, 765], [55, 790]]]], GT=[272, 117]\n",
      "File=00021, Aug=None-MultiplyHue, Frames=[[np.float64(0.5617053325665324), [[68, 61], [2200, 97], [2176, 1221], [136, 1241]]]], GT=[-1]\n",
      "File=00022, Aug=UnnamedImpulseNoise, Frames=[[np.float64(179.0759546472273), [[20, 56], [276, 60], [272, 626], [24, 622]]]], GT=[242]\n",
      "File=00023, Aug=UnnamedImpulseNoise, Frames=[[np.float64(0.8092086141573418), [[51, 70], [1491, 50], [1491, 2070], [75, 2090]]]], GT=[260]\n",
      "File=00024, Aug=UnnamedImpulseNoise, Frames=[[np.float64(1.2386346708968858), [[35, 75], [795, 71], [791, 647], [51, 663]]], [np.float64(0.2557830307392237), [[1067, 47], [1959, 51], [1959, 691], [1063, 695]]]], GT=[94, 132]\n",
      "File=00025, Aug=UnnamedImpulseNoise, Frames=[[np.float64(178.7746086976259), [[24, 22], [396, 24], [394, 388], [20, 380]]]], GT=[223]\n",
      "File=00026, Aug=None, Frames=[[np.float64(179.3472915080618), [[61, 126], [3261, 66], [3261, 2530], [101, 2494]]]], GT=[-1]\n",
      "File=00027, Aug=None-MultiplyHue, Frames=[[np.float64(179.6321348813903), [[49, 55], [676, 52], [678, 505], [55, 501]]]], GT=[127]\n",
      "File=00028, Aug=None-MultiplyHue, Frames=[[np.float64(1.1586330880851392), [[56, 29], [501, 22], [503, 392], [58, 401]]], [np.float64(0.22557276963408412), [[27, 449], [529, 444], [533, 828], [25, 830]]]], GT=[47, 13]\n",
      "File=00029, Aug=None-MultiplyHue, Frames=[[np.float64(179.43921093077876), [[67, 107], [2719, 55], [2671, 2631], [219, 2607]]]], GT=[-1]\n"
     ]
    }
   ],
   "execution_count": 5
  },
  {
   "cell_type": "markdown",
   "id": "60987cd21d886e5a",
   "metadata": {},
   "source": [
    "## Background Removal"
   ]
  },
  {
   "cell_type": "code",
   "id": "81c193753f548089",
   "metadata": {
    "ExecuteTime": {
     "end_time": "2024-11-10T11:51:46.206863Z",
     "start_time": "2024-11-10T11:51:46.025169Z"
    }
   },
   "source": [
    "from src.background import get_painting_masks, crop_image_by_mask"
   ],
   "outputs": [],
   "execution_count": 6
  },
  {
   "cell_type": "code",
   "id": "b68b6413e362412a",
   "metadata": {
    "ExecuteTime": {
     "end_time": "2024-11-10T11:52:06.250724Z",
     "start_time": "2024-11-10T11:51:46.213590Z"
    }
   },
   "source": [
    "painting_masks_list_d1 = []\n",
    "pbar = tqdm(zip(QST1_W4_PATH_LIST, query_d1_image_PIL_list))\n",
    "for name, image in pbar:\n",
    "    pbar.set_description(f\"Processing {name.stem}\")\n",
    "    painting_masks = get_painting_masks(image)\n",
    "    painting_masks_list_d1.append(painting_masks)"
   ],
   "outputs": [
    {
     "name": "stderr",
     "output_type": "stream",
     "text": [
      "Processing 00029: : 30it [00:20,  1.50it/s]\n"
     ]
    }
   ],
   "execution_count": 7
  },
  {
   "cell_type": "code",
   "id": "e3e03b027f966d88",
   "metadata": {
    "ExecuteTime": {
     "end_time": "2024-11-10T11:52:07.329711Z",
     "start_time": "2024-11-10T11:52:06.276045Z"
    }
   },
   "source": [
    "cropped_query_image_list_d1 = []\n",
    "pbar = tqdm(zip(QST1_W4_PATH_LIST, query_d1_image_PIL_list, painting_masks_list_d1))\n",
    "for name, image, predicted_mask in pbar:\n",
    "    pbar.set_description(f\"Splitting {name.stem}\")\n",
    "    image_list = crop_image_by_mask(image, predicted_mask)\n",
    "    cropped_query_image_list_d1.append(image_list)"
   ],
   "outputs": [
    {
     "name": "stderr",
     "output_type": "stream",
     "text": [
      "Splitting 00029: : 30it [00:01, 28.57it/s]\n"
     ]
    }
   ],
   "execution_count": 8
  },
  {
   "cell_type": "markdown",
   "id": "9174931bcd0b990f",
   "metadata": {},
   "source": [
    "## Image Denoising"
   ]
  },
  {
   "cell_type": "code",
   "id": "c9ca41fcf088c4ce",
   "metadata": {
    "ExecuteTime": {
     "end_time": "2024-11-10T11:52:07.585171Z",
     "start_time": "2024-11-10T11:52:07.335885Z"
    }
   },
   "source": "from src.denoising import denoise_image",
   "outputs": [],
   "execution_count": 9
  },
  {
   "cell_type": "code",
   "id": "b2f5dc66e06c7f",
   "metadata": {
    "ExecuteTime": {
     "end_time": "2024-11-10T11:52:07.964648Z",
     "start_time": "2024-11-10T11:52:07.590896Z"
    }
   },
   "source": [
    "denoised_query_d1_PIL_list = []\n",
    "for image_tuple in cropped_query_image_list_d1:\n",
    "    temp = []\n",
    "    for img in image_tuple:\n",
    "        temp.append(denoise_image(img))\n",
    "    denoised_query_d1_PIL_list.append(temp)"
   ],
   "outputs": [],
   "execution_count": 10
  },
  {
   "cell_type": "markdown",
   "id": "aae8c13f64377367",
   "metadata": {},
   "source": [
    "## Retrieval"
   ]
  },
  {
   "cell_type": "code",
   "id": "b01e4068b57fd69a",
   "metadata": {
    "ExecuteTime": {
     "end_time": "2024-11-10T11:52:08.019741Z",
     "start_time": "2024-11-10T11:52:07.975066Z"
    }
   },
   "source": "from src.descriptors import ImageRetrievalSystem, SIFTDescriptor, HOGDescriptor, ORBDescriptor",
   "outputs": [],
   "execution_count": 11
  },
  {
   "metadata": {
    "ExecuteTime": {
     "end_time": "2024-11-10T11:52:08.028297Z",
     "start_time": "2024-11-10T11:52:08.025775Z"
    }
   },
   "cell_type": "code",
   "source": [
    "descriptors = {\n",
    "    'SIFT': SIFTDescriptor(max_features=500),\n",
    "    'HOG13': HOGDescriptor(pixels_per_cell=12, cells_per_block=4),\n",
    "    'ORB': ORBDescriptor(),\n",
    "}\n",
    "descriptor_path = WEEK_4_RESULTS_PATH / 'Task_1' / 'descriptors'  \n",
    "\n",
    "retrieval_system = ImageRetrievalSystem(descriptors, descriptor_path, log=False)"
   ],
   "id": "93cf5ad168cd419b",
   "outputs": [],
   "execution_count": 12
  },
  {
   "metadata": {
    "ExecuteTime": {
     "end_time": "2024-11-10T11:52:08.815872Z",
     "start_time": "2024-11-10T11:52:08.034723Z"
    }
   },
   "cell_type": "code",
   "source": [
    "#Set number of top similar images to retrieve\n",
    "K = 10\n",
    "\n",
    "results = {}\n",
    "g_0 = {}\n",
    "\n",
    "descriptor_name = \"HOG13\"\n",
    "\n",
    "results[descriptor_name] = retrieval_system.retrieve_similar_images(descriptor_name, database_image_PIL_list, denoised_query_d1_PIL_list, None, K)"
   ],
   "id": "a65ee364eea987c",
   "outputs": [
    {
     "name": "stderr",
     "output_type": "stream",
     "text": [
      "287it [00:00, 36150.19it/s]\n",
      "287it [00:00, 42835.57it/s]\n",
      "287it [00:00, 43816.30it/s]\n",
      "287it [00:00, 43584.68it/s]\n",
      "287it [00:00, 43676.40it/s]\n",
      "287it [00:00, 36578.60it/s]\n",
      "287it [00:00, 40262.40it/s]\n",
      "287it [00:00, 43196.80it/s]\n",
      "287it [00:00, 39904.70it/s]\n",
      "287it [00:00, 39444.43it/s]\n",
      "287it [00:00, 39487.13it/s]\n",
      "287it [00:00, 39272.00it/s]\n",
      "287it [00:00, 41751.01it/s]\n",
      "287it [00:00, 40112.14it/s]\n",
      "287it [00:00, 40645.77it/s]\n",
      "287it [00:00, 42057.34it/s]\n",
      "287it [00:00, 40012.14it/s]\n",
      "287it [00:00, 41082.74it/s]\n",
      "287it [00:00, 42210.72it/s]\n",
      "287it [00:00, 34498.76it/s]\n",
      "287it [00:00, 41254.51it/s]\n",
      "287it [00:00, 40732.42it/s]\n",
      "287it [00:00, 36384.02it/s]\n",
      "287it [00:00, 41140.30it/s]\n",
      "287it [00:00, 40993.20it/s]\n",
      "287it [00:00, 39470.30it/s]\n",
      "287it [00:00, 38389.04it/s]\n",
      "287it [00:00, 39369.61it/s]\n",
      "287it [00:00, 42511.84it/s]\n",
      "287it [00:00, 41011.35it/s]\n",
      "287it [00:00, 42076.45it/s]\n",
      "287it [00:00, 40530.82it/s]\n",
      "287it [00:00, 40779.34it/s]\n",
      "287it [00:00, 41569.35it/s]\n",
      "287it [00:00, 41563.61it/s]\n",
      "287it [00:00, 40954.15it/s]\n",
      "287it [00:00, 40258.36it/s]\n",
      "287it [00:00, 40285.31it/s]\n",
      "287it [00:00, 42138.32it/s]\n",
      "287it [00:00, 38974.46it/s]\n",
      "287it [00:00, 40044.09it/s]\n",
      "287it [00:00, 41195.21it/s]\n",
      "287it [00:00, 40348.77it/s]\n",
      "287it [00:00, 42191.48it/s]\n",
      "287it [00:00, 40212.64it/s]\n",
      "287it [00:00, 40913.78it/s]\n",
      "287it [00:00, 42224.04it/s]\n",
      "287it [00:00, 39434.10it/s]\n",
      "287it [00:00, 42574.99it/s]\n"
     ]
    }
   ],
   "execution_count": 13
  },
  {
   "metadata": {
    "ExecuteTime": {
     "end_time": "2024-11-10T11:52:08.824365Z",
     "start_time": "2024-11-10T11:52:08.822316Z"
    }
   },
   "cell_type": "code",
   "source": "print(results[descriptor_name])",
   "id": "a0a3b3ed26a8c454",
   "outputs": [
    {
     "name": "stdout",
     "output_type": "stream",
     "text": [
      "[[[223, 218, 237, 215, 133, 63, 259, 225, 57, 132]], [[35, 11, 105, 88, 174, 93, 140, 21, 46, 92]], [[203, 124, 11, 238, 40, 177, 16, 161, 197, 53], [211, 222, 40, 193, 113, 104, 177, 196, 84, 286]], [[176, 210, 214, 255, 191, 40, 282, 194, 245, 54]], [[259, 215, 174, 60, 184, 163, 271, 29, 104, 113]], [[-1]], [[-1]], [[-1]], [[-1]], [[258, 104, 163, 174, 60, 259, 215, 119, 11, 88], [-1]], [[233, 21, 191, 57, 3, 74, 92, 40, 282, 11], [252, 215, 237, 57, 259, 51, 58, 29, 133, 225]], [[-1]], [[-1]], [[218, 160, 133, 57, 40, 237, 244, 58, 137, 135]], [[-1]], [[93, 197, 46, 198, 274, 78, 156, 11, 21, 74]], [[94, 174, 32, 234, 140, 127, 105, 282, 104, 21], [132, 137, 63, 237, 104, 271, 60, 174, 29, 11]], [[11, 238, 282, 92, 180, 40, 21, 54, 35, 93]], [[-1]], [[9, 174, 259, 60, 29, 88, 104, 23, 239, 140]], [[237, 218, 135, 29, 281, 37, 132, 45, 277, 60], [-1]], [[-1]], [[83, 11, 238, 124, 92, 196, 152, 254, 197, 138]], [[-1]], [[104, 40, 174, 32, 11, 140, 193, 282, 88, 244]], [[23, 174, 105, 40, 46, 88, 140, 60, 104, 160]], [[-1]], [[67, 38, 101, 209, 52, 259, 2, 184, 58, 114]], [[-1]], [[225, 215, 57, 192, 51, 248, 237, 133, 96, 261]]]\n"
     ]
    }
   ],
   "execution_count": 14
  },
  {
   "metadata": {
    "ExecuteTime": {
     "end_time": "2024-11-10T11:52:08.888862Z",
     "start_time": "2024-11-10T11:52:08.886849Z"
    }
   },
   "cell_type": "code",
   "source": "",
   "id": "86869bc40069159c",
   "outputs": [],
   "execution_count": null
  }
 ],
 "metadata": {
  "kernelspec": {
   "display_name": "venv",
   "language": "python",
   "name": "python3"
  },
  "language_info": {
   "codemirror_mode": {
    "name": "ipython",
    "version": 3
   },
   "file_extension": ".py",
   "mimetype": "text/x-python",
   "name": "python",
   "nbconvert_exporter": "python",
   "pygments_lexer": "ipython3",
   "version": "3.12.6"
  }
 },
 "nbformat": 4,
 "nbformat_minor": 5
}
