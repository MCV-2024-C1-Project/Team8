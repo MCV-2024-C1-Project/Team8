{
 "cells": [
  {
   "cell_type": "markdown",
   "id": "88316a7fbf261109",
   "metadata": {},
   "source": "# C1 W4 Group 8 - Task 4\n"
  },
  {
   "cell_type": "code",
   "id": "initial_id",
   "metadata": {
    "collapsed": true
   },
   "source": [
    "from PIL import Image\n",
    "\n",
    "from src.paths import BBDD_PATH, QST1_W4_PATH, WEEK_4_RESULTS_PATH\n",
    "from tqdm import tqdm"
   ],
   "outputs": [],
   "execution_count": null
  },
  {
   "cell_type": "code",
   "id": "47141860131fd183",
   "metadata": {},
   "source": [
    "BBDD_PATH_LIST = sorted(BBDD_PATH.glob(\"*.jpg\"))\n",
    "QST1_W4_PATH_LIST = sorted(QST1_W4_PATH.glob(\"*.jpg\"))"
   ],
   "outputs": [],
   "execution_count": null
  },
  {
   "cell_type": "code",
   "id": "330df2127bcf9af8",
   "metadata": {},
   "source": [
    "database_image_PIL_list = [Image.open(db_img_path) for db_img_path in BBDD_PATH_LIST]  # Load once\n",
    "for idx, db_img in enumerate(database_image_PIL_list):\n",
    "    assert db_img.filename.endswith(f\"{idx}.jpg\")"
   ],
   "outputs": [],
   "execution_count": null
  },
  {
   "cell_type": "code",
   "id": "546d5963f54f03e2",
   "metadata": {},
   "source": [
    "query_t1_image_PIL_list = [Image.open(query_img_path) for query_img_path in QST1_W4_PATH_LIST]  # Load once\n",
    "for idx, query_img in enumerate(query_t1_image_PIL_list):\n",
    "    assert query_img.filename.endswith(f\"{idx}.jpg\")"
   ],
   "outputs": [],
   "execution_count": null
  },
  {
   "cell_type": "code",
   "id": "56a42bceaf2aa49c",
   "metadata": {},
   "source": "",
   "outputs": [],
   "execution_count": null
  },
  {
   "cell_type": "markdown",
   "id": "9174931bcd0b990f",
   "metadata": {},
   "source": [
    "## Image Denoising"
   ]
  },
  {
   "cell_type": "code",
   "id": "c9ca41fcf088c4ce",
   "metadata": {},
   "source": "from src.denoising import denoise_image\n",
   "outputs": [],
   "execution_count": null
  },
  {
   "cell_type": "code",
   "id": "b2f5dc66e06c7f",
   "metadata": {},
   "source": [
    "denoised_query_t1_PIL_list = []\n",
    "for image in query_t1_image_PIL_list:\n",
    "    denoised_image = denoise_image(image)\n",
    "    denoised_query_t1_PIL_list.append(denoised_image)"
   ],
   "outputs": [],
   "execution_count": null
  },
  {
   "metadata": {},
   "cell_type": "markdown",
   "source": "## Background Removal",
   "id": "60987cd21d886e5a"
  },
  {
   "metadata": {},
   "cell_type": "code",
   "source": "from src.background import get_paintings_cropped_images",
   "id": "81c193753f548089",
   "outputs": [],
   "execution_count": null
  },
  {
   "metadata": {},
   "cell_type": "code",
   "source": [
    "cropped_query_image_list_t1 = []\n",
    "pbar = tqdm(zip(QST1_W4_PATH_LIST, denoised_query_t1_PIL_list))\n",
    "for name, image in pbar:\n",
    "    pbar.set_description(f\"Splitting {name.stem}\")\n",
    "    image_list = get_paintings_cropped_images(image)\n",
    "    cropped_query_image_list_t1.append(image_list)"
   ],
   "id": "e3e03b027f966d88",
   "outputs": [],
   "execution_count": null
  },
  {
   "cell_type": "markdown",
   "id": "aae8c13f64377367",
   "metadata": {},
   "source": [
    "## Retrieval"
   ]
  },
  {
   "cell_type": "code",
   "id": "b01e4068b57fd69a",
   "metadata": {},
   "source": "from src.descriptors import ImageRetrievalSystem, SIFTDescriptor, HOGDescriptor, ORBDescriptor",
   "outputs": [],
   "execution_count": null
  },
  {
   "metadata": {},
   "cell_type": "code",
   "source": [
    "descriptors = {\n",
    "    'SIFT': SIFTDescriptor(max_features=500),\n",
    "    'HOG13': HOGDescriptor(pixels_per_cell=12, cells_per_block=4),\n",
    "    'ORB': ORBDescriptor(),\n",
    "}\n",
    "descriptor_path = WEEK_4_RESULTS_PATH / 'Task_1' / 'descriptors'  \n",
    "\n",
    "retrieval_system = ImageRetrievalSystem(descriptors, descriptor_path, log=False)"
   ],
   "id": "93cf5ad168cd419b",
   "outputs": [],
   "execution_count": null
  },
  {
   "metadata": {},
   "cell_type": "code",
   "source": [
    "#Set number of top similar images to retrieve\n",
    "K = 10\n",
    "\n",
    "results = {}\n",
    "g_0 = {}\n",
    "\n",
    "descriptor_name = \"HOG13\"\n",
    "\n",
    "results[descriptor_name] = retrieval_system.retrieve_similar_images(descriptor_name, database_image_PIL_list, cropped_query_image_list_t1, None, K)"
   ],
   "id": "a65ee364eea987c",
   "outputs": [],
   "execution_count": null
  },
  {
   "metadata": {},
   "cell_type": "code",
   "source": "print(results[descriptor_name])",
   "id": "a0a3b3ed26a8c454",
   "outputs": [],
   "execution_count": null
  }
 ],
 "metadata": {
  "kernelspec": {
   "display_name": "venv",
   "language": "python",
   "name": "python3"
  },
  "language_info": {
   "codemirror_mode": {
    "name": "ipython",
    "version": 3
   },
   "file_extension": ".py",
   "mimetype": "text/x-python",
   "name": "python",
   "nbconvert_exporter": "python",
   "pygments_lexer": "ipython3",
   "version": "3.12.6"
  }
 },
 "nbformat": 4,
 "nbformat_minor": 5
}
