{
 "cells": [
  {
   "cell_type": "markdown",
   "id": "88316a7fbf261109",
   "metadata": {},
   "source": [
    "# C1 W4 Group 8 - Task 3\n"
   ]
  },
  {
   "cell_type": "code",
   "id": "initial_id",
   "metadata": {
    "collapsed": true,
    "ExecuteTime": {
     "end_time": "2024-11-10T11:24:37.838649Z",
     "start_time": "2024-11-10T11:24:37.778433Z"
    }
   },
   "source": [
    "from PIL import Image\n",
    "\n",
    "from src.data import AUGMENTATIONS_QSD1_W4_LIST, FRAMES_QSD1_W4_LIST, GT_QSD1_W4_LIST\n",
    "from src.paths import BBDD_PATH, QSD1_W4_PATH, QSD1_NON_AUGMENTED_W4_PATH, WEEK_4_RESULTS_PATH\n",
    "from tqdm import tqdm"
   ],
   "outputs": [],
   "execution_count": 1
  },
  {
   "cell_type": "code",
   "id": "47141860131fd183",
   "metadata": {
    "ExecuteTime": {
     "end_time": "2024-11-10T11:24:37.846001Z",
     "start_time": "2024-11-10T11:24:37.841612Z"
    }
   },
   "source": [
    "BBDD_PATH_LIST = sorted(BBDD_PATH.glob(\"*.jpg\"))\n",
    "QSD1_W4_PATH_LIST = sorted(QSD1_W4_PATH.glob(\"*.jpg\"))\n",
    "QSD1_NON_AUGMENTED_W4_PATH_LIST = sorted(QSD1_NON_AUGMENTED_W4_PATH.glob(\"*.jpg\"))"
   ],
   "outputs": [],
   "execution_count": 2
  },
  {
   "cell_type": "code",
   "id": "330df2127bcf9af8",
   "metadata": {
    "ExecuteTime": {
     "end_time": "2024-11-10T11:24:37.982560Z",
     "start_time": "2024-11-10T11:24:37.917516Z"
    }
   },
   "source": [
    "database_image_PIL_list = [Image.open(db_img_path) for db_img_path in BBDD_PATH_LIST]  # Load once\n",
    "for idx, db_img in enumerate(database_image_PIL_list):\n",
    "    assert db_img.filename.endswith(f\"{idx}.jpg\")"
   ],
   "outputs": [],
   "execution_count": 3
  },
  {
   "cell_type": "code",
   "id": "546d5963f54f03e2",
   "metadata": {
    "ExecuteTime": {
     "end_time": "2024-11-10T11:24:37.995252Z",
     "start_time": "2024-11-10T11:24:37.987111Z"
    }
   },
   "source": [
    "query_d1_image_PIL_list = [Image.open(query_img_path) for query_img_path in QSD1_W4_PATH_LIST]  # Load once\n",
    "for idx, query_img in enumerate(query_d1_image_PIL_list):\n",
    "    assert query_img.filename.endswith(f\"{idx}.jpg\")"
   ],
   "outputs": [],
   "execution_count": 4
  },
  {
   "cell_type": "code",
   "id": "5c124ce4566bd4b5",
   "metadata": {
    "ExecuteTime": {
     "end_time": "2024-11-10T11:24:38.011082Z",
     "start_time": "2024-11-10T11:24:37.999546Z"
    }
   },
   "source": [
    "non_augmented_d1_image_PIL_list = [Image.open(query_img_path) for query_img_path in QSD1_NON_AUGMENTED_W4_PATH_LIST]  # Load once\n",
    "for idx, query_img in enumerate(non_augmented_d1_image_PIL_list):\n",
    "    assert query_img.filename.endswith(f\"{idx}.jpg\")"
   ],
   "outputs": [],
   "execution_count": 5
  },
  {
   "cell_type": "code",
   "id": "56a42bceaf2aa49c",
   "metadata": {
    "ExecuteTime": {
     "end_time": "2024-11-10T11:24:38.019295Z",
     "start_time": "2024-11-10T11:24:38.017203Z"
    }
   },
   "source": [
    "for file, augmentation, frames, gt in zip(QSD1_W4_PATH_LIST, AUGMENTATIONS_QSD1_W4_LIST, FRAMES_QSD1_W4_LIST, GT_QSD1_W4_LIST):\n",
    "    print(f\"File={file.stem}, Aug={augmentation}, Frames={frames}, GT={gt}\")"
   ],
   "outputs": [
    {
     "name": "stdout",
     "output_type": "stream",
     "text": [
      "File=00000, Aug=None, Frames=[[np.float64(179.49631381503272), [[64, 41], [2048, 25], [2016, 3653], [196, 3637]]]], GT=[-1]\n",
      "File=00001, Aug=None-MultiplyHue, Frames=[[np.float64(179.52154949700142), [[19, 38], [509, 37], [496, 665], [17, 661]]]], GT=[150]\n",
      "File=00002, Aug=None-MultiplyHue, Frames=[[np.float64(0.9495668564358084), [[34, 50], [396, 32], [408, 470], [46, 476]]], [np.float64(0.3015539498682642), [[466, 34], [844, 20], [850, 484], [470, 486]]]], GT=[48, 251]\n",
      "File=00003, Aug=UnnamedImpulseNoise, Frames=[[np.float64(180.0), [[24, 27], [458, 26], [462, 355], [45, 355]]]], GT=[32]\n",
      "File=00004, Aug=None-MultiplyHue, Frames=[[np.float64(0.4841781604809512), [[53, 78], [1489, 62], [1497, 2326], [77, 2338]]]], GT=[161]\n",
      "File=00005, Aug=None, Frames=[[np.float64(179.85346379900508), [[50, 43], [1642, 27], [1646, 2051], [82, 2047]]]], GT=[81]\n",
      "File=00006, Aug=None, Frames=[[np.float64(1.5481576989779455), [[176, 46], [470, 34], [478, 326], [182, 334]]], [np.float64(1.3510650827196287), [[48, 416], [478, 398], [484, 778], [60, 788]]]], GT=[62, 38]\n",
      "File=00007, Aug=None-MultiplyHue, Frames=[[np.float64(0.5388158978827846), [[53, 32], [1365, 36], [1329, 2492], [53, 2504]]]], GT=[-1]\n",
      "File=00008, Aug=UnnamedImpulseNoise, Frames=[[np.float64(179.72051060945523), [[65, 65], [461, 55], [477, 643], [67, 641]]]], GT=[128]\n",
      "File=00009, Aug=None, Frames=[[np.float64(179.90070065485645), [[72, 38], [632, 42], [624, 618], [47, 617]]], [np.float64(0.2535194937720462), [[812, 172], [1036, 172], [1039, 448], [813, 449]]]], GT=[155, 258]\n",
      "File=00010, Aug=None-MultiplyHue, Frames=[[np.float64(179.48844413341297), [[21, 75], [473, 75], [469, 643], [21, 639]]], [np.float64(179.28384005452958), [[665, 59], [1305, 71], [1313, 667], [673, 659]]]], GT=[136, 76]\n",
      "File=00011, Aug=None, Frames=[[np.float64(0.8079638429904321), [[49, 31], [3109, 23], [3149, 1875], [29, 1919]]]], GT=[-1]\n",
      "File=00012, Aug=UnnamedImpulseNoise, Frames=[[np.float64(179.8476179669604), [[36, 13], [1604, 25], [1580, 1549], [76, 1545]]]], GT=[-1]\n",
      "File=00013, Aug=None, Frames=[[np.float64(179.47756056304124), [[55, 54], [718, 59], [713, 608], [55, 602]]]], GT=[53]\n",
      "File=00014, Aug=None, Frames=[[np.float64(179.534190917235), [[30, 72], [3586, 52], [3550, 2404], [106, 2376]]]], GT=[-1]\n",
      "File=00015, Aug=None-MultiplyHue, Frames=[[np.float64(179.65895772114115), [[32, 44], [540, 49], [532, 676], [28, 673]]]], GT=[12]\n",
      "File=00016, Aug=None, Frames=[[np.float64(1.03535318654491), [[23, 57], [351, 57], [345, 489], [13, 495]]], [np.float64(179.51030440687077), [[625, 195], [863, 195], [863, 357], [629, 355]]]], GT=[11, 280]\n",
      "File=00017, Aug=UnnamedImpulseNoise, Frames=[[np.float64(179.6392001122509), [[54, 37], [3282, 85], [3254, 1329], [78, 1309]]]], GT=[-1]\n",
      "File=00018, Aug=None-MultiplyHue, Frames=[[np.float64(179.72585960626677), [[52, 45], [468, 49], [466, 213], [48, 211]]], [np.float64(179.26074064459215), [[636, 11], [950, 17], [942, 261], [632, 257]]]], GT=[182, 252]\n",
      "File=00019, Aug=UnnamedImpulseNoise, Frames=[[np.float64(1.0447920138065), [[27, 63], [2659, 11], [2687, 1699], [55, 1747]]]], GT=[-1]\n",
      "File=00020, Aug=None-MultiplyHue, Frames=[[np.float64(1.3896520155771555), [[315, 45], [690, 39], [690, 354], [319, 363]]], [np.float64(2.254574965935035), [[44, 412], [694, 405], [690, 765], [55, 790]]]], GT=[272, 117]\n",
      "File=00021, Aug=None-MultiplyHue, Frames=[[np.float64(0.5617053325665324), [[68, 61], [2200, 97], [2176, 1221], [136, 1241]]]], GT=[-1]\n",
      "File=00022, Aug=UnnamedImpulseNoise, Frames=[[np.float64(179.0759546472273), [[20, 56], [276, 60], [272, 626], [24, 622]]]], GT=[242]\n",
      "File=00023, Aug=UnnamedImpulseNoise, Frames=[[np.float64(0.8092086141573418), [[51, 70], [1491, 50], [1491, 2070], [75, 2090]]]], GT=[260]\n",
      "File=00024, Aug=UnnamedImpulseNoise, Frames=[[np.float64(1.2386346708968858), [[35, 75], [795, 71], [791, 647], [51, 663]]], [np.float64(0.2557830307392237), [[1067, 47], [1959, 51], [1959, 691], [1063, 695]]]], GT=[94, 132]\n",
      "File=00025, Aug=UnnamedImpulseNoise, Frames=[[np.float64(178.7746086976259), [[24, 22], [396, 24], [394, 388], [20, 380]]]], GT=[223]\n",
      "File=00026, Aug=None, Frames=[[np.float64(179.3472915080618), [[61, 126], [3261, 66], [3261, 2530], [101, 2494]]]], GT=[-1]\n",
      "File=00027, Aug=None-MultiplyHue, Frames=[[np.float64(179.6321348813903), [[49, 55], [676, 52], [678, 505], [55, 501]]]], GT=[127]\n",
      "File=00028, Aug=None-MultiplyHue, Frames=[[np.float64(1.1586330880851392), [[56, 29], [501, 22], [503, 392], [58, 401]]], [np.float64(0.22557276963408412), [[27, 449], [529, 444], [533, 828], [25, 830]]]], GT=[47, 13]\n",
      "File=00029, Aug=None-MultiplyHue, Frames=[[np.float64(179.43921093077876), [[67, 107], [2719, 55], [2671, 2631], [219, 2607]]]], GT=[-1]\n"
     ]
    }
   ],
   "execution_count": 6
  },
  {
   "cell_type": "markdown",
   "id": "60987cd21d886e5a",
   "metadata": {},
   "source": [
    "## Background Removal"
   ]
  },
  {
   "cell_type": "code",
   "id": "81c193753f548089",
   "metadata": {
    "ExecuteTime": {
     "end_time": "2024-11-10T11:24:38.188517Z",
     "start_time": "2024-11-10T11:24:38.026384Z"
    }
   },
   "source": [
    "from src.background import get_painting_masks, crop_image_by_mask"
   ],
   "outputs": [],
   "execution_count": 7
  },
  {
   "cell_type": "code",
   "id": "b68b6413e362412a",
   "metadata": {
    "ExecuteTime": {
     "end_time": "2024-11-10T11:24:55.826292Z",
     "start_time": "2024-11-10T11:24:38.194017Z"
    }
   },
   "source": [
    "painting_masks_list_d1 = []\n",
    "pbar = tqdm(zip(QSD1_W4_PATH_LIST, query_d1_image_PIL_list))\n",
    "for name, image in pbar:\n",
    "    pbar.set_description(f\"Processing {name.stem}\")\n",
    "    painting_masks = get_painting_masks(image)\n",
    "    painting_masks_list_d1.append(painting_masks)"
   ],
   "outputs": [
    {
     "name": "stderr",
     "output_type": "stream",
     "text": [
      "Processing 00029: : 30it [00:17,  1.70it/s]\n"
     ]
    }
   ],
   "execution_count": 8
  },
  {
   "cell_type": "code",
   "id": "e3e03b027f966d88",
   "metadata": {
    "ExecuteTime": {
     "end_time": "2024-11-10T11:24:56.739009Z",
     "start_time": "2024-11-10T11:24:55.840638Z"
    }
   },
   "source": [
    "cropped_query_image_list_d1 = []\n",
    "pbar = tqdm(zip(QSD1_W4_PATH_LIST, query_d1_image_PIL_list, painting_masks_list_d1))\n",
    "for name, image, predicted_mask in pbar:\n",
    "    pbar.set_description(f\"Splitting {name.stem}\")\n",
    "    image_list = crop_image_by_mask(image, predicted_mask)\n",
    "    cropped_query_image_list_d1.append(image_list)"
   ],
   "outputs": [
    {
     "name": "stderr",
     "output_type": "stream",
     "text": [
      "Splitting 00029: : 30it [00:00, 33.61it/s]\n"
     ]
    }
   ],
   "execution_count": 9
  },
  {
   "cell_type": "markdown",
   "id": "9174931bcd0b990f",
   "metadata": {},
   "source": [
    "## Image Denoising"
   ]
  },
  {
   "cell_type": "code",
   "id": "c9ca41fcf088c4ce",
   "metadata": {
    "ExecuteTime": {
     "end_time": "2024-11-10T11:24:56.992749Z",
     "start_time": "2024-11-10T11:24:56.742248Z"
    }
   },
   "source": "from src.denoising import denoise_image",
   "outputs": [],
   "execution_count": 10
  },
  {
   "cell_type": "code",
   "id": "b2f5dc66e06c7f",
   "metadata": {
    "ExecuteTime": {
     "end_time": "2024-11-10T11:24:57.334085Z",
     "start_time": "2024-11-10T11:24:56.998705Z"
    }
   },
   "source": [
    "denoised_query_d1_PIL_list = []\n",
    "for image_tuple in cropped_query_image_list_d1:\n",
    "    temp = []\n",
    "    for img in image_tuple:\n",
    "        temp.append(denoise_image(img))\n",
    "    denoised_query_d1_PIL_list.append(temp)"
   ],
   "outputs": [],
   "execution_count": 11
  },
  {
   "cell_type": "markdown",
   "id": "aae8c13f64377367",
   "metadata": {},
   "source": [
    "## Retrieval"
   ]
  },
  {
   "cell_type": "code",
   "id": "b01e4068b57fd69a",
   "metadata": {
    "ExecuteTime": {
     "end_time": "2024-11-10T11:24:57.385787Z",
     "start_time": "2024-11-10T11:24:57.341132Z"
    }
   },
   "source": "from src.retrieval import find_top_k_similar_images",
   "outputs": [],
   "execution_count": 12
  },
  {
   "metadata": {
    "ExecuteTime": {
     "end_time": "2024-11-10T11:25:16.608252Z",
     "start_time": "2024-11-10T11:24:57.391714Z"
    }
   },
   "cell_type": "code",
   "source": "retrieved_images_d1 = find_top_k_similar_images(denoised_query_d1_PIL_list, database_image_PIL_list, k=10)",
   "id": "93cf5ad168cd419b",
   "outputs": [
    {
     "name": "stderr",
     "output_type": "stream",
     "text": [
      "Partitioning at level 5: 100%|██████████| 36/36 [00:00<00:00, 409.79it/s]\n",
      "Loading images at level 5: 100%|██████████| 287/287 [00:03<00:00, 72.49it/s]\n",
      "Processing level 5: 100%|██████████| 36/36 [00:14<00:00,  2.47it/s]\n"
     ]
    }
   ],
   "execution_count": 13
  },
  {
   "metadata": {
    "ExecuteTime": {
     "end_time": "2024-11-10T11:25:16.624420Z",
     "start_time": "2024-11-10T11:25:16.622620Z"
    }
   },
   "cell_type": "code",
   "source": "print(retrieved_images_d1)",
   "id": "a65ee364eea987c",
   "outputs": [
    {
     "name": "stdout",
     "output_type": "stream",
     "text": [
      "[[[270, 47, 248, 24, 189, 40, 120, 101, 279, 102]], [[150, 215, 51, 4, 70, 212, 95, 40, 90, 132]], [[48, 116, 201, 40, 22, 184, 258, 212, 120, 224], [251, 234, 119, 177, 182, 47, 189, 100, 120, 137]], [[32, 193, 104, 257, 130, 242, 161, 88, 31, 103]], [[161, 40, 116, 35, 70, 132, 120, 274, 106, 68]], [[81, 163, 226, 205, 60, 140, 252, 244, 96, 248]], [[176, 237, 58, 145, 233, 239, 43, 114, 126, 150]], [[270, 101, 248, 60, 47, 40, 279, 258, 24, 91]], [[264, 99, 104, 279, 259, 113, 32, 91, 242, 128]], [[269, 184, 228, 92, 90, 6, 165, 167, 42, 5]], [[167, 95, 249, 228, 16, 25, 165, 90, 260, 150], [76, 142, 273, 110, 103, 104, 57, 113, 242, 140]], [[3, 206, 11, 35, 149, 40, 78, 13, 205, 61]], [[46, 101, 270, 248, 63, 90, 60, 232, 249, 258]], [[53, 54, 107, 238, 30, 74, 11, 14, 106, 164]], [[163, 205, 60, 226, 286, 251, 137, 68, 35, 240]], [[12, 265, 193, 61, 74, 161, 80, 253, 197, 238]], [[11, 222, 283, 206, 245, 238, 40, 104, 161, 255], [221, 35, 48, 205, 25, 165, 119, 232, 116, 120]], [[150, 116, 163, 84, 212, 147, 248, 40, 279, 90], [97, 36, 194, 120, 40, 184, 250, 24, 177, 65]], [[120, 47, 36, 221, 35, 177, 65, 40, 186, 189], [252, 52, 248, 60, 102, 77, 189, 226, 261, 168]], [[37, 110, 93, 142, 43, 169, 273, 133, 187, 76]], [[275, 272, 132, 94, 44, 161, 202, 255, 56, 103]], [[259, 135, 160, 63, 118, 170, 45, 101, 99, 139]], [[242, 142, 32, 104, 88, 76, 113, 103, 84, 150]], [[260, 279, 91, 60, 167, 190, 101, 264, 205, 84]], [[94, 85, 192, 275, 150, 58, 258, 191, 103, 130], [132, 103, 255, 161, 116, 70, 150, 104, 87, 237]], [[57, 157, 103, 223, 46, 88, 69, 43, 246, 16]], [[142, 104, 76, 140, 273, 84, 93, 103, 169, 144]], [[127, 92, 42, 130, 25, 196, 257, 175, 258, 192]], [[161, 40, 106, 283, 11, 255, 116, 44, 224, 22]], [[24, 237, 258, 270, 40, 248, 101, 70, 46, 132]]]\n"
     ]
    }
   ],
   "execution_count": 14
  },
  {
   "metadata": {},
   "cell_type": "markdown",
   "source": "## Evaluation",
   "id": "bc55db2f0b269b3c"
  },
  {
   "metadata": {
    "ExecuteTime": {
     "end_time": "2024-11-10T11:25:17.063202Z",
     "start_time": "2024-11-10T11:25:16.705888Z"
    }
   },
   "cell_type": "code",
   "source": [
    "from src.metrics import MeanAveragePrecisionAtK\n",
    "\n",
    "map = MeanAveragePrecisionAtK()"
   ],
   "id": "951860a122b27de6",
   "outputs": [],
   "execution_count": 15
  },
  {
   "metadata": {
    "ExecuteTime": {
     "end_time": "2024-11-10T11:25:17.071585Z",
     "start_time": "2024-11-10T11:25:17.069745Z"
    }
   },
   "cell_type": "code",
   "source": [
    "GT_mod = []\n",
    "for element in GT_QSD1_W4_LIST:\n",
    "    if len(element) == 2:\n",
    "        GT_mod.append([element[0]])\n",
    "        GT_mod.append([element[1]])\n",
    "    else:\n",
    "        GT_mod.append([element[0]])\n",
    "\n",
    "results_mod = []\n",
    "for element in retrieved_images_d1:\n",
    "    for e in element:\n",
    "        results_mod.append(e)"
   ],
   "id": "fca8a412d2e08105",
   "outputs": [],
   "execution_count": 16
  },
  {
   "metadata": {
    "ExecuteTime": {
     "end_time": "2024-11-10T11:25:17.080048Z",
     "start_time": "2024-11-10T11:25:17.078350Z"
    }
   },
   "cell_type": "code",
   "source": [
    "result = map.compute(GT_mod, results_mod, k=10)\n",
    "print(f\"MAP QSD1_W4 Method Week 3: {result}\")"
   ],
   "id": "92fde159e6d96b8b",
   "outputs": [
    {
     "name": "stdout",
     "output_type": "stream",
     "text": [
      "MAP QSD1_W4 Method Week 3: 0.16666666666666666\n"
     ]
    }
   ],
   "execution_count": 17
  },
  {
   "metadata": {
    "ExecuteTime": {
     "end_time": "2024-11-10T11:25:17.087398Z",
     "start_time": "2024-11-10T11:25:17.086122Z"
    }
   },
   "cell_type": "code",
   "source": "",
   "id": "a6f9dee8974326b2",
   "outputs": [],
   "execution_count": null
  }
 ],
 "metadata": {
  "kernelspec": {
   "display_name": "venv",
   "language": "python",
   "name": "python3"
  },
  "language_info": {
   "codemirror_mode": {
    "name": "ipython",
    "version": 3
   },
   "file_extension": ".py",
   "mimetype": "text/x-python",
   "name": "python",
   "nbconvert_exporter": "python",
   "pygments_lexer": "ipython3",
   "version": "3.12.6"
  }
 },
 "nbformat": 4,
 "nbformat_minor": 5
}
