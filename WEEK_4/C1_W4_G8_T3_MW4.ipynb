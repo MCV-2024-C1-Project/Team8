{
 "cells": [
  {
   "cell_type": "markdown",
   "id": "88316a7fbf261109",
   "metadata": {},
   "source": [
    "# C1 W4 Group 8 - Task 3\n"
   ]
  },
  {
   "cell_type": "code",
   "id": "initial_id",
   "metadata": {
    "collapsed": true
   },
   "source": [
    "from PIL import Image\n",
    "\n",
    "from src.data import AUGMENTATIONS_QSD1_W4_LIST, FRAMES_QSD1_W4_LIST, GT_QSD1_W4_LIST\n",
    "from src.paths import BBDD_PATH, QSD1_W4_PATH, QSD1_NON_AUGMENTED_W4_PATH, WEEK_4_RESULTS_PATH\n",
    "from tqdm import tqdm"
   ],
   "outputs": [],
   "execution_count": null
  },
  {
   "cell_type": "code",
   "id": "47141860131fd183",
   "metadata": {},
   "source": [
    "BBDD_PATH_LIST = sorted(BBDD_PATH.glob(\"*.jpg\"))\n",
    "QSD1_W4_PATH_LIST = sorted(QSD1_W4_PATH.glob(\"*.jpg\"))\n",
    "QSD1_NON_AUGMENTED_W4_PATH_LIST = sorted(QSD1_NON_AUGMENTED_W4_PATH.glob(\"*.jpg\"))"
   ],
   "outputs": [],
   "execution_count": null
  },
  {
   "cell_type": "code",
   "id": "330df2127bcf9af8",
   "metadata": {},
   "source": [
    "database_image_PIL_list = [Image.open(db_img_path) for db_img_path in BBDD_PATH_LIST]  # Load once\n",
    "for idx, db_img in enumerate(database_image_PIL_list):\n",
    "    assert db_img.filename.endswith(f\"{idx}.jpg\")"
   ],
   "outputs": [],
   "execution_count": null
  },
  {
   "cell_type": "code",
   "id": "546d5963f54f03e2",
   "metadata": {},
   "source": [
    "query_d1_image_PIL_list = [Image.open(query_img_path) for query_img_path in QSD1_W4_PATH_LIST]  # Load once\n",
    "for idx, query_img in enumerate(query_d1_image_PIL_list):\n",
    "    assert query_img.filename.endswith(f\"{idx}.jpg\")"
   ],
   "outputs": [],
   "execution_count": null
  },
  {
   "cell_type": "code",
   "id": "5c124ce4566bd4b5",
   "metadata": {},
   "source": [
    "non_augmented_d1_image_PIL_list = [Image.open(query_img_path) for query_img_path in QSD1_NON_AUGMENTED_W4_PATH_LIST]  # Load once\n",
    "for idx, query_img in enumerate(non_augmented_d1_image_PIL_list):\n",
    "    assert query_img.filename.endswith(f\"{idx}.jpg\")"
   ],
   "outputs": [],
   "execution_count": null
  },
  {
   "cell_type": "code",
   "id": "56a42bceaf2aa49c",
   "metadata": {},
   "source": [
    "for file, augmentation, frames, gt in zip(QSD1_W4_PATH_LIST, AUGMENTATIONS_QSD1_W4_LIST, FRAMES_QSD1_W4_LIST, GT_QSD1_W4_LIST):\n",
    "    print(f\"File={file.stem}, Aug={augmentation}, Frames={frames}, GT={gt}\")"
   ],
   "outputs": [],
   "execution_count": null
  },
  {
   "cell_type": "markdown",
   "id": "60987cd21d886e5a",
   "metadata": {},
   "source": [
    "## Background Removal"
   ]
  },
  {
   "cell_type": "code",
   "id": "81c193753f548089",
   "metadata": {},
   "source": "from src.background import get_paintings_cropped_images, resize_image",
   "outputs": [],
   "execution_count": null
  },
  {
   "metadata": {},
   "cell_type": "code",
   "source": "IMAGE_SIZE = 2**9  # IMPORTANT: we define a same size and apply it to detect the images and also for retrieval\n",
   "id": "dbb5a747b402d64d",
   "outputs": [],
   "execution_count": null
  },
  {
   "cell_type": "code",
   "id": "b68b6413e362412a",
   "metadata": {},
   "source": [
    "cropped_query_image_list_d1 = []\n",
    "pbar = tqdm(zip(QSD1_W4_PATH_LIST, query_d1_image_PIL_list))\n",
    "for name, image in pbar:\n",
    "    pbar.set_description(f\"Splitting {name.stem}\")\n",
    "    image_list = get_paintings_cropped_images(image, image_size=IMAGE_SIZE, output_size=IMAGE_SIZE)\n",
    "    cropped_query_image_list_d1.append(image_list)"
   ],
   "outputs": [],
   "execution_count": null
  },
  {
   "cell_type": "code",
   "id": "e3e03b027f966d88",
   "metadata": {},
   "source": "database_image_PIL_list = [Image.fromarray(resize_image(db_image, IMAGE_SIZE)) for db_image in database_image_PIL_list]",
   "outputs": [],
   "execution_count": null
  },
  {
   "cell_type": "markdown",
   "id": "9174931bcd0b990f",
   "metadata": {},
   "source": [
    "## Image Denoising"
   ]
  },
  {
   "cell_type": "code",
   "id": "c9ca41fcf088c4ce",
   "metadata": {},
   "source": "from src.denoising import denoise_image",
   "outputs": [],
   "execution_count": null
  },
  {
   "cell_type": "code",
   "id": "b2f5dc66e06c7f",
   "metadata": {},
   "source": [
    "denoised_query_d1_PIL_list = []\n",
    "for image_tuple in cropped_query_image_list_d1:\n",
    "    temp = []\n",
    "    for img in image_tuple:\n",
    "        temp.append(denoise_image(img))\n",
    "    denoised_query_d1_PIL_list.append(temp)"
   ],
   "outputs": [],
   "execution_count": null
  },
  {
   "cell_type": "markdown",
   "id": "aae8c13f64377367",
   "metadata": {},
   "source": [
    "## Retrieval"
   ]
  },
  {
   "cell_type": "code",
   "id": "b01e4068b57fd69a",
   "metadata": {},
   "source": "from src.descriptors import ImageRetrievalSystem, SIFTDescriptor, HOGDescriptor, ORBDescriptor",
   "outputs": [],
   "execution_count": null
  },
  {
   "metadata": {},
   "cell_type": "code",
   "source": [
    "descriptors = {\n",
    "    'SIFT': SIFTDescriptor(max_features=500),\n",
    "    'HOG13': HOGDescriptor(pixels_per_cell=12, cells_per_block=4),\n",
    "    'ORB': ORBDescriptor(),\n",
    "}\n",
    "descriptor_path = WEEK_4_RESULTS_PATH / 'Task_1' / 'descriptors'  \n",
    "\n",
    "retrieval_system = ImageRetrievalSystem(descriptors, descriptor_path, log=False)"
   ],
   "id": "93cf5ad168cd419b",
   "outputs": [],
   "execution_count": null
  },
  {
   "metadata": {},
   "cell_type": "code",
   "source": [
    "#Set number of top similar images to retrieve\n",
    "K = 10\n",
    "\n",
    "results = {}\n",
    "g_0 = {}\n",
    "\n",
    "descriptor_name = \"HOG13\"\n",
    "\n",
    "results[descriptor_name] = retrieval_system.retrieve_similar_images(descriptor_name, database_image_PIL_list, denoised_query_d1_PIL_list, None, K)"
   ],
   "id": "a65ee364eea987c",
   "outputs": [],
   "execution_count": null
  },
  {
   "metadata": {},
   "cell_type": "markdown",
   "source": "## Evaluation",
   "id": "bc55db2f0b269b3c"
  },
  {
   "metadata": {},
   "cell_type": "code",
   "source": [
    "from src.metrics import MeanAveragePrecisionAtK\n",
    "\n",
    "map = MeanAveragePrecisionAtK()"
   ],
   "id": "951860a122b27de6",
   "outputs": [],
   "execution_count": null
  },
  {
   "metadata": {},
   "cell_type": "code",
   "source": [
    "GT_mod = []\n",
    "for element in GT_QSD1_W4_LIST:\n",
    "    if len(element) == 2:\n",
    "        GT_mod.append([element[0]])\n",
    "        GT_mod.append([element[1]])\n",
    "    else:\n",
    "        GT_mod.append([element[0]])\n",
    "\n",
    "retrieved_images_d1 = results[descriptor_name]\n",
    "results_mod = []\n",
    "for element in retrieved_images_d1:\n",
    "    for e in element:\n",
    "        results_mod.append(e)\n",
    "\n",
    "print(GT_mod)\n",
    "print(results_mod)"
   ],
   "id": "fca8a412d2e08105",
   "outputs": [],
   "execution_count": null
  },
  {
   "metadata": {},
   "cell_type": "code",
   "source": [
    "result = map.compute(GT_mod, results_mod, k=10)\n",
    "print(f\"MAP QSD1_W4 Method Week 3: {result}\")"
   ],
   "id": "92fde159e6d96b8b",
   "outputs": [],
   "execution_count": null
  }
 ],
 "metadata": {
  "kernelspec": {
   "display_name": "venv",
   "language": "python",
   "name": "python3"
  },
  "language_info": {
   "codemirror_mode": {
    "name": "ipython",
    "version": 3
   },
   "file_extension": ".py",
   "mimetype": "text/x-python",
   "name": "python",
   "nbconvert_exporter": "python",
   "pygments_lexer": "ipython3",
   "version": "3.12.6"
  }
 },
 "nbformat": 4,
 "nbformat_minor": 5
}
