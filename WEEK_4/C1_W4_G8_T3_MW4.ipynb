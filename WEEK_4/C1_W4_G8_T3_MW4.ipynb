{
 "cells": [
  {
   "cell_type": "markdown",
   "id": "88316a7fbf261109",
   "metadata": {},
   "source": [
    "# C1 W4 Group 8 - Task 3\n"
   ]
  },
  {
   "cell_type": "code",
   "id": "initial_id",
   "metadata": {
    "collapsed": true
   },
   "source": [
    "from PIL import Image\n",
    "\n",
    "from src.data import AUGMENTATIONS_QSD1_W4_LIST, FRAMES_QSD1_W4_LIST, GT_QSD1_W4_LIST\n",
    "from src.paths import BBDD_PATH, QSD1_W4_PATH, QSD1_NON_AUGMENTED_W4_PATH, WEEK_4_RESULTS_PATH\n",
    "from tqdm import tqdm"
   ],
   "outputs": [],
   "execution_count": null
  },
  {
   "cell_type": "code",
   "id": "47141860131fd183",
   "metadata": {},
   "source": [
    "BBDD_PATH_LIST = sorted(BBDD_PATH.glob(\"*.jpg\"))\n",
    "QSD1_W4_PATH_LIST = sorted(QSD1_W4_PATH.glob(\"*.jpg\"))\n",
    "QSD1_NON_AUGMENTED_W4_PATH_LIST = sorted(QSD1_NON_AUGMENTED_W4_PATH.glob(\"*.jpg\"))"
   ],
   "outputs": [],
   "execution_count": null
  },
  {
   "cell_type": "code",
   "id": "330df2127bcf9af8",
   "metadata": {},
   "source": [
    "database_image_PIL_list = [Image.open(db_img_path) for db_img_path in BBDD_PATH_LIST]  # Load once\n",
    "for idx, db_img in enumerate(database_image_PIL_list):\n",
    "    assert db_img.filename.endswith(f\"{idx}.jpg\")"
   ],
   "outputs": [],
   "execution_count": null
  },
  {
   "cell_type": "code",
   "id": "546d5963f54f03e2",
   "metadata": {},
   "source": [
    "query_d1_image_PIL_list = [Image.open(query_img_path) for query_img_path in QSD1_W4_PATH_LIST]  # Load once\n",
    "for idx, query_img in enumerate(query_d1_image_PIL_list):\n",
    "    assert query_img.filename.endswith(f\"{idx}.jpg\")"
   ],
   "outputs": [],
   "execution_count": null
  },
  {
   "cell_type": "code",
   "id": "5c124ce4566bd4b5",
   "metadata": {},
   "source": [
    "non_augmented_d1_image_PIL_list = [Image.open(query_img_path) for query_img_path in QSD1_NON_AUGMENTED_W4_PATH_LIST]  # Load once\n",
    "for idx, query_img in enumerate(non_augmented_d1_image_PIL_list):\n",
    "    assert query_img.filename.endswith(f\"{idx}.jpg\")"
   ],
   "outputs": [],
   "execution_count": null
  },
  {
   "cell_type": "code",
   "id": "56a42bceaf2aa49c",
   "metadata": {},
   "source": [
    "for file, augmentation, frames, gt in zip(QSD1_W4_PATH_LIST, AUGMENTATIONS_QSD1_W4_LIST, FRAMES_QSD1_W4_LIST, GT_QSD1_W4_LIST):\n",
    "    print(f\"File={file.stem}, Aug={augmentation}, Frames={frames}, GT={gt}\")"
   ],
   "outputs": [],
   "execution_count": null
  },
  {
   "cell_type": "markdown",
   "id": "9174931bcd0b990f",
   "metadata": {},
   "source": [
    "## Image Denoising"
   ]
  },
  {
   "cell_type": "code",
   "id": "c9ca41fcf088c4ce",
   "metadata": {},
   "source": "from src.denoising import denoise_image",
   "outputs": [],
   "execution_count": null
  },
  {
   "cell_type": "code",
   "id": "b2f5dc66e06c7f",
   "metadata": {},
   "source": [
    "denoised_query_d1_PIL_list = []\n",
    "for image in query_d1_image_PIL_list:\n",
    "    denoised_image = denoise_image(image)\n",
    "    denoised_query_d1_PIL_list.append(denoised_image)"
   ],
   "outputs": [],
   "execution_count": null
  },
  {
   "metadata": {},
   "cell_type": "markdown",
   "source": "## Background Removal",
   "id": "60987cd21d886e5a"
  },
  {
   "metadata": {},
   "cell_type": "code",
   "source": "from src.background import get_paintings_cropped_images",
   "id": "81c193753f548089",
   "outputs": [],
   "execution_count": null
  },
  {
   "metadata": {},
   "cell_type": "code",
   "source": [
    "cropped_query_image_list_d1 = []\n",
    "pbar = tqdm(zip(QSD1_W4_PATH_LIST, denoised_query_d1_PIL_list))\n",
    "for name, image in pbar:\n",
    "    pbar.set_description(f\"Splitting {name.stem}\")\n",
    "    image_list = get_paintings_cropped_images(image)\n",
    "    cropped_query_image_list_d1.append(image_list)"
   ],
   "id": "b68b6413e362412a",
   "outputs": [],
   "execution_count": null
  },
  {
   "metadata": {},
   "cell_type": "code",
   "source": [
    "import matplotlib.pyplot as plt\n",
    "\n",
    "'''n_rows = len(cropped_query_image_list_d1)\n",
    "\n",
    "fig, axes = plt.subplots(n_rows, 2, figsize=(6, n_rows *1.5))\n",
    "\n",
    "for ax, l in zip(axes, cropped_query_image_list_d1):\n",
    "    ax[0].imshow(l[0]); ax[0].axis('off')\n",
    "    if len(l) > 1:\n",
    "        ax[1].imshow(l[1])\n",
    "    ax[1].axis('off')\n",
    "\n",
    "plt.tight_layout()\n",
    "plt.show()'''"
   ],
   "id": "34d6a55b5d8a9d8e",
   "outputs": [],
   "execution_count": null
  },
  {
   "cell_type": "markdown",
   "id": "aae8c13f64377367",
   "metadata": {},
   "source": [
    "## Retrieval"
   ]
  },
  {
   "cell_type": "code",
   "id": "b01e4068b57fd69a",
   "metadata": {},
   "source": "from src.descriptors import ImageRetrievalSystem, SIFTDescriptor, HOGDescriptor, ORBDescriptor",
   "outputs": [],
   "execution_count": null
  },
  {
   "metadata": {},
   "cell_type": "code",
   "source": [
    "descriptors = {\n",
    "    'SIFT': SIFTDescriptor(max_features=2000),\n",
    "    'HOG13': HOGDescriptor(pixels_per_cell=12, cells_per_block=4),\n",
    "    'ORB': ORBDescriptor(),\n",
    "}\n",
    "descriptor_path = WEEK_4_RESULTS_PATH / 'Task_1' / 'descriptors'  \n",
    "\n",
    "retrieval_system = ImageRetrievalSystem(descriptors, descriptor_path, log=True)"
   ],
   "id": "93cf5ad168cd419b",
   "outputs": [],
   "execution_count": null
  },
  {
   "metadata": {},
   "cell_type": "code",
   "source": [
    "#Set number of top similar images to retrieve\n",
    "K = 10\n",
    "\n",
    "results = {}\n",
    "g_0 = {}\n",
    "\n",
    "descriptor_name = \"SIFT\"\n",
    "\n",
    "results[descriptor_name] = retrieval_system.retrieve_similar_images(descriptor_name, database_image_PIL_list, cropped_query_image_list_d1, GT_QSD1_W4_LIST, K)"
   ],
   "id": "a65ee364eea987c",
   "outputs": [],
   "execution_count": null
  },
  {
   "metadata": {},
   "cell_type": "markdown",
   "source": "## Evaluation",
   "id": "bc55db2f0b269b3c"
  },
  {
   "metadata": {},
   "cell_type": "code",
   "source": [
    "from src.metrics import MeanAveragePrecisionAtK\n",
    "\n",
    "map = MeanAveragePrecisionAtK()"
   ],
   "id": "951860a122b27de6",
   "outputs": [],
   "execution_count": null
  },
  {
   "metadata": {},
   "cell_type": "code",
   "source": [
    "GT_mod = []\n",
    "for element in GT_QSD1_W4_LIST:\n",
    "    if len(element) == 2:\n",
    "        GT_mod.append([element[0]])\n",
    "        GT_mod.append([element[1]])\n",
    "    else:\n",
    "        GT_mod.append([element[0]])\n",
    "\n",
    "retrieved_images_d1 = results[descriptor_name]\n",
    "results_mod = []\n",
    "for idx, element in enumerate(retrieved_images_d1):\n",
    "    temp = []\n",
    "    for e in element:\n",
    "        temp.append(e)\n",
    "    while len(temp) < len(GT_QSD1_W4_LIST[idx]):\n",
    "        temp.append([-1])\n",
    "\n",
    "    for t in temp:\n",
    "        results_mod.append(t)\n",
    "print(GT_mod)\n",
    "print(results_mod)\n",
    "\n",
    "assert len(GT_mod) == len(results_mod)\n"
   ],
   "id": "fca8a412d2e08105",
   "outputs": [],
   "execution_count": null
  },
  {
   "metadata": {},
   "cell_type": "code",
   "source": [
    "result = map.compute(GT_mod, results_mod, k=10)\n",
    "print(f\"MAP QSD1_W4 Method Week 3: {result}\")"
   ],
   "id": "92fde159e6d96b8b",
   "outputs": [],
   "execution_count": null
  },
  {
   "metadata": {},
   "cell_type": "code",
   "source": [
    "for r, gt in zip(results_mod, GT_mod):\n",
    "    if r == [-1] and gt != [-1]:\n",
    "        print(\"ERROR\")"
   ],
   "id": "9520a1b0b7b8a2ab",
   "outputs": [],
   "execution_count": null
  },
  {
   "metadata": {},
   "cell_type": "code",
   "source": "",
   "id": "6fb1e31c1088028f",
   "outputs": [],
   "execution_count": null
  }
 ],
 "metadata": {
  "kernelspec": {
   "display_name": "venv",
   "language": "python",
   "name": "python3"
  },
  "language_info": {
   "codemirror_mode": {
    "name": "ipython",
    "version": 3
   },
   "file_extension": ".py",
   "mimetype": "text/x-python",
   "name": "python",
   "nbconvert_exporter": "python",
   "pygments_lexer": "ipython3",
   "version": "3.12.6"
  }
 },
 "nbformat": 4,
 "nbformat_minor": 5
}
