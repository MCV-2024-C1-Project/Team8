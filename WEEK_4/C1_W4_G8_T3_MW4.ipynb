{
 "cells": [
  {
   "cell_type": "markdown",
   "id": "88316a7fbf261109",
   "metadata": {},
   "source": [
    "# C1 W4 Group 8 - Task 3\n"
   ]
  },
  {
   "cell_type": "code",
   "id": "initial_id",
   "metadata": {
    "collapsed": true,
    "ExecuteTime": {
     "end_time": "2024-11-10T11:33:53.849798Z",
     "start_time": "2024-11-10T11:33:53.789232Z"
    }
   },
   "source": [
    "from PIL import Image\n",
    "\n",
    "from src.data import AUGMENTATIONS_QSD1_W4_LIST, FRAMES_QSD1_W4_LIST, GT_QSD1_W4_LIST\n",
    "from src.paths import BBDD_PATH, QSD1_W4_PATH, QSD1_NON_AUGMENTED_W4_PATH, WEEK_4_RESULTS_PATH\n",
    "from tqdm import tqdm"
   ],
   "outputs": [],
   "execution_count": 1
  },
  {
   "cell_type": "code",
   "id": "47141860131fd183",
   "metadata": {
    "ExecuteTime": {
     "end_time": "2024-11-10T11:33:53.856920Z",
     "start_time": "2024-11-10T11:33:53.852482Z"
    }
   },
   "source": [
    "BBDD_PATH_LIST = sorted(BBDD_PATH.glob(\"*.jpg\"))\n",
    "QSD1_W4_PATH_LIST = sorted(QSD1_W4_PATH.glob(\"*.jpg\"))\n",
    "QSD1_NON_AUGMENTED_W4_PATH_LIST = sorted(QSD1_NON_AUGMENTED_W4_PATH.glob(\"*.jpg\"))"
   ],
   "outputs": [],
   "execution_count": 2
  },
  {
   "cell_type": "code",
   "id": "330df2127bcf9af8",
   "metadata": {
    "ExecuteTime": {
     "end_time": "2024-11-10T11:33:53.998870Z",
     "start_time": "2024-11-10T11:33:53.929085Z"
    }
   },
   "source": [
    "database_image_PIL_list = [Image.open(db_img_path) for db_img_path in BBDD_PATH_LIST]  # Load once\n",
    "for idx, db_img in enumerate(database_image_PIL_list):\n",
    "    assert db_img.filename.endswith(f\"{idx}.jpg\")"
   ],
   "outputs": [],
   "execution_count": 3
  },
  {
   "cell_type": "code",
   "id": "546d5963f54f03e2",
   "metadata": {
    "ExecuteTime": {
     "end_time": "2024-11-10T11:33:54.013746Z",
     "start_time": "2024-11-10T11:33:54.003771Z"
    }
   },
   "source": [
    "query_d1_image_PIL_list = [Image.open(query_img_path) for query_img_path in QSD1_W4_PATH_LIST]  # Load once\n",
    "for idx, query_img in enumerate(query_d1_image_PIL_list):\n",
    "    assert query_img.filename.endswith(f\"{idx}.jpg\")"
   ],
   "outputs": [],
   "execution_count": 4
  },
  {
   "cell_type": "code",
   "id": "5c124ce4566bd4b5",
   "metadata": {
    "ExecuteTime": {
     "end_time": "2024-11-10T11:33:54.033451Z",
     "start_time": "2024-11-10T11:33:54.018480Z"
    }
   },
   "source": [
    "non_augmented_d1_image_PIL_list = [Image.open(query_img_path) for query_img_path in QSD1_NON_AUGMENTED_W4_PATH_LIST]  # Load once\n",
    "for idx, query_img in enumerate(non_augmented_d1_image_PIL_list):\n",
    "    assert query_img.filename.endswith(f\"{idx}.jpg\")"
   ],
   "outputs": [],
   "execution_count": 5
  },
  {
   "cell_type": "code",
   "id": "56a42bceaf2aa49c",
   "metadata": {
    "ExecuteTime": {
     "end_time": "2024-11-10T11:33:54.041969Z",
     "start_time": "2024-11-10T11:33:54.039830Z"
    }
   },
   "source": [
    "for file, augmentation, frames, gt in zip(QSD1_W4_PATH_LIST, AUGMENTATIONS_QSD1_W4_LIST, FRAMES_QSD1_W4_LIST, GT_QSD1_W4_LIST):\n",
    "    print(f\"File={file.stem}, Aug={augmentation}, Frames={frames}, GT={gt}\")"
   ],
   "outputs": [
    {
     "name": "stdout",
     "output_type": "stream",
     "text": [
      "File=00000, Aug=None, Frames=[[np.float64(179.49631381503272), [[64, 41], [2048, 25], [2016, 3653], [196, 3637]]]], GT=[-1]\n",
      "File=00001, Aug=None-MultiplyHue, Frames=[[np.float64(179.52154949700142), [[19, 38], [509, 37], [496, 665], [17, 661]]]], GT=[150]\n",
      "File=00002, Aug=None-MultiplyHue, Frames=[[np.float64(0.9495668564358084), [[34, 50], [396, 32], [408, 470], [46, 476]]], [np.float64(0.3015539498682642), [[466, 34], [844, 20], [850, 484], [470, 486]]]], GT=[48, 251]\n",
      "File=00003, Aug=UnnamedImpulseNoise, Frames=[[np.float64(180.0), [[24, 27], [458, 26], [462, 355], [45, 355]]]], GT=[32]\n",
      "File=00004, Aug=None-MultiplyHue, Frames=[[np.float64(0.4841781604809512), [[53, 78], [1489, 62], [1497, 2326], [77, 2338]]]], GT=[161]\n",
      "File=00005, Aug=None, Frames=[[np.float64(179.85346379900508), [[50, 43], [1642, 27], [1646, 2051], [82, 2047]]]], GT=[81]\n",
      "File=00006, Aug=None, Frames=[[np.float64(1.5481576989779455), [[176, 46], [470, 34], [478, 326], [182, 334]]], [np.float64(1.3510650827196287), [[48, 416], [478, 398], [484, 778], [60, 788]]]], GT=[62, 38]\n",
      "File=00007, Aug=None-MultiplyHue, Frames=[[np.float64(0.5388158978827846), [[53, 32], [1365, 36], [1329, 2492], [53, 2504]]]], GT=[-1]\n",
      "File=00008, Aug=UnnamedImpulseNoise, Frames=[[np.float64(179.72051060945523), [[65, 65], [461, 55], [477, 643], [67, 641]]]], GT=[128]\n",
      "File=00009, Aug=None, Frames=[[np.float64(179.90070065485645), [[72, 38], [632, 42], [624, 618], [47, 617]]], [np.float64(0.2535194937720462), [[812, 172], [1036, 172], [1039, 448], [813, 449]]]], GT=[155, 258]\n",
      "File=00010, Aug=None-MultiplyHue, Frames=[[np.float64(179.48844413341297), [[21, 75], [473, 75], [469, 643], [21, 639]]], [np.float64(179.28384005452958), [[665, 59], [1305, 71], [1313, 667], [673, 659]]]], GT=[136, 76]\n",
      "File=00011, Aug=None, Frames=[[np.float64(0.8079638429904321), [[49, 31], [3109, 23], [3149, 1875], [29, 1919]]]], GT=[-1]\n",
      "File=00012, Aug=UnnamedImpulseNoise, Frames=[[np.float64(179.8476179669604), [[36, 13], [1604, 25], [1580, 1549], [76, 1545]]]], GT=[-1]\n",
      "File=00013, Aug=None, Frames=[[np.float64(179.47756056304124), [[55, 54], [718, 59], [713, 608], [55, 602]]]], GT=[53]\n",
      "File=00014, Aug=None, Frames=[[np.float64(179.534190917235), [[30, 72], [3586, 52], [3550, 2404], [106, 2376]]]], GT=[-1]\n",
      "File=00015, Aug=None-MultiplyHue, Frames=[[np.float64(179.65895772114115), [[32, 44], [540, 49], [532, 676], [28, 673]]]], GT=[12]\n",
      "File=00016, Aug=None, Frames=[[np.float64(1.03535318654491), [[23, 57], [351, 57], [345, 489], [13, 495]]], [np.float64(179.51030440687077), [[625, 195], [863, 195], [863, 357], [629, 355]]]], GT=[11, 280]\n",
      "File=00017, Aug=UnnamedImpulseNoise, Frames=[[np.float64(179.6392001122509), [[54, 37], [3282, 85], [3254, 1329], [78, 1309]]]], GT=[-1]\n",
      "File=00018, Aug=None-MultiplyHue, Frames=[[np.float64(179.72585960626677), [[52, 45], [468, 49], [466, 213], [48, 211]]], [np.float64(179.26074064459215), [[636, 11], [950, 17], [942, 261], [632, 257]]]], GT=[182, 252]\n",
      "File=00019, Aug=UnnamedImpulseNoise, Frames=[[np.float64(1.0447920138065), [[27, 63], [2659, 11], [2687, 1699], [55, 1747]]]], GT=[-1]\n",
      "File=00020, Aug=None-MultiplyHue, Frames=[[np.float64(1.3896520155771555), [[315, 45], [690, 39], [690, 354], [319, 363]]], [np.float64(2.254574965935035), [[44, 412], [694, 405], [690, 765], [55, 790]]]], GT=[272, 117]\n",
      "File=00021, Aug=None-MultiplyHue, Frames=[[np.float64(0.5617053325665324), [[68, 61], [2200, 97], [2176, 1221], [136, 1241]]]], GT=[-1]\n",
      "File=00022, Aug=UnnamedImpulseNoise, Frames=[[np.float64(179.0759546472273), [[20, 56], [276, 60], [272, 626], [24, 622]]]], GT=[242]\n",
      "File=00023, Aug=UnnamedImpulseNoise, Frames=[[np.float64(0.8092086141573418), [[51, 70], [1491, 50], [1491, 2070], [75, 2090]]]], GT=[260]\n",
      "File=00024, Aug=UnnamedImpulseNoise, Frames=[[np.float64(1.2386346708968858), [[35, 75], [795, 71], [791, 647], [51, 663]]], [np.float64(0.2557830307392237), [[1067, 47], [1959, 51], [1959, 691], [1063, 695]]]], GT=[94, 132]\n",
      "File=00025, Aug=UnnamedImpulseNoise, Frames=[[np.float64(178.7746086976259), [[24, 22], [396, 24], [394, 388], [20, 380]]]], GT=[223]\n",
      "File=00026, Aug=None, Frames=[[np.float64(179.3472915080618), [[61, 126], [3261, 66], [3261, 2530], [101, 2494]]]], GT=[-1]\n",
      "File=00027, Aug=None-MultiplyHue, Frames=[[np.float64(179.6321348813903), [[49, 55], [676, 52], [678, 505], [55, 501]]]], GT=[127]\n",
      "File=00028, Aug=None-MultiplyHue, Frames=[[np.float64(1.1586330880851392), [[56, 29], [501, 22], [503, 392], [58, 401]]], [np.float64(0.22557276963408412), [[27, 449], [529, 444], [533, 828], [25, 830]]]], GT=[47, 13]\n",
      "File=00029, Aug=None-MultiplyHue, Frames=[[np.float64(179.43921093077876), [[67, 107], [2719, 55], [2671, 2631], [219, 2607]]]], GT=[-1]\n"
     ]
    }
   ],
   "execution_count": 6
  },
  {
   "cell_type": "markdown",
   "id": "60987cd21d886e5a",
   "metadata": {},
   "source": [
    "## Background Removal"
   ]
  },
  {
   "cell_type": "code",
   "id": "81c193753f548089",
   "metadata": {
    "ExecuteTime": {
     "end_time": "2024-11-10T11:33:54.099279Z",
     "start_time": "2024-11-10T11:33:54.049141Z"
    }
   },
   "source": [
    "from src.background import get_painting_masks, crop_image_by_mask"
   ],
   "outputs": [],
   "execution_count": 7
  },
  {
   "cell_type": "code",
   "id": "b68b6413e362412a",
   "metadata": {
    "ExecuteTime": {
     "end_time": "2024-11-10T11:34:11.778985Z",
     "start_time": "2024-11-10T11:33:54.105371Z"
    }
   },
   "source": [
    "painting_masks_list_d1 = []\n",
    "pbar = tqdm(zip(QSD1_W4_PATH_LIST, query_d1_image_PIL_list))\n",
    "for name, image in pbar:\n",
    "    pbar.set_description(f\"Processing {name.stem}\")\n",
    "    painting_masks = get_painting_masks(image)\n",
    "    painting_masks_list_d1.append(painting_masks)"
   ],
   "outputs": [
    {
     "name": "stderr",
     "output_type": "stream",
     "text": [
      "Processing 00029: : 30it [00:17,  1.70it/s]\n"
     ]
    }
   ],
   "execution_count": 8
  },
  {
   "cell_type": "code",
   "id": "e3e03b027f966d88",
   "metadata": {
    "ExecuteTime": {
     "end_time": "2024-11-10T11:34:12.804679Z",
     "start_time": "2024-11-10T11:34:11.787512Z"
    }
   },
   "source": [
    "cropped_query_image_list_d1 = []\n",
    "pbar = tqdm(zip(QSD1_W4_PATH_LIST, query_d1_image_PIL_list, painting_masks_list_d1))\n",
    "for name, image, predicted_mask in pbar:\n",
    "    pbar.set_description(f\"Splitting {name.stem}\")\n",
    "    image_list = crop_image_by_mask(image, predicted_mask)\n",
    "    cropped_query_image_list_d1.append(image_list)"
   ],
   "outputs": [
    {
     "name": "stderr",
     "output_type": "stream",
     "text": [
      "Splitting 00029: : 30it [00:01, 29.58it/s]\n"
     ]
    }
   ],
   "execution_count": 9
  },
  {
   "cell_type": "markdown",
   "id": "9174931bcd0b990f",
   "metadata": {},
   "source": [
    "## Image Denoising"
   ]
  },
  {
   "cell_type": "code",
   "id": "c9ca41fcf088c4ce",
   "metadata": {
    "ExecuteTime": {
     "end_time": "2024-11-10T11:34:13.067452Z",
     "start_time": "2024-11-10T11:34:12.813268Z"
    }
   },
   "source": "from src.denoising import denoise_image",
   "outputs": [],
   "execution_count": 10
  },
  {
   "cell_type": "code",
   "id": "b2f5dc66e06c7f",
   "metadata": {
    "ExecuteTime": {
     "end_time": "2024-11-10T11:34:13.423908Z",
     "start_time": "2024-11-10T11:34:13.078158Z"
    }
   },
   "source": [
    "denoised_query_d1_PIL_list = []\n",
    "for image_tuple in cropped_query_image_list_d1:\n",
    "    temp = []\n",
    "    for img in image_tuple:\n",
    "        temp.append(denoise_image(img))\n",
    "    denoised_query_d1_PIL_list.append(temp)"
   ],
   "outputs": [],
   "execution_count": 11
  },
  {
   "cell_type": "markdown",
   "id": "aae8c13f64377367",
   "metadata": {},
   "source": [
    "## Retrieval"
   ]
  },
  {
   "cell_type": "code",
   "id": "b01e4068b57fd69a",
   "metadata": {
    "ExecuteTime": {
     "end_time": "2024-11-10T11:34:13.481592Z",
     "start_time": "2024-11-10T11:34:13.430488Z"
    }
   },
   "source": "from src.descriptors import ImageRetrievalSystem, SIFTDescriptor, HOGDescriptor, ORBDescriptor",
   "outputs": [],
   "execution_count": 12
  },
  {
   "metadata": {
    "ExecuteTime": {
     "end_time": "2024-11-10T11:34:13.490546Z",
     "start_time": "2024-11-10T11:34:13.488421Z"
    }
   },
   "cell_type": "code",
   "source": [
    "descriptors = {\n",
    "    'SIFT': SIFTDescriptor(max_features=500),\n",
    "    'HOG13': HOGDescriptor(pixels_per_cell=12, cells_per_block=4),\n",
    "    'ORB': ORBDescriptor(),\n",
    "}\n",
    "descriptor_path = WEEK_4_RESULTS_PATH / 'Task_1' / 'descriptors'  \n",
    "\n",
    "retrieval_system = ImageRetrievalSystem(descriptors, descriptor_path, log=False)"
   ],
   "id": "93cf5ad168cd419b",
   "outputs": [],
   "execution_count": 13
  },
  {
   "metadata": {
    "ExecuteTime": {
     "end_time": "2024-11-10T11:34:14.495865Z",
     "start_time": "2024-11-10T11:34:13.498627Z"
    }
   },
   "cell_type": "code",
   "source": [
    "#Set number of top similar images to retrieve\n",
    "K = 10\n",
    "\n",
    "results = {}\n",
    "g_0 = {}\n",
    "\n",
    "descriptor_name = \"HOG13\"\n",
    "\n",
    "results[descriptor_name] = retrieval_system.retrieve_similar_images(descriptor_name, database_image_PIL_list, denoised_query_d1_PIL_list, None, K)"
   ],
   "id": "a65ee364eea987c",
   "outputs": [
    {
     "name": "stdout",
     "output_type": "stream",
     "text": [
      "\n",
      "Retrieving similar images using HOG13 descriptor:\n"
     ]
    },
    {
     "name": "stderr",
     "output_type": "stream",
     "text": [
      "287it [00:00, 17308.91it/s]\n",
      "287it [00:00, 26667.37it/s]\n",
      "287it [00:00, 29414.65it/s]\n",
      "287it [00:00, 33777.58it/s]\n",
      "287it [00:00, 24569.65it/s]\n",
      "287it [00:00, 34953.55it/s]\n",
      "287it [00:00, 14114.95it/s]\n",
      "287it [00:00, 34562.15it/s]\n",
      "287it [00:00, 25898.01it/s]\n",
      "287it [00:00, 43230.93it/s]\n",
      "287it [00:00, 27758.91it/s]\n",
      "287it [00:00, 27219.11it/s]\n",
      "287it [00:00, 22420.24it/s]\n",
      "287it [00:00, 27047.26it/s]\n",
      "287it [00:00, 39476.77it/s]\n",
      "287it [00:00, 34076.86it/s]\n",
      "287it [00:00, 26126.78it/s]\n",
      "287it [00:00, 27937.37it/s]\n",
      "287it [00:00, 38105.90it/s]\n",
      "287it [00:00, 37550.78it/s]\n",
      "287it [00:00, 39821.54it/s]\n",
      "287it [00:00, 28858.28it/s]\n",
      "287it [00:00, 17900.39it/s]\n",
      "287it [00:00, 32273.39it/s]\n",
      "287it [00:00, 39861.10it/s]\n",
      "287it [00:00, 41629.73it/s]\n",
      "287it [00:00, 40056.08it/s]\n",
      "287it [00:00, 39111.22it/s]\n",
      "287it [00:00, 41793.05it/s]\n",
      "287it [00:00, 39256.63it/s]\n",
      "287it [00:00, 37857.82it/s]\n",
      "287it [00:00, 40773.81it/s]\n",
      "287it [00:00, 39972.28it/s]\n",
      "287it [00:00, 40388.03it/s]\n",
      "287it [00:00, 40085.42it/s]\n",
      "287it [00:00, 27782.62it/s]\n",
      "287it [00:00, 39068.07it/s]\n",
      "287it [00:00, 40398.87it/s]\n",
      "287it [00:00, 42733.69it/s]\n",
      "287it [00:00, 43479.20it/s]\n",
      "287it [00:00, 43080.85it/s]\n",
      "287it [00:00, 41964.97it/s]\n",
      "287it [00:00, 42229.97it/s]\n",
      "287it [00:00, 43165.82it/s]\n",
      "287it [00:00, 42187.05it/s]\n",
      "287it [00:00, 43338.32it/s]\n",
      "287it [00:00, 41552.13it/s]\n",
      "287it [00:00, 38307.19it/s]\n",
      "287it [00:00, 43803.55it/s]\n",
      "287it [00:00, 42262.59it/s]\n",
      "287it [00:00, 43504.35it/s]\n",
      "287it [00:00, 41874.47it/s]\n"
     ]
    }
   ],
   "execution_count": 14
  },
  {
   "metadata": {},
   "cell_type": "markdown",
   "source": "## Evaluation",
   "id": "bc55db2f0b269b3c"
  },
  {
   "metadata": {
    "ExecuteTime": {
     "end_time": "2024-11-10T11:34:14.833735Z",
     "start_time": "2024-11-10T11:34:14.504353Z"
    }
   },
   "cell_type": "code",
   "source": [
    "from src.metrics import MeanAveragePrecisionAtK\n",
    "\n",
    "map = MeanAveragePrecisionAtK()"
   ],
   "id": "951860a122b27de6",
   "outputs": [],
   "execution_count": 15
  },
  {
   "metadata": {
    "ExecuteTime": {
     "end_time": "2024-11-10T11:34:14.841953Z",
     "start_time": "2024-11-10T11:34:14.839965Z"
    }
   },
   "cell_type": "code",
   "source": [
    "GT_mod = []\n",
    "for element in GT_QSD1_W4_LIST:\n",
    "    if len(element) == 2:\n",
    "        GT_mod.append([element[0]])\n",
    "        GT_mod.append([element[1]])\n",
    "    else:\n",
    "        GT_mod.append([element[0]])\n",
    "\n",
    "retrieved_images_d1 = results[descriptor_name]\n",
    "results_mod = []\n",
    "for element in retrieved_images_d1:\n",
    "    for e in element:\n",
    "        results_mod.append(e)\n",
    "\n",
    "print(GT_mod)\n",
    "print(results_mod)"
   ],
   "id": "fca8a412d2e08105",
   "outputs": [
    {
     "name": "stdout",
     "output_type": "stream",
     "text": [
      "[[-1], [150], [48], [251], [32], [161], [81], [62], [38], [-1], [128], [155], [258], [136], [76], [-1], [-1], [53], [-1], [12], [11], [280], [-1], [182], [252], [-1], [272], [117], [-1], [242], [260], [94], [132], [223], [-1], [127], [47], [13], [-1]]\n",
      "[[-1], [-1], [48, 21, 11, 92, 35, 46, 238, 93, 139, 40], [-1], [32, 11, 104, 282, 40, 140, 193, 238, 21, 88], [161, 11, 40, 193, 238, 88, 104, 93, 254, 92], [81, 11, 40, 93, 54, 238, 88, 104, 32, 92], [-1], [-1], [-1], [-1], [-1], [76, 191, 40, 21, 253, 16, 74, 249, 43, 46], [-1], [11, 40, 54, 238, 32, 195, 282, 21, 104, 60], [53, 238, 54, 254, 11, 92, 93, 21, 74, 46], [93, 197, 46, 198, 78, 274, 11, 21, 250, 156], [12, 92, 21, 93, 74, 11, 78, 107, 156, 25], [11, 238, 54, 282, 40, 104, 174, 246, 92, 21], [-1], [169, 26, 37, 5, 220, 165, 66, 108, 240, 61], [-1], [233, 21, 191, 57, 74, 3, 282, 92, 40, 11], [252, 215, 237, 133, 29, 58, 57, 218, 259, 163], [93, 78, 46, 197, 156, 16, 198, 274, 92, 21], [176, 210, 214, 255, 40, 191, 282, 194, 245, 54], [11, 40, 238, 54, 282, 92, 180, 21, 241, 32], [242, 176, 221, 105, 282, 107, 167, 21, 78, 40], [260, 60, 40, 123, 174, 29, 113, 11, 88, 244], [-1], [132, 137, 63, 237, 104, 271, 174, 60, 46, 11], [-1], [-1], [127, 78, 92, 21, 93, 11, 241, 105, 40, 254], [-1], [-1]]\n"
     ]
    }
   ],
   "execution_count": 16
  },
  {
   "metadata": {
    "ExecuteTime": {
     "end_time": "2024-11-10T11:34:14.851265Z",
     "start_time": "2024-11-10T11:34:14.849624Z"
    }
   },
   "cell_type": "code",
   "source": [
    "result = map.compute(GT_mod, results_mod, k=10)\n",
    "print(f\"MAP QSD1_W4 Method Week 3: {result}\")"
   ],
   "id": "92fde159e6d96b8b",
   "outputs": [
    {
     "name": "stdout",
     "output_type": "stream",
     "text": [
      "MAP QSD1_W4 Method Week 3: 0.19444444444444445\n"
     ]
    }
   ],
   "execution_count": 17
  },
  {
   "metadata": {
    "ExecuteTime": {
     "end_time": "2024-11-10T11:34:14.871255Z",
     "start_time": "2024-11-10T11:34:14.869926Z"
    }
   },
   "cell_type": "code",
   "source": "",
   "id": "a6f9dee8974326b2",
   "outputs": [],
   "execution_count": null
  }
 ],
 "metadata": {
  "kernelspec": {
   "display_name": "venv",
   "language": "python",
   "name": "python3"
  },
  "language_info": {
   "codemirror_mode": {
    "name": "ipython",
    "version": 3
   },
   "file_extension": ".py",
   "mimetype": "text/x-python",
   "name": "python",
   "nbconvert_exporter": "python",
   "pygments_lexer": "ipython3",
   "version": "3.12.6"
  }
 },
 "nbformat": 4,
 "nbformat_minor": 5
}
